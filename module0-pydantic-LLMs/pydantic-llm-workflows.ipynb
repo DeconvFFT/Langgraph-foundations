{
 "cells": [
  {
   "cell_type": "markdown",
   "id": "b6612ed9",
   "metadata": {},
   "source": [
    "# Pydantic for LLM workflows"
   ]
  },
  {
   "cell_type": "markdown",
   "id": "f0393bfb",
   "metadata": {},
   "source": [
    "## Basics"
   ]
  },
  {
   "cell_type": "code",
   "execution_count": 1,
   "id": "8028ac22",
   "metadata": {},
   "outputs": [],
   "source": [
    "from pydantic import BaseModel, Field, ValidationError, EmailStr\n",
    "from typing import Optional\n",
    "from datetime import date\n",
    "class UserInput(BaseModel):\n",
    "    name: str = Field(...,description=\"The name of the user\")\n",
    "    email: EmailStr = Field(...,description=\"The email of the user\")\n",
    "    query: str = Field(...,description=\"The query of the user\")\n",
    "    order_id : Optional[int] = Field(\n",
    "        None, \n",
    "        description=\"5 digit order number (cannot start with 0)\",\n",
    "        ge=10000,\n",
    "        le=99999\n",
    "    )\n",
    "    purchase_date: Optional[date] = None"
   ]
  },
  {
   "cell_type": "code",
   "execution_count": null,
   "id": "acc0386f",
   "metadata": {},
   "outputs": [
    {
     "name": "stdout",
     "output_type": "stream",
     "text": [
      "name='abc' email='abc12@gmail.com' query='How can I cancel my subscription?' order_id=None purchase_date=None\n"
     ]
    }
   ],
   "source": [
    "## validate input with our simple Pydantic model\n",
    "user = UserInput(\n",
    "    name = \"abc\",\n",
    "    email =\"abc12@gmail.com\",\n",
    "    query =\"How can I cancel my subscription?\",\n",
    ")\n",
    "print(user)"
   ]
  },
  {
   "cell_type": "code",
   "execution_count": 3,
   "id": "23d1ee49",
   "metadata": {},
   "outputs": [
    {
     "name": "stdout",
     "output_type": "stream",
     "text": [
      "Validated user input: ✅ {'name': '123', 'email': 'john.doe@example.com', 'query': 'How can I cancel my subscription?'}\n"
     ]
    },
    {
     "data": {
      "text/plain": [
       "UserInput(name='123', email='john.doe@example.com', query='How can I cancel my subscription?', order_id=None, purchase_date=None)"
      ]
     },
     "execution_count": 3,
     "metadata": {},
     "output_type": "execute_result"
    }
   ],
   "source": [
    "# defining fucntions to handle user input validations safely\n",
    "from typing import Union\n",
    "def validate_user_input(input_data: dict) -> Union[UserInput, None]:\n",
    "    try: \n",
    "        user_input = UserInput(**input_data)\n",
    "        print(f\"Validated user input: ✅ {input_data}\")\n",
    "        return user_input\n",
    "    except ValidationError as e:\n",
    "        print(f\"Validation error: ❌ {e}\")\n",
    "        return None\n",
    "    \n",
    "# test the function\n",
    "user_input = {\n",
    "    'name': '123',\n",
    "    'email': 'john.doe@example.com',\n",
    "    'query': 'How can I cancel my subscription?'\n",
    "}\n",
    "validate_user_input(user_input)"
   ]
  },
  {
   "cell_type": "code",
   "execution_count": 4,
   "id": "cd8fecd5",
   "metadata": {},
   "outputs": [
    {
     "name": "stdout",
     "output_type": "stream",
     "text": [
      "Validation error: ❌ 1 validation error for UserInput\n",
      "name\n",
      "  Field required [type=missing, input_value={'email': 'john.doe@examp...ancel my subscription?'}, input_type=dict]\n",
      "    For further information visit https://errors.pydantic.dev/2.11/v/missing\n"
     ]
    }
   ],
   "source": [
    "# test the function\n",
    "user_input = {\n",
    "    'email': 'john.doe@example.com',\n",
    "    'query': 'How can I cancel my subscription?'\n",
    "}\n",
    "validate_user_input(user_input)"
   ]
  },
  {
   "cell_type": "code",
   "execution_count": 6,
   "id": "a611395b",
   "metadata": {},
   "outputs": [
    {
     "name": "stdout",
     "output_type": "stream",
     "text": [
      "Validated user input: ✅ {'email': 'john.doe@example.com', 'query': 'How can I cancel my subscription?', 'name': 'abc', 'order_id': 40000, 'purchase_date': '2020-10-02'}\n"
     ]
    },
    {
     "data": {
      "text/plain": [
       "UserInput(name='abc', email='john.doe@example.com', query='How can I cancel my subscription?', order_id=40000, purchase_date=datetime.date(2020, 10, 2))"
      ]
     },
     "execution_count": 6,
     "metadata": {},
     "output_type": "execute_result"
    }
   ],
   "source": [
    "# test the function\n",
    "user_input = {\n",
    "    'email': 'john.doe@example.com',\n",
    "    'query': 'How can I cancel my subscription?',\n",
    "    'name':'abc',\n",
    "    'order_id': 40000,\n",
    "    'purchase_date':'2020-10-02'\n",
    "}\n",
    "validate_user_input(user_input)"
   ]
  },
  {
   "cell_type": "markdown",
   "id": "8ef5194d",
   "metadata": {},
   "source": [
    "# Validating Json + Data fields\n",
    "- using model_validate_json"
   ]
  },
  {
   "cell_type": "code",
   "execution_count": 10,
   "id": "d157bd4f",
   "metadata": {},
   "outputs": [
    {
     "name": "stdout",
     "output_type": "stream",
     "text": [
      "Validating good json: ✅ name='abc' email='john.doe@example.com' query='How can I cancel my subscription?' order_id=40000 purchase_date=datetime.date(2020, 10, 2)\n"
     ]
    },
    {
     "ename": "ValidationError",
     "evalue": "1 validation error for UserInput\n  Invalid JSON: trailing characters at line 3 column 10 [type=json_invalid, input_value='\\n\\n  \"email\": \"john.doe...ate\": \"2020-10-02\"\\n}\\n', input_type=str]\n    For further information visit https://errors.pydantic.dev/2.11/v/json_invalid",
     "output_type": "error",
     "traceback": [
      "\u001b[31m---------------------------------------------------------------------------\u001b[39m",
      "\u001b[31mValidationError\u001b[39m                           Traceback (most recent call last)",
      "\u001b[36mCell\u001b[39m\u001b[36m \u001b[39m\u001b[32mIn[10]\u001b[39m\u001b[32m, line 31\u001b[39m\n\u001b[32m     20\u001b[39m json_data_bad_data_fmt = \u001b[33m'''\u001b[39m\n\u001b[32m     21\u001b[39m \u001b[33m{\u001b[39m\n\u001b[32m     22\u001b[39m \u001b[33m  \u001b[39m\u001b[33m\"\u001b[39m\u001b[33memail\u001b[39m\u001b[33m\"\u001b[39m\u001b[33m: \u001b[39m\u001b[33m\"\u001b[39m\u001b[33mjohn.doe@example.com\u001b[39m\u001b[33m\"\u001b[39m\u001b[33m,\u001b[39m\n\u001b[32m   (...)\u001b[39m\u001b[32m     27\u001b[39m \u001b[33m}\u001b[39m\n\u001b[32m     28\u001b[39m \u001b[33m'''\u001b[39m\n\u001b[32m     30\u001b[39m \u001b[38;5;28mprint\u001b[39m(\u001b[33mf\u001b[39m\u001b[33m'\u001b[39m\u001b[33mValidating good json: ✅ \u001b[39m\u001b[38;5;132;01m{\u001b[39;00mUserInput.model_validate_json(json_data_good)\u001b[38;5;132;01m}\u001b[39;00m\u001b[33m'\u001b[39m)\n\u001b[32m---> \u001b[39m\u001b[32m31\u001b[39m \u001b[38;5;28mprint\u001b[39m(\u001b[33mf\u001b[39m\u001b[33m'\u001b[39m\u001b[33mValidating json with bad JSON formatting: ‼️ \u001b[39m\u001b[38;5;132;01m{\u001b[39;00m\u001b[43mUserInput\u001b[49m\u001b[43m.\u001b[49m\u001b[43mmodel_validate_json\u001b[49m\u001b[43m(\u001b[49m\u001b[43mjson_data_bad_json_fmt\u001b[49m\u001b[43m)\u001b[49m\u001b[38;5;132;01m}\u001b[39;00m\u001b[33m'\u001b[39m)\n",
      "\u001b[36mFile \u001b[39m\u001b[32m~/Gen AI/Langgraph-foundations/.venv/lib/python3.12/site-packages/pydantic/main.py:746\u001b[39m, in \u001b[36mBaseModel.model_validate_json\u001b[39m\u001b[34m(cls, json_data, strict, context, by_alias, by_name)\u001b[39m\n\u001b[32m    740\u001b[39m \u001b[38;5;28;01mif\u001b[39;00m by_alias \u001b[38;5;129;01mis\u001b[39;00m \u001b[38;5;28;01mFalse\u001b[39;00m \u001b[38;5;129;01mand\u001b[39;00m by_name \u001b[38;5;129;01mis\u001b[39;00m \u001b[38;5;129;01mnot\u001b[39;00m \u001b[38;5;28;01mTrue\u001b[39;00m:\n\u001b[32m    741\u001b[39m     \u001b[38;5;28;01mraise\u001b[39;00m PydanticUserError(\n\u001b[32m    742\u001b[39m         \u001b[33m'\u001b[39m\u001b[33mAt least one of `by_alias` or `by_name` must be set to True.\u001b[39m\u001b[33m'\u001b[39m,\n\u001b[32m    743\u001b[39m         code=\u001b[33m'\u001b[39m\u001b[33mvalidate-by-alias-and-name-false\u001b[39m\u001b[33m'\u001b[39m,\n\u001b[32m    744\u001b[39m     )\n\u001b[32m--> \u001b[39m\u001b[32m746\u001b[39m \u001b[38;5;28;01mreturn\u001b[39;00m \u001b[38;5;28;43mcls\u001b[39;49m\u001b[43m.\u001b[49m\u001b[43m__pydantic_validator__\u001b[49m\u001b[43m.\u001b[49m\u001b[43mvalidate_json\u001b[49m\u001b[43m(\u001b[49m\n\u001b[32m    747\u001b[39m \u001b[43m    \u001b[49m\u001b[43mjson_data\u001b[49m\u001b[43m,\u001b[49m\u001b[43m \u001b[49m\u001b[43mstrict\u001b[49m\u001b[43m=\u001b[49m\u001b[43mstrict\u001b[49m\u001b[43m,\u001b[49m\u001b[43m \u001b[49m\u001b[43mcontext\u001b[49m\u001b[43m=\u001b[49m\u001b[43mcontext\u001b[49m\u001b[43m,\u001b[49m\u001b[43m \u001b[49m\u001b[43mby_alias\u001b[49m\u001b[43m=\u001b[49m\u001b[43mby_alias\u001b[49m\u001b[43m,\u001b[49m\u001b[43m \u001b[49m\u001b[43mby_name\u001b[49m\u001b[43m=\u001b[49m\u001b[43mby_name\u001b[49m\n\u001b[32m    748\u001b[39m \u001b[43m\u001b[49m\u001b[43m)\u001b[49m\n",
      "\u001b[31mValidationError\u001b[39m: 1 validation error for UserInput\n  Invalid JSON: trailing characters at line 3 column 10 [type=json_invalid, input_value='\\n\\n  \"email\": \"john.doe...ate\": \"2020-10-02\"\\n}\\n', input_type=str]\n    For further information visit https://errors.pydantic.dev/2.11/v/json_invalid"
     ]
    }
   ],
   "source": [
    "json_data_good = '''\n",
    "{\n",
    "  \"email\": \"john.doe@example.com\",\n",
    "  \"query\": \"How can I cancel my subscription?\",\n",
    "  \"name\": \"abc\",\n",
    "  \"order_id\": 40000,\n",
    "  \"purchase_date\": \"2020-10-02\"\n",
    "}\n",
    "'''\n",
    "json_data_bad_json_fmt = '''\n",
    "\n",
    "  \"email\": \"john.doe@example.com\",\n",
    "  \"query\": \"How can I cancel my subscription?\",\n",
    "  \"name\": \"abc\",\n",
    "  \"order_id\": 40000,\n",
    "  \"purchase_date\": \"2020-10-02\"\n",
    "}\n",
    "'''\n",
    "\n",
    "json_data_bad_data_fmt = '''\n",
    "{\n",
    "  \"email\": \"john.doe@example.com\",\n",
    "  \"query\": \"How can I cancel my subscription?\",\n",
    "  \"name\": 123,\n",
    "  \"order_id\": 03000,\n",
    "  \"purchase_date\": \"2020-10-02\"\n",
    "}\n",
    "'''\n",
    "\n",
    "print(f'Validating good json: ✅ {UserInput.model_validate_json(json_data_good)}')\n",
    "print(f'Validating json with bad JSON formatting: ‼️ {UserInput.model_validate_json(json_data_bad_json_fmt)}')"
   ]
  },
  {
   "cell_type": "code",
   "execution_count": 12,
   "id": "f9411622",
   "metadata": {},
   "outputs": [
    {
     "ename": "ValidationError",
     "evalue": "1 validation error for UserInput\n  Invalid JSON: invalid number at line 6 column 16 [type=json_invalid, input_value='\\n{\\n  \"email\": \"john.do...ate\": \"2020-10-02\"\\n}\\n', input_type=str]\n    For further information visit https://errors.pydantic.dev/2.11/v/json_invalid",
     "output_type": "error",
     "traceback": [
      "\u001b[31m---------------------------------------------------------------------------\u001b[39m",
      "\u001b[31mValidationError\u001b[39m                           Traceback (most recent call last)",
      "\u001b[36mCell\u001b[39m\u001b[36m \u001b[39m\u001b[32mIn[12]\u001b[39m\u001b[32m, line 1\u001b[39m\n\u001b[32m----> \u001b[39m\u001b[32m1\u001b[39m \u001b[38;5;28mprint\u001b[39m(\u001b[33mf\u001b[39m\u001b[33m'\u001b[39m\u001b[33mValidating json with bad JSON formatting: ‼️ \u001b[39m\u001b[38;5;132;01m{\u001b[39;00m\u001b[43mUserInput\u001b[49m\u001b[43m.\u001b[49m\u001b[43mmodel_validate_json\u001b[49m\u001b[43m(\u001b[49m\u001b[43mjson_data_bad_data_fmt\u001b[49m\u001b[43m)\u001b[49m\u001b[38;5;132;01m}\u001b[39;00m\u001b[33m'\u001b[39m)\n",
      "\u001b[36mFile \u001b[39m\u001b[32m~/Gen AI/Langgraph-foundations/.venv/lib/python3.12/site-packages/pydantic/main.py:746\u001b[39m, in \u001b[36mBaseModel.model_validate_json\u001b[39m\u001b[34m(cls, json_data, strict, context, by_alias, by_name)\u001b[39m\n\u001b[32m    740\u001b[39m \u001b[38;5;28;01mif\u001b[39;00m by_alias \u001b[38;5;129;01mis\u001b[39;00m \u001b[38;5;28;01mFalse\u001b[39;00m \u001b[38;5;129;01mand\u001b[39;00m by_name \u001b[38;5;129;01mis\u001b[39;00m \u001b[38;5;129;01mnot\u001b[39;00m \u001b[38;5;28;01mTrue\u001b[39;00m:\n\u001b[32m    741\u001b[39m     \u001b[38;5;28;01mraise\u001b[39;00m PydanticUserError(\n\u001b[32m    742\u001b[39m         \u001b[33m'\u001b[39m\u001b[33mAt least one of `by_alias` or `by_name` must be set to True.\u001b[39m\u001b[33m'\u001b[39m,\n\u001b[32m    743\u001b[39m         code=\u001b[33m'\u001b[39m\u001b[33mvalidate-by-alias-and-name-false\u001b[39m\u001b[33m'\u001b[39m,\n\u001b[32m    744\u001b[39m     )\n\u001b[32m--> \u001b[39m\u001b[32m746\u001b[39m \u001b[38;5;28;01mreturn\u001b[39;00m \u001b[38;5;28;43mcls\u001b[39;49m\u001b[43m.\u001b[49m\u001b[43m__pydantic_validator__\u001b[49m\u001b[43m.\u001b[49m\u001b[43mvalidate_json\u001b[49m\u001b[43m(\u001b[49m\n\u001b[32m    747\u001b[39m \u001b[43m    \u001b[49m\u001b[43mjson_data\u001b[49m\u001b[43m,\u001b[49m\u001b[43m \u001b[49m\u001b[43mstrict\u001b[49m\u001b[43m=\u001b[49m\u001b[43mstrict\u001b[49m\u001b[43m,\u001b[49m\u001b[43m \u001b[49m\u001b[43mcontext\u001b[49m\u001b[43m=\u001b[49m\u001b[43mcontext\u001b[49m\u001b[43m,\u001b[49m\u001b[43m \u001b[49m\u001b[43mby_alias\u001b[49m\u001b[43m=\u001b[49m\u001b[43mby_alias\u001b[49m\u001b[43m,\u001b[49m\u001b[43m \u001b[49m\u001b[43mby_name\u001b[49m\u001b[43m=\u001b[49m\u001b[43mby_name\u001b[49m\n\u001b[32m    748\u001b[39m \u001b[43m\u001b[49m\u001b[43m)\u001b[49m\n",
      "\u001b[31mValidationError\u001b[39m: 1 validation error for UserInput\n  Invalid JSON: invalid number at line 6 column 16 [type=json_invalid, input_value='\\n{\\n  \"email\": \"john.do...ate\": \"2020-10-02\"\\n}\\n', input_type=str]\n    For further information visit https://errors.pydantic.dev/2.11/v/json_invalid"
     ]
    }
   ],
   "source": [
    "print(f'Validating json with bad JSON formatting: ‼️ {UserInput.model_validate_json(json_data_bad_data_fmt)}')"
   ]
  },
  {
   "cell_type": "markdown",
   "id": "619c7c2b",
   "metadata": {},
   "source": [
    "# Validating LLM response with Pydantic"
   ]
  },
  {
   "cell_type": "code",
   "execution_count": 15,
   "id": "4001a710",
   "metadata": {},
   "outputs": [
    {
     "data": {
      "text/plain": [
       "True"
      ]
     },
     "execution_count": 15,
     "metadata": {},
     "output_type": "execute_result"
    }
   ],
   "source": [
    "# imports\n",
    "from pydantic import BaseModel, ValidationError, Field, EmailStr\n",
    "from typing import List, Literal, Optional\n",
    "import json\n",
    "from datetime import date\n",
    "from dotenv import load_dotenv\n",
    "import openai\n",
    "load_dotenv()"
   ]
  },
  {
   "cell_type": "code",
   "execution_count": 16,
   "id": "1490c484",
   "metadata": {},
   "outputs": [],
   "source": [
    "client = openai.OpenAI()"
   ]
  },
  {
   "cell_type": "code",
   "execution_count": 19,
   "id": "84c49860",
   "metadata": {},
   "outputs": [],
   "source": [
    "user_input_json = '''\n",
    "{\n",
    "  \"email\": \"john.doe@example.com\",\n",
    "  \"query\": \"How can I cancel my subscription?\",\n",
    "  \"name\": \"abc\",\n",
    "  \"order_id\": null,\n",
    "  \"purchase_date\": null\n",
    "}\n",
    "'''"
   ]
  },
  {
   "cell_type": "code",
   "execution_count": 18,
   "id": "ab6de73e",
   "metadata": {},
   "outputs": [],
   "source": [
    "class UserInput(BaseModel):\n",
    "    name: str = Field(...,description=\"The name of the user\")\n",
    "    email: EmailStr = Field(...,description=\"The email of the user\")\n",
    "    query: str = Field(...,description=\"The query of the user\")\n",
    "    order_id : Optional[int] = Field(\n",
    "        None, \n",
    "        description=\"5 digit order number (cannot start with 0)\",\n",
    "        ge=10000,\n",
    "        le=99999\n",
    "    )\n",
    "    purchase_date: Optional[date] = None"
   ]
  },
  {
   "cell_type": "code",
   "execution_count": 20,
   "id": "bb5a50a6",
   "metadata": {},
   "outputs": [],
   "source": [
    "user_input = UserInput.model_validate_json(user_input_json)"
   ]
  },
  {
   "cell_type": "code",
   "execution_count": null,
   "id": "69deb868",
   "metadata": {},
   "outputs": [],
   "source": [
    "# Customer Query Model\n",
    "class CustomerQuery(UserInput):\n",
    "    priority:str = Field(...,\n",
    "                         description=\"Priority level: low, medium, high\")\n",
    "    category: Literal['refund_request', 'information_request', 'other'] = Field(...,\n",
    "                                                                                description='Query Category')\n",
    "    is_complaint: bool = Field(...,\n",
    "                               description='Whether this is a complaint or not?')\n",
    "    tags: List[str] = Field(...,\n",
    "                             description='Relevant keywords tags')"
   ]
  },
  {
   "cell_type": "code",
   "execution_count": 22,
   "id": "61aa0afa",
   "metadata": {},
   "outputs": [],
   "source": [
    "## give an example response to LLM to let it know what you expect as output\n",
    "example_response_structure = f\"\"\"{{\n",
    "    name =\"Example User\",\n",
    "    email = \"user@example.com\"\n",
    "    query = \"I ordered a new computer monitor and it arrived with a broken screen\"\n",
    "    order_id = 12345\n",
    "    purchase_date = \"2023-11-10\"\n",
    "    priority = \"medium\"\n",
    "    category = \"refund_request\"\n",
    "    is_complaint = True\n",
    "    tags = [\"monitor\",\"support\",\"exchange\"]\n",
    "}}\"\"\""
   ]
  },
  {
   "cell_type": "code",
   "execution_count": 25,
   "id": "89979f9d",
   "metadata": {},
   "outputs": [
    {
     "name": "stdout",
     "output_type": "stream",
     "text": [
      " \n",
      "Please analyse this user query\n",
      "{\n",
      "  \"name\": \"abc\",\n",
      "  \"email\": \"john.doe@example.com\",\n",
      "  \"query\": \"How can I cancel my subscription?\",\n",
      "  \"order_id\": null,\n",
      "  \"purchase_date\": null\n",
      "}:\n",
      "\n",
      "Return your analysis as a JSON object matching this exact structure\n",
      "and datatypes:\n",
      "{\n",
      "    name =\"Example User\",\n",
      "    email = \"user@example.com\"\n",
      "    query = \"I ordered a new computer monitor and it arrived with a broken screen\"\n",
      "    order_id = 12345\n",
      "    purchase_date = \"2023-11-10\"\n",
      "    priority = \"medium\"\n",
      "    category = \"refund_request\"\n",
      "    is_complaint = True\n",
      "    tags = [\"monitor\",\"support\",\"exchange\"]\n",
      "}\n",
      "\n",
      "Respond ONLY with valid JSON. Do not include andy explanations or \n",
      "other text or formatting before or after JSON object\n",
      "\n"
     ]
    }
   ],
   "source": [
    "llm_prompt = f\"\"\" \n",
    "Please analyse this user query\\n{user_input.model_dump_json(indent=2)}:\n",
    "\n",
    "Return your analysis as a JSON object matching this exact structure\n",
    "and datatypes:\n",
    "{example_response_structure}\n",
    "\n",
    "Respond ONLY with valid JSON. Do not include andy explanations or \n",
    "other text or formatting before or after JSON object\n",
    "\"\"\"\n",
    "print(llm_prompt)"
   ]
  },
  {
   "cell_type": "code",
   "execution_count": 26,
   "id": "a4592912",
   "metadata": {},
   "outputs": [],
   "source": [
    "# call LLM\n",
    "def call_llm(prompt, model=\"gpt-4o\"):\n",
    "    response = client.chat.completions.create(\n",
    "        model = model,\n",
    "        messages=[{\"role\":\"user\", \"content\":prompt}]\n",
    "    )\n",
    "    return response.choices[0].message.content"
   ]
  },
  {
   "cell_type": "code",
   "execution_count": 27,
   "id": "556840e5",
   "metadata": {},
   "outputs": [
    {
     "name": "stdout",
     "output_type": "stream",
     "text": [
      "```json\n",
      "{\n",
      "    \"name\": \"abc\",\n",
      "    \"email\": \"john.doe@example.com\",\n",
      "    \"query\": \"How can I cancel my subscription?\",\n",
      "    \"order_id\": null,\n",
      "    \"purchase_date\": null,\n",
      "    \"priority\": \"high\",\n",
      "    \"category\": \"subscription_cancellation\",\n",
      "    \"is_complaint\": false,\n",
      "    \"tags\": [\"subscription\", \"cancellation\", \"support\"]\n",
      "}\n",
      "```\n"
     ]
    }
   ],
   "source": [
    "response_content = call_llm(llm_prompt)\n",
    "print(response_content)"
   ]
  },
  {
   "cell_type": "code",
   "execution_count": 29,
   "id": "ac6da141",
   "metadata": {},
   "outputs": [
    {
     "ename": "ValidationError",
     "evalue": "1 validation error for CustomerQuery\n  Invalid JSON: expected value at line 1 column 1 [type=json_invalid, input_value='```json\\n{\\n    \"name\": ...on\", \"support\"]\\n}\\n```', input_type=str]\n    For further information visit https://errors.pydantic.dev/2.11/v/json_invalid",
     "output_type": "error",
     "traceback": [
      "\u001b[31m---------------------------------------------------------------------------\u001b[39m",
      "\u001b[31mValidationError\u001b[39m                           Traceback (most recent call last)",
      "\u001b[36mCell\u001b[39m\u001b[36m \u001b[39m\u001b[32mIn[29]\u001b[39m\u001b[32m, line 1\u001b[39m\n\u001b[32m----> \u001b[39m\u001b[32m1\u001b[39m \u001b[43mCustomerQuery\u001b[49m\u001b[43m.\u001b[49m\u001b[43mmodel_validate_json\u001b[49m\u001b[43m(\u001b[49m\u001b[43mresponse_content\u001b[49m\u001b[43m)\u001b[49m\n",
      "\u001b[36mFile \u001b[39m\u001b[32m~/Gen AI/Langgraph-foundations/.venv/lib/python3.12/site-packages/pydantic/main.py:746\u001b[39m, in \u001b[36mBaseModel.model_validate_json\u001b[39m\u001b[34m(cls, json_data, strict, context, by_alias, by_name)\u001b[39m\n\u001b[32m    740\u001b[39m \u001b[38;5;28;01mif\u001b[39;00m by_alias \u001b[38;5;129;01mis\u001b[39;00m \u001b[38;5;28;01mFalse\u001b[39;00m \u001b[38;5;129;01mand\u001b[39;00m by_name \u001b[38;5;129;01mis\u001b[39;00m \u001b[38;5;129;01mnot\u001b[39;00m \u001b[38;5;28;01mTrue\u001b[39;00m:\n\u001b[32m    741\u001b[39m     \u001b[38;5;28;01mraise\u001b[39;00m PydanticUserError(\n\u001b[32m    742\u001b[39m         \u001b[33m'\u001b[39m\u001b[33mAt least one of `by_alias` or `by_name` must be set to True.\u001b[39m\u001b[33m'\u001b[39m,\n\u001b[32m    743\u001b[39m         code=\u001b[33m'\u001b[39m\u001b[33mvalidate-by-alias-and-name-false\u001b[39m\u001b[33m'\u001b[39m,\n\u001b[32m    744\u001b[39m     )\n\u001b[32m--> \u001b[39m\u001b[32m746\u001b[39m \u001b[38;5;28;01mreturn\u001b[39;00m \u001b[38;5;28;43mcls\u001b[39;49m\u001b[43m.\u001b[49m\u001b[43m__pydantic_validator__\u001b[49m\u001b[43m.\u001b[49m\u001b[43mvalidate_json\u001b[49m\u001b[43m(\u001b[49m\n\u001b[32m    747\u001b[39m \u001b[43m    \u001b[49m\u001b[43mjson_data\u001b[49m\u001b[43m,\u001b[49m\u001b[43m \u001b[49m\u001b[43mstrict\u001b[49m\u001b[43m=\u001b[49m\u001b[43mstrict\u001b[49m\u001b[43m,\u001b[49m\u001b[43m \u001b[49m\u001b[43mcontext\u001b[49m\u001b[43m=\u001b[49m\u001b[43mcontext\u001b[49m\u001b[43m,\u001b[49m\u001b[43m \u001b[49m\u001b[43mby_alias\u001b[49m\u001b[43m=\u001b[49m\u001b[43mby_alias\u001b[49m\u001b[43m,\u001b[49m\u001b[43m \u001b[49m\u001b[43mby_name\u001b[49m\u001b[43m=\u001b[49m\u001b[43mby_name\u001b[49m\n\u001b[32m    748\u001b[39m \u001b[43m\u001b[49m\u001b[43m)\u001b[49m\n",
      "\u001b[31mValidationError\u001b[39m: 1 validation error for CustomerQuery\n  Invalid JSON: expected value at line 1 column 1 [type=json_invalid, input_value='```json\\n{\\n    \"name\": ...on\", \"support\"]\\n}\\n```', input_type=str]\n    For further information visit https://errors.pydantic.dev/2.11/v/json_invalid"
     ]
    }
   ],
   "source": [
    "CustomerQuery.model_validate_json(response_content)"
   ]
  },
  {
   "cell_type": "code",
   "execution_count": 30,
   "id": "140bf8f7",
   "metadata": {},
   "outputs": [],
   "source": [
    "# function to catch validation errors gracefully\n",
    "def validate_llm_responses(data_model, llm_response):\n",
    "    try:\n",
    "        validated_data = data_model.model_validate_json(llm_response)\n",
    "        print(f\"Data validation Successfull: ✅\")\n",
    "        print(validated_data.model_dump_json(indent=2))\n",
    "        return validated_data, None\n",
    "    except ValidationError as e:\n",
    "        print(f\"❌ Error Validating data: {e}\")\n",
    "        error_message = {\n",
    "            f\"This response generated a validation error: {e}\"\n",
    "        }\n",
    "        return None, error_message"
   ]
  },
  {
   "cell_type": "code",
   "execution_count": 37,
   "id": "823d7f52",
   "metadata": {},
   "outputs": [
    {
     "name": "stdout",
     "output_type": "stream",
     "text": [
      "❌ Error Validating data: 1 validation error for CustomerQuery\n",
      "  Invalid JSON: expected value at line 1 column 1 [type=json_invalid, input_value='```json\\n{\\n    \"name\": ...on\", \"support\"]\\n}\\n```', input_type=str]\n",
      "    For further information visit https://errors.pydantic.dev/2.11/v/json_invalid\n",
      "{'This response generated a validation error: 1 validation error for CustomerQuery\\n  Invalid JSON: expected value at line 1 column 1 [type=json_invalid, input_value=\\'```json\\\\n{\\\\n    \"name\": ...on\", \"support\"]\\\\n}\\\\n```\\', input_type=str]\\n    For further information visit https://errors.pydantic.dev/2.11/v/json_invalid'}\n"
     ]
    }
   ],
   "source": [
    "validated_data, validation_error = validate_llm_responses(CustomerQuery, response_content)\n",
    "print(validation_error)"
   ]
  },
  {
   "cell_type": "code",
   "execution_count": 33,
   "id": "2f287ee5",
   "metadata": {},
   "outputs": [],
   "source": [
    "# Create a retry feedback loop\n",
    "def create_retry_prompt(\n",
    "    original_prompt,\n",
    "    original_response, \n",
    "    error_message\n",
    "):\n",
    "    retry_prompt = f\"\"\" \n",
    "    There is a request to fix an error in the structure of llm response. \n",
    "    Here is the original request\n",
    "    <original_prompt>\n",
    "    {original_prompt}\n",
    "    </original_prompt>\n",
    "    \n",
    "    Here is the original llm response:\n",
    "    <llm_response>\n",
    "    {original_response}\n",
    "    </llm_response>\n",
    "    \n",
    "    This response generated an error:\n",
    "    <error_message>\n",
    "    {error_message}\n",
    "    </error_message>\n",
    "    \n",
    "    Compare the error message and the llm_response and identify what needs to be fixed or removed\n",
    "    in the llm_response to resolve this error.\n",
    "    \n",
    "    Respond ONLY with valid JSON. Do not include any explanations or other text or formatting before or after the JSON string\n",
    "    \"\"\"\n",
    "    return retry_prompt"
   ]
  },
  {
   "cell_type": "code",
   "execution_count": 38,
   "id": "66d20e81",
   "metadata": {},
   "outputs": [
    {
     "name": "stdout",
     "output_type": "stream",
     "text": [
      " \n",
      "    There is a request to fix an error in the structure of llm response. \n",
      "    Here is the original request\n",
      "    <original_prompt>\n",
      "     \n",
      "Please analyse this user query\n",
      "{\n",
      "  \"name\": \"abc\",\n",
      "  \"email\": \"john.doe@example.com\",\n",
      "  \"query\": \"How can I cancel my subscription?\",\n",
      "  \"order_id\": null,\n",
      "  \"purchase_date\": null\n",
      "}:\n",
      "\n",
      "Return your analysis as a JSON object matching this exact structure\n",
      "and datatypes:\n",
      "{\n",
      "    name =\"Example User\",\n",
      "    email = \"user@example.com\"\n",
      "    query = \"I ordered a new computer monitor and it arrived with a broken screen\"\n",
      "    order_id = 12345\n",
      "    purchase_date = \"2023-11-10\"\n",
      "    priority = \"medium\"\n",
      "    category = \"refund_request\"\n",
      "    is_complaint = True\n",
      "    tags = [\"monitor\",\"support\",\"exchange\"]\n",
      "}\n",
      "\n",
      "Respond ONLY with valid JSON. Do not include andy explanations or \n",
      "other text or formatting before or after JSON object\n",
      "\n",
      "    </original_prompt>\n",
      "\n",
      "    Here is the original llm response:\n",
      "    <llm_response>\n",
      "    ```json\n",
      "{\n",
      "    \"name\": \"abc\",\n",
      "    \"email\": \"john.doe@example.com\",\n",
      "    \"query\": \"How can I cancel my subscription?\",\n",
      "    \"order_id\": null,\n",
      "    \"purchase_date\": null,\n",
      "    \"priority\": \"high\",\n",
      "    \"category\": \"subscription_cancellation\",\n",
      "    \"is_complaint\": false,\n",
      "    \"tags\": [\"subscription\", \"cancellation\", \"support\"]\n",
      "}\n",
      "```\n",
      "    </llm_response>\n",
      "\n",
      "    This response generated an error:\n",
      "    <error_message>\n",
      "    {'This response generated a validation error: 1 validation error for CustomerQuery\\n  Invalid JSON: expected value at line 1 column 1 [type=json_invalid, input_value=\\'```json\\\\n{\\\\n    \"name\": ...on\", \"support\"]\\\\n}\\\\n```\\', input_type=str]\\n    For further information visit https://errors.pydantic.dev/2.11/v/json_invalid'}\n",
      "    </error_message>\n",
      "\n",
      "    Compare the error message and the llm_response and identify what needs to be fixed or removed\n",
      "    in the llm_response to resolve this error.\n",
      "\n",
      "    Respond ONLY with valid JSON. Do not include any explanations or other text or formatting before or after the JSON string\n",
      "    \n"
     ]
    }
   ],
   "source": [
    "validation_retry_prompt = create_retry_prompt(\n",
    "    original_prompt=llm_prompt,\n",
    "    original_response=response_content,\n",
    "    error_message=validation_error\n",
    ")\n",
    "print(validation_retry_prompt)"
   ]
  },
  {
   "cell_type": "code",
   "execution_count": 39,
   "id": "6178604c",
   "metadata": {},
   "outputs": [
    {
     "name": "stdout",
     "output_type": "stream",
     "text": [
      "```json\n",
      "{\n",
      "    \"name\": \"abc\",\n",
      "    \"email\": \"john.doe@example.com\",\n",
      "    \"query\": \"How can I cancel my subscription?\",\n",
      "    \"order_id\": null,\n",
      "    \"purchase_date\": null,\n",
      "    \"priority\": \"high\",\n",
      "    \"category\": \"subscription_cancellation\",\n",
      "    \"is_complaint\": false,\n",
      "    \"tags\": [\"subscription\", \"cancellation\", \"support\"]\n",
      "}\n",
      "```\n"
     ]
    }
   ],
   "source": [
    "validation_retry_response = call_llm(validation_retry_prompt)\n",
    "print(validation_retry_response)"
   ]
  },
  {
   "cell_type": "code",
   "execution_count": 41,
   "id": "186f734f",
   "metadata": {},
   "outputs": [],
   "source": [
    "# Define a function to automatically retry an LLM call multiple times\n",
    "def validate_llm_response(\n",
    "    prompt, data_model, n_retry=5, model=\"gpt-4o\"\n",
    "):\n",
    "    # Initial LLM call\n",
    "    response_content = call_llm(prompt, model=model)\n",
    "    current_prompt = prompt\n",
    "\n",
    "    # Try to validate with the model\n",
    "    # attempt: 0=initial, 1=first retry, ...\n",
    "    for attempt in range(n_retry + 1):\n",
    "\n",
    "        validated_data, validation_error = validate_llm_responses(\n",
    "            data_model, response_content\n",
    "        )\n",
    "\n",
    "        if validation_error:\n",
    "            if attempt < n_retry:\n",
    "                print(f\"retry {attempt} of {n_retry} failed, trying again...\")\n",
    "            else:\n",
    "                print(f\"Max retries reached. Last error: {validation_error}\")\n",
    "                return None, (\n",
    "                    f\"Max retries reached. Last error: {validation_error}\"\n",
    "                )\n",
    "\n",
    "            validation_retry_prompt = create_retry_prompt(\n",
    "                original_prompt=current_prompt,\n",
    "                original_response=response_content,\n",
    "                error_message=validation_error\n",
    "            )\n",
    "            response_content = call_llm(\n",
    "                validation_retry_prompt, model=model\n",
    "            )\n",
    "            current_prompt = validation_retry_prompt\n",
    "            continue\n",
    "\n",
    "        # If you get here, both parsing and validation succeeded\n",
    "        return validated_data, None"
   ]
  },
  {
   "cell_type": "code",
   "execution_count": 42,
   "id": "91c3430a",
   "metadata": {},
   "outputs": [
    {
     "name": "stdout",
     "output_type": "stream",
     "text": [
      "❌ Error Validating data: 1 validation error for CustomerQuery\n",
      "  Invalid JSON: expected value at line 1 column 1 [type=json_invalid, input_value='```json\\n{\\n    \"name\": ...on\", \"support\"]\\n}\\n```', input_type=str]\n",
      "    For further information visit https://errors.pydantic.dev/2.11/v/json_invalid\n",
      "retry 0 of 5 failed, trying again...\n",
      "❌ Error Validating data: 1 validation error for CustomerQuery\n",
      "  Invalid JSON: expected value at line 1 column 1 [type=json_invalid, input_value='```json\\n{\\n    \"name\": ...on\", \"support\"]\\n}\\n```', input_type=str]\n",
      "    For further information visit https://errors.pydantic.dev/2.11/v/json_invalid\n",
      "retry 1 of 5 failed, trying again...\n",
      "❌ Error Validating data: 1 validation error for CustomerQuery\n",
      "  Invalid JSON: expected value at line 1 column 1 [type=json_invalid, input_value='```json\\n{\\n    \"name\": ...on\", \"support\"]\\n}\\n```', input_type=str]\n",
      "    For further information visit https://errors.pydantic.dev/2.11/v/json_invalid\n",
      "retry 2 of 5 failed, trying again...\n",
      "❌ Error Validating data: 1 validation error for CustomerQuery\n",
      "  Invalid JSON: expected value at line 1 column 1 [type=json_invalid, input_value='```json\\n{\\n    \"name\": ...on\", \"support\"]\\n}\\n```', input_type=str]\n",
      "    For further information visit https://errors.pydantic.dev/2.11/v/json_invalid\n",
      "retry 3 of 5 failed, trying again...\n",
      "❌ Error Validating data: 1 validation error for CustomerQuery\n",
      "category\n",
      "  Input should be 'refund_request', 'information_request' or 'other' [type=literal_error, input_value='subscription_cancellation', input_type=str]\n",
      "    For further information visit https://errors.pydantic.dev/2.11/v/literal_error\n",
      "retry 4 of 5 failed, trying again...\n",
      "❌ Error Validating data: 1 validation error for CustomerQuery\n",
      "  Invalid JSON: expected value at line 1 column 1 [type=json_invalid, input_value='```json\\n{\\n    \"name\": ...on\", \"support\"]\\n}\\n```', input_type=str]\n",
      "    For further information visit https://errors.pydantic.dev/2.11/v/json_invalid\n",
      "Max retries reached. Last error: {'This response generated a validation error: 1 validation error for CustomerQuery\\n  Invalid JSON: expected value at line 1 column 1 [type=json_invalid, input_value=\\'```json\\\\n{\\\\n    \"name\": ...on\", \"support\"]\\\\n}\\\\n```\\', input_type=str]\\n    For further information visit https://errors.pydantic.dev/2.11/v/json_invalid'}\n"
     ]
    }
   ],
   "source": [
    "# Test your complete solution with the original prompt\n",
    "validated_data, error = validate_llm_response(\n",
    "    llm_prompt, CustomerQuery\n",
    ")"
   ]
  },
  {
   "cell_type": "code",
   "execution_count": 44,
   "id": "c8841a85",
   "metadata": {},
   "outputs": [
    {
     "name": "stdout",
     "output_type": "stream",
     "text": [
      "{\n",
      "  \"properties\": {\n",
      "    \"name\": {\n",
      "      \"description\": \"The name of the user\",\n",
      "      \"title\": \"Name\",\n",
      "      \"type\": \"string\"\n",
      "    },\n",
      "    \"email\": {\n",
      "      \"description\": \"The email of the user\",\n",
      "      \"format\": \"email\",\n",
      "      \"title\": \"Email\",\n",
      "      \"type\": \"string\"\n",
      "    },\n",
      "    \"query\": {\n",
      "      \"description\": \"The query of the user\",\n",
      "      \"title\": \"Query\",\n",
      "      \"type\": \"string\"\n",
      "    },\n",
      "    \"order_id\": {\n",
      "      \"anyOf\": [\n",
      "        {\n",
      "          \"maximum\": 99999,\n",
      "          \"minimum\": 10000,\n",
      "          \"type\": \"integer\"\n",
      "        },\n",
      "        {\n",
      "          \"type\": \"null\"\n",
      "        }\n",
      "      ],\n",
      "      \"default\": null,\n",
      "      \"description\": \"5 digit order number (cannot start with 0)\",\n",
      "      \"title\": \"Order Id\"\n",
      "    },\n",
      "    \"purchase_date\": {\n",
      "      \"anyOf\": [\n",
      "        {\n",
      "          \"format\": \"date\",\n",
      "          \"type\": \"string\"\n",
      "        },\n",
      "        {\n",
      "          \"type\": \"null\"\n",
      "        }\n",
      "      ],\n",
      "      \"default\": null,\n",
      "      \"title\": \"Purchase Date\"\n",
      "    },\n",
      "    \"priority\": {\n",
      "      \"description\": \"Priority level: low, medium, high\",\n",
      "      \"title\": \"Priority\",\n",
      "      \"type\": \"string\"\n",
      "    },\n",
      "    \"category\": {\n",
      "      \"description\": \"Query Category\",\n",
      "      \"enum\": [\n",
      "        \"refund_request\",\n",
      "        \"information_request\",\n",
      "        \"other\"\n",
      "      ],\n",
      "      \"title\": \"Category\",\n",
      "      \"type\": \"string\"\n",
      "    },\n",
      "    \"is_complaint\": {\n",
      "      \"description\": \"Whether this is a complaint or not?\",\n",
      "      \"title\": \"Is Complaint\",\n",
      "      \"type\": \"boolean\"\n",
      "    },\n",
      "    \"tags\": {\n",
      "      \"description\": \"Relevant keywords tags\",\n",
      "      \"items\": {\n",
      "        \"type\": \"string\"\n",
      "      },\n",
      "      \"title\": \"Tags\",\n",
      "      \"type\": \"array\"\n",
      "    }\n",
      "  },\n",
      "  \"required\": [\n",
      "    \"name\",\n",
      "    \"email\",\n",
      "    \"query\",\n",
      "    \"priority\",\n",
      "    \"category\",\n",
      "    \"is_complaint\",\n",
      "    \"tags\"\n",
      "  ],\n",
      "  \"title\": \"CustomerQuery\",\n",
      "  \"type\": \"object\"\n",
      "}\n"
     ]
    }
   ],
   "source": [
    "# Investigate the model_json_schema for CustomerQuery\n",
    "data_model_schema = json.dumps(\n",
    "    CustomerQuery.model_json_schema(), indent=2\n",
    ")\n",
    "print(data_model_schema)"
   ]
  },
  {
   "cell_type": "code",
   "execution_count": 45,
   "id": "e780e9db",
   "metadata": {},
   "outputs": [],
   "source": [
    "# Create new prompt with user input and model_json_schema\n",
    "prompt = f\"\"\"\n",
    "Please analyze this user query\\n {user_input.model_dump_json(indent=2)}:\n",
    "\n",
    "Return your analysis as a JSON object matching the following schema:\n",
    "{data_model_schema}\n",
    "\n",
    "Respond ONLY with valid JSON. Do not include any explanations or \n",
    "other text or formatting before or after the JSON object.\n",
    "\"\"\""
   ]
  },
  {
   "cell_type": "code",
   "execution_count": 46,
   "id": "58eba935",
   "metadata": {},
   "outputs": [
    {
     "name": "stdout",
     "output_type": "stream",
     "text": [
      "❌ Error Validating data: 1 validation error for CustomerQuery\n",
      "  Invalid JSON: expected value at line 1 column 1 [type=json_invalid, input_value='```json\\n{\\n  \"name\": \"a...\"cancellation\"]\\n}\\n```', input_type=str]\n",
      "    For further information visit https://errors.pydantic.dev/2.11/v/json_invalid\n",
      "retry 0 of 5 failed, trying again...\n",
      "❌ Error Validating data: 1 validation error for CustomerQuery\n",
      "  Invalid JSON: expected value at line 1 column 1 [type=json_invalid, input_value='```json\\n{\\n  \"name\": \"a...\"cancellation\"]\\n}\\n```', input_type=str]\n",
      "    For further information visit https://errors.pydantic.dev/2.11/v/json_invalid\n",
      "retry 1 of 5 failed, trying again...\n",
      "❌ Error Validating data: 1 validation error for CustomerQuery\n",
      "  Invalid JSON: expected value at line 1 column 1 [type=json_invalid, input_value='```json\\n{\\n  \"name\": \"a...\"cancellation\"]\\n}\\n```', input_type=str]\n",
      "    For further information visit https://errors.pydantic.dev/2.11/v/json_invalid\n",
      "retry 2 of 5 failed, trying again...\n",
      "❌ Error Validating data: 1 validation error for CustomerQuery\n",
      "  Invalid JSON: expected value at line 1 column 1 [type=json_invalid, input_value='```json\\n{\\n  \"name\": \"a...\"cancellation\"]\\n}\\n```', input_type=str]\n",
      "    For further information visit https://errors.pydantic.dev/2.11/v/json_invalid\n",
      "retry 3 of 5 failed, trying again...\n",
      "❌ Error Validating data: 7 validation errors for CustomerQuery\n",
      "name\n",
      "  Field required [type=missing, input_value={'fix': 'Remove the code ...sure it is valid JSON.'}, input_type=dict]\n",
      "    For further information visit https://errors.pydantic.dev/2.11/v/missing\n",
      "email\n",
      "  Field required [type=missing, input_value={'fix': 'Remove the code ...sure it is valid JSON.'}, input_type=dict]\n",
      "    For further information visit https://errors.pydantic.dev/2.11/v/missing\n",
      "query\n",
      "  Field required [type=missing, input_value={'fix': 'Remove the code ...sure it is valid JSON.'}, input_type=dict]\n",
      "    For further information visit https://errors.pydantic.dev/2.11/v/missing\n",
      "priority\n",
      "  Field required [type=missing, input_value={'fix': 'Remove the code ...sure it is valid JSON.'}, input_type=dict]\n",
      "    For further information visit https://errors.pydantic.dev/2.11/v/missing\n",
      "category\n",
      "  Field required [type=missing, input_value={'fix': 'Remove the code ...sure it is valid JSON.'}, input_type=dict]\n",
      "    For further information visit https://errors.pydantic.dev/2.11/v/missing\n",
      "is_complaint\n",
      "  Field required [type=missing, input_value={'fix': 'Remove the code ...sure it is valid JSON.'}, input_type=dict]\n",
      "    For further information visit https://errors.pydantic.dev/2.11/v/missing\n",
      "tags\n",
      "  Field required [type=missing, input_value={'fix': 'Remove the code ...sure it is valid JSON.'}, input_type=dict]\n",
      "    For further information visit https://errors.pydantic.dev/2.11/v/missing\n",
      "retry 4 of 5 failed, trying again...\n",
      "❌ Error Validating data: 1 validation error for CustomerQuery\n",
      "  Invalid JSON: expected value at line 1 column 1 [type=json_invalid, input_value='```json\\n{\\n  \"fix\": \"En...block markers.\"\\n}\\n```', input_type=str]\n",
      "    For further information visit https://errors.pydantic.dev/2.11/v/json_invalid\n",
      "Max retries reached. Last error: {'This response generated a validation error: 1 validation error for CustomerQuery\\n  Invalid JSON: expected value at line 1 column 1 [type=json_invalid, input_value=\\'```json\\\\n{\\\\n  \"fix\": \"En...block markers.\"\\\\n}\\\\n```\\', input_type=str]\\n    For further information visit https://errors.pydantic.dev/2.11/v/json_invalid'}\n"
     ]
    }
   ],
   "source": [
    "# Run your validate_llm_response function with the new prompt\n",
    "final_analysis, error = validate_llm_response(\n",
    "    prompt, CustomerQuery\n",
    ")"
   ]
  },
  {
   "cell_type": "markdown",
   "id": "be1ba530",
   "metadata": {},
   "source": [
    "# Using instructor to validate LLM responses with pydantic"
   ]
  },
  {
   "cell_type": "code",
   "execution_count": 47,
   "id": "d23a0c1e",
   "metadata": {},
   "outputs": [],
   "source": [
    "from pydantic import BaseModel, Field, EmailStr\n",
    "from typing import List, Literal, Optional\n",
    "from openai import OpenAI\n",
    "import instructor\n",
    "import anthropic\n",
    "from dotenv import load_dotenv\n",
    "from datetime import date"
   ]
  },
  {
   "cell_type": "code",
   "execution_count": 48,
   "id": "fed88f23",
   "metadata": {},
   "outputs": [],
   "source": [
    "class UserInput(BaseModel):\n",
    "    name: str = Field(...,description=\"The name of the user\")\n",
    "    email: EmailStr = Field(...,description=\"The email of the user\")\n",
    "    query: str = Field(...,description=\"The query of the user\")\n",
    "    order_id : Optional[int] = Field(\n",
    "        None, \n",
    "        description=\"5 digit order number (cannot start with 0)\",\n",
    "        ge=10000,\n",
    "        le=99999\n",
    "    )\n",
    "    purchase_date: Optional[date] = None"
   ]
  },
  {
   "cell_type": "code",
   "execution_count": 49,
   "id": "50c75758",
   "metadata": {},
   "outputs": [],
   "source": [
    "# Customer Query Model\n",
    "class CustomerQuery(UserInput):\n",
    "    priority:str = Field(...,\n",
    "                         description=\"Priority level: low, medium, high\")\n",
    "    category: Literal['refund_request', 'information_request', 'other'] = Field(...,\n",
    "                                                                                description='Query Category')\n",
    "    is_complaint: bool = Field(...,\n",
    "                               description='Whether this is a complaint or not?')\n",
    "    tags: List[str] = Field(...,\n",
    "                             description='Relevant keywords tags')"
   ]
  },
  {
   "cell_type": "code",
   "execution_count": 59,
   "id": "39a6873c",
   "metadata": {},
   "outputs": [],
   "source": [
    "user_input_json = '''\n",
    "{\n",
    "  \"email\": \"john.doe@example.com\",\n",
    "  \"query\": \"I ordered a product but it didn't arrive and now I want to cancel my order\",\n",
    "  \"name\": \"abc\",\n",
    "  \"order_id\": 12345,\n",
    "  \"purchase_date\": null\n",
    "}\n",
    "'''"
   ]
  },
  {
   "cell_type": "code",
   "execution_count": 60,
   "id": "50d32f2f",
   "metadata": {},
   "outputs": [],
   "source": [
    "user_input=  UserInput.model_validate_json(user_input_json)"
   ]
  },
  {
   "cell_type": "code",
   "execution_count": 61,
   "id": "bd6643fe",
   "metadata": {},
   "outputs": [],
   "source": [
    "prompt = (\n",
    "    f\"Analyze the following customer query {user_input} \"\n",
    "    f\"and provide a structured response.\"\n",
    ")"
   ]
  },
  {
   "cell_type": "code",
   "execution_count": 65,
   "id": "788dd45b",
   "metadata": {},
   "outputs": [],
   "source": [
    "load_dotenv()\n",
    "\n",
    "openai_client = instructor.from_openai(\n",
    "    openai.OpenAI()\n",
    ")\n",
    "response = openai_client.beta.chat.completions.parse(\n",
    "    model = 'gpt-4o',\n",
    "    max_tokens = 1024,\n",
    "    messages = [\n",
    "        {\n",
    "            'role':'user',\n",
    "            'content':prompt\n",
    "        }\n",
    "    ],\n",
    "    response_format = CustomerQuery,\n",
    ")"
   ]
  },
  {
   "cell_type": "code",
   "execution_count": 66,
   "id": "c4f63dde",
   "metadata": {},
   "outputs": [
    {
     "name": "stdout",
     "output_type": "stream",
     "text": [
      "{\"name\":\"abc\",\"email\":\"john.doe@example.com\",\"query\":\"I ordered a product but it didn't arrive and now I want to cancel my order\",\"order_id\":12345,\"purchase_date\":null,\"priority\":\"high\",\"category\":\"refund_request\",\"is_complaint\":true,\"tags\":[\"order cancellation\",\"delivery issue\",\"refund\"]}\n"
     ]
    }
   ],
   "source": [
    "print(response.choices[0].message.content)"
   ]
  },
  {
   "cell_type": "code",
   "execution_count": 67,
   "id": "363c446e",
   "metadata": {},
   "outputs": [],
   "source": [
    "response = openai_client.responses.parse(\n",
    "    model = 'gpt-4o',\n",
    "    input = [\n",
    "        {\n",
    "            'role':'user',\n",
    "            'content':prompt\n",
    "        }\n",
    "    ],\n",
    "    text_format = CustomerQuery,\n",
    ")"
   ]
  },
  {
   "cell_type": "code",
   "execution_count": 70,
   "id": "e99ad6f5",
   "metadata": {},
   "outputs": [
    {
     "name": "stdout",
     "output_type": "stream",
     "text": [
      "{\"name\":\"abc\",\"email\":\"john.doe@example.com\",\"query\":\"I ordered a product but it didn't arrive and now I want to cancel my order\",\"order_id\":12345,\"purchase_date\":null,\"priority\":\"high\",\"category\":\"refund_request\",\"is_complaint\":true,\"tags\":[\"order\",\"cancellation\",\"delivery_issue\",\"refund\"]}\n"
     ]
    }
   ],
   "source": [
    "print(response.output_text)"
   ]
  },
  {
   "cell_type": "markdown",
   "id": "c29151f3",
   "metadata": {},
   "source": [
    "# Pydantic for Tool Calling"
   ]
  },
  {
   "cell_type": "code",
   "execution_count": 71,
   "id": "a59483a5",
   "metadata": {},
   "outputs": [],
   "source": [
    "from pydantic import BaseModel, Field, EmailStr, field_validator\n",
    "from pydantic_ai import Agent\n",
    "from typing import List, Literal, Optional\n",
    "from datetime import datetime, date\n",
    "import json\n",
    "from openai import OpenAI\n",
    "import anthropic\n",
    "import instructor\n",
    "from dotenv import load_dotenv\n",
    "import nest_asyncio\n",
    "\n",
    "load_dotenv()\n",
    "nest_asyncio.apply()"
   ]
  },
  {
   "cell_type": "code",
   "execution_count": 87,
   "id": "3d095c89",
   "metadata": {},
   "outputs": [],
   "source": [
    "class UserInput(BaseModel):\n",
    "    name: str = Field(...,description=\"The name of the user\")\n",
    "    email: EmailStr = Field(...,description=\"The email of the user\")\n",
    "    query: str = Field(...,description=\"The query of the user\")\n",
    "    order_id : Optional[str] = Field(\n",
    "        None, \n",
    "        description=\"Order ID if available (format: ABC-12345)\"\n",
    "    )\n",
    "    # Validate order_id format (e.g should be of format ABC-12345)\n",
    "    @field_validator('order_id')\n",
    "    def validate_order_id(cls, order_id):\n",
    "        import re\n",
    "        if order_id is None:\n",
    "            return order_id\n",
    "        pattern = r\"^[A-Z]{3}-\\d{5}$\"\n",
    "        if not re.match(pattern, order_id):\n",
    "            raise ValueError(\n",
    "                \"order_id must be in format ABC-12345\"\n",
    "                \"(3 uppercase letters, dash, 5 digits)\"\n",
    "            )\n",
    "    purchase_date: Optional[date] = None"
   ]
  },
  {
   "cell_type": "code",
   "execution_count": 88,
   "id": "3452e24c",
   "metadata": {},
   "outputs": [],
   "source": [
    "# Customer Query Model\n",
    "class CustomerQuery(UserInput):\n",
    "    priority:str = Field(...,\n",
    "                         description=\"Priority level: low, medium, high\")\n",
    "    category: Literal['refund_request', 'information_request', 'other'] = Field(...,\n",
    "                                                                                description='Query Category')\n",
    "    is_complaint: bool = Field(...,\n",
    "                               description='Whether this is a complaint or not?')\n",
    "    tags: List[str] = Field(...,\n",
    "                             description='Relevant keywords tags')"
   ]
  },
  {
   "cell_type": "code",
   "execution_count": 89,
   "id": "e413a767",
   "metadata": {},
   "outputs": [],
   "source": [
    "from typing import Union\n",
    "def validate_user_input(input_data: str) -> Union[UserInput, None]:\n",
    "    try: \n",
    "        user_input = UserInput.model_validate_json(input_data)\n",
    "        print(f\"Validated user input: ✅ {input_data}\")\n",
    "        return user_input\n",
    "    except ValidationError as e:\n",
    "        print(f\"Validation error: ❌ {e}\")\n",
    "        return None"
   ]
  },
  {
   "cell_type": "code",
   "execution_count": 90,
   "id": "c0d9e823",
   "metadata": {},
   "outputs": [],
   "source": [
    "def create_customer_query(valid_user_json: str) -> CustomerQuery:\n",
    "    customer_query_agent = Agent(\n",
    "        model = \"gpt-4o\",\n",
    "        output_type=CustomerQuery\n",
    "    )\n",
    "    response = customer_query_agent.run_sync(valid_user_json)\n",
    "    print(\"CustomerQuery generated..\")\n",
    "    return response.output"
   ]
  },
  {
   "cell_type": "code",
   "execution_count": 91,
   "id": "cdadf1e0",
   "metadata": {},
   "outputs": [],
   "source": [
    "user_input_json = '''\n",
    "{\n",
    "  \"email\": \"john.doe@example.com\",\n",
    "  \"query\": \"I ordered a product but it didn't arrive and now I want to cancel my order\",\n",
    "  \"name\": \"abc\",\n",
    "  \"order_id\": \"ABC-12355\",\n",
    "  \"purchase_date\": null\n",
    "}\n",
    "'''"
   ]
  },
  {
   "cell_type": "code",
   "execution_count": 92,
   "id": "bd023353",
   "metadata": {},
   "outputs": [
    {
     "name": "stdout",
     "output_type": "stream",
     "text": [
      "Validated user input: ✅ \n",
      "{\n",
      "  \"email\": \"john.doe@example.com\",\n",
      "  \"query\": \"I ordered a product but it didn't arrive and now I want to cancel my order\",\n",
      "  \"name\": \"abc\",\n",
      "  \"order_id\": \"ABC-12355\",\n",
      "  \"purchase_date\": null\n",
      "}\n",
      "\n",
      "CustomerQuery generated..\n",
      "{\n",
      "  \"name\": \"abc\",\n",
      "  \"email\": \"john.doe@example.com\",\n",
      "  \"query\": \"I ordered a product but it didn't arrive and now I want to cancel my order\",\n",
      "  \"order_id\": null,\n",
      "  \"purchase_date\": null,\n",
      "  \"priority\": \"high\",\n",
      "  \"category\": \"refund_request\",\n",
      "  \"is_complaint\": true,\n",
      "  \"tags\": [\n",
      "    \"order issue\",\n",
      "    \"cancellation\",\n",
      "    \"non-delivery\"\n",
      "  ]\n",
      "}\n"
     ]
    }
   ],
   "source": [
    "valid_data = validate_user_input(user_input_json).model_dump_json()\n",
    "customer_query = create_customer_query(valid_data)\n",
    "print(customer_query.model_dump_json(indent=2))\n"
   ]
  },
  {
   "cell_type": "code",
   "execution_count": 93,
   "id": "dea023ec",
   "metadata": {},
   "outputs": [],
   "source": [
    "# Create an FAQ lookup agent\n",
    "class FAQLookupArgs(BaseModel):\n",
    "    query:str = Field(..., description=\"User's query\")\n",
    "    tags: List[str] = Field(..., description=\"Relevant keyword tags from the customer query\"\n",
    "                            )"
   ]
  },
  {
   "cell_type": "code",
   "execution_count": null,
   "id": "83e0ac8c",
   "metadata": {},
   "outputs": [],
   "source": [
    "# Class to check order status\n",
    "class CheckOrderStatusArgs(BaseModel):\n",
    "    order_id:str = Field(...,\n",
    "                         description = \"Customer's order ID (format: ABC-12345)\")\n",
    "    email: EmailStr = Field(..., description=\"Customer's email address\")\n",
    "    @field_validator('order_id')\n",
    "    def validate_order_id(cls, order_id):\n",
    "        import re\n",
    "        if order_id is None:\n",
    "            return order_id\n",
    "        pattern = r\"^[A-Z]{3}-\\d{5}$\"\n",
    "        if not re.match(pattern, order_id):\n",
    "            raise ValueError(\n",
    "                \"order_id must be in format ABC-12345\"\n",
    "                \"(3 uppercase letters, dash, 5 digits)\"\n",
    "            )\n",
    "        return order_id"
   ]
  }
 ],
 "metadata": {
  "kernelspec": {
   "display_name": ".venv",
   "language": "python",
   "name": "python3"
  },
  "language_info": {
   "codemirror_mode": {
    "name": "ipython",
    "version": 3
   },
   "file_extension": ".py",
   "mimetype": "text/x-python",
   "name": "python",
   "nbconvert_exporter": "python",
   "pygments_lexer": "ipython3",
   "version": "3.12.11"
  }
 },
 "nbformat": 4,
 "nbformat_minor": 5
}
