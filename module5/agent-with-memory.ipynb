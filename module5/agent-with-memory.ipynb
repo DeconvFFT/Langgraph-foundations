{
 "cells": [
  {
   "cell_type": "markdown",
   "id": "dbfe8e1e",
   "metadata": {},
   "source": [
    "# Introduction to Langgraph Store\n",
    "- Provides a way to store and retrieve information across threads\n",
    "- Presistent Key-value store\n",
    "- When storing memories in Store, we provide:\n",
    "    - namespace: for the object, a tuple\n",
    "    - key\n",
    "    - value\n",
    "    - put to save object to the store by namespace and key "
   ]
  },
  {
   "cell_type": "code",
   "execution_count": 1,
   "id": "50d22560",
   "metadata": {},
   "outputs": [],
   "source": [
    "import uuid\n",
    "from langgraph.store.memory import InMemoryStore\n",
    "in_memory_store = InMemoryStore()"
   ]
  },
  {
   "cell_type": "code",
   "execution_count": 2,
   "id": "33e1f36c",
   "metadata": {},
   "outputs": [],
   "source": [
    "# Namespace for memory to save\n",
    "user_id = \"1\"\n",
    "namespace_for_memory = (user_id, \"memory\")\n",
    "\n",
    "# Save a memory to namespace as key and value\n",
    "key = str(uuid.uuid4())\n",
    "value = {\"food_preference\": \"I like pizza\"}\n",
    "\n",
    "# store in memory\n",
    "in_memory_store.put(namespace_for_memory, key, value)"
   ]
  },
  {
   "cell_type": "code",
   "execution_count": 3,
   "id": "1ca0006c",
   "metadata": {},
   "outputs": [
    {
     "data": {
      "text/plain": [
       "[Item(namespace=['1', 'memory'], key='d57b8449-45d8-499b-9076-a7e9a9f03cb2', value={'food_preference': 'I like pizza'}, created_at='2025-08-25T04:39:29.702217+00:00', updated_at='2025-08-25T04:39:29.702218+00:00', score=None)]"
      ]
     },
     "execution_count": 3,
     "metadata": {},
     "output_type": "execute_result"
    }
   ],
   "source": [
    "# Search for a memory\n",
    "memories = in_memory_store.search(namespace_for_memory)\n",
    "memories"
   ]
  },
  {
   "cell_type": "code",
   "execution_count": 4,
   "id": "fa64399f",
   "metadata": {},
   "outputs": [
    {
     "name": "stdout",
     "output_type": "stream",
     "text": [
      "d57b8449-45d8-499b-9076-a7e9a9f03cb2 {'food_preference': 'I like pizza'}\n"
     ]
    }
   ],
   "source": [
    "print(memories[0].key, memories[0].value)"
   ]
  },
  {
   "cell_type": "code",
   "execution_count": 5,
   "id": "c19e9ed6",
   "metadata": {},
   "outputs": [
    {
     "data": {
      "text/plain": [
       "{'namespace': ['1', 'memory'],\n",
       " 'key': 'd57b8449-45d8-499b-9076-a7e9a9f03cb2',\n",
       " 'value': {'food_preference': 'I like pizza'},\n",
       " 'created_at': '2025-08-25T04:39:29.702217+00:00',\n",
       " 'updated_at': '2025-08-25T04:39:29.702218+00:00'}"
      ]
     },
     "execution_count": 5,
     "metadata": {},
     "output_type": "execute_result"
    }
   ],
   "source": [
    "memory = in_memory_store.get(namespace_for_memory, key)\n",
    "memory.dict()"
   ]
  },
  {
   "cell_type": "markdown",
   "id": "000a1604",
   "metadata": {},
   "source": [
    "# Chatbot with longterm memory\n",
    "- Short term memory: Chatbot persists conversation history and/ or allow interruptions in chat\n",
    "- Long term memory: Chatbot can remember information about a specific user across all chat sessions"
   ]
  },
  {
   "cell_type": "code",
   "execution_count": 6,
   "id": "3f95df2e",
   "metadata": {},
   "outputs": [],
   "source": [
    "from dotenv import load_dotenv\n",
    "load_dotenv()\n",
    "\n",
    "from langchain_openai import ChatOpenAI\n",
    "from langchain_groq import ChatGroq\n",
    "\n",
    "llm = ChatGroq(model=\"openai/gpt-oss-20b\", temperature=0)\n",
    "#llm = ChatOpenAI(model=\"gpt-4o\", temperature=0)"
   ]
  },
  {
   "cell_type": "code",
   "execution_count": 7,
   "id": "22187e58",
   "metadata": {},
   "outputs": [
    {
     "data": {
      "text/plain": [
       "AIMessage(content='Hello, John! 👋 How can I help you today?', additional_kwargs={'reasoning_content': 'User says \"hello I am John Doe!\" They want a greeting. Probably respond politely.'}, response_metadata={'token_usage': {'completion_tokens': 41, 'prompt_tokens': 77, 'total_tokens': 118, 'completion_time': 0.036494418, 'prompt_time': 0.005706051, 'queue_time': 0.195682218, 'total_time': 0.042200469}, 'model_name': 'openai/gpt-oss-20b', 'system_fingerprint': 'fp_fd68d84dd3', 'service_tier': 'on_demand', 'finish_reason': 'stop', 'logprobs': None}, id='run--80a5978e-0019-48fc-8efc-d92ec425d16d-0', usage_metadata={'input_tokens': 77, 'output_tokens': 41, 'total_tokens': 118})"
      ]
     },
     "execution_count": 7,
     "metadata": {},
     "output_type": "execute_result"
    }
   ],
   "source": [
    "llm.invoke(\"hello I am John Doe!\")"
   ]
  },
  {
   "cell_type": "code",
   "execution_count": 11,
   "id": "12b561aa",
   "metadata": {},
   "outputs": [
    {
     "data": {
      "image/png": "[encoded data removed]",
      "text/plain": [
       "<IPython.core.display.Image object>"
      ]
     },
     "metadata": {},
     "output_type": "display_data"
    }
   ],
   "source": [
    "from IPython.display import Image, display\n",
    "\n",
    "from langgraph.checkpoint.memory import MemorySaver\n",
    "from langgraph.graph import StateGraph, MessagesState, START, END\n",
    "from langgraph.store.base import BaseStore\n",
    "\n",
    "from langchain_core.messages import HumanMessage, SystemMessage\n",
    "from langchain_core.runnables.config import RunnableConfig\n",
    "\n",
    "# chatbot instruction\n",
    "MODEL_SYSTEM_PROMPT = \"\"\" \n",
    "You are a helpful assistant with memory that provides information about user.\n",
    "If you have memory for this user, use it to personalize your responses.\n",
    "Here is the memory (it may be empty): {memory}\n",
    "\"\"\"\n",
    "\n",
    "# Create new memory from the chat history and any existing memory\n",
    "CREATE_MEMORY_PROMPT = \"\"\" \n",
    "You are collecting information about the user to personalize your responses.\n",
    "\n",
    "CURRENT USER INFORMATION:\n",
    "{memory}\n",
    "\n",
    "INSTRUCTIONS:\n",
    "1. Review the chat history below carefully.\n",
    "2. Identify new information about the user such as:\n",
    "    - Personal information (name, location, phone number, email, linkedin profile, github profile, portfolio, etc.)\n",
    "    - Professional Summary(1-2 sentences)\n",
    "    - Education (Degree, School, Graduation Year)\n",
    "    - Work Experience (jobtitle, company, dates, responsibilities, links)\n",
    "    - Publications (title, date, journal, link)\n",
    "    - Technical Skills (programming languages, frameworks, tools, any specific skills focused on things like (AI, Machine Learning, Data Science, etc.))\n",
    "    - Projects (title, description, skills, links)\n",
    "    - Preferences (likes, dislikes)\n",
    "    - Interests and hobbies\n",
    "    - Goals or future plans\n",
    "3. Merge any new information with the existing memory.\n",
    "4. Format the memory as clear, bulleted list.\n",
    "5. If the information conflicts with existing memory, keep the most recent version.\n",
    "\n",
    "Remember: Only include factual information directly stated by the user. Do not make assumptions or inferences\n",
    "\n",
    "Based on the chat history below, please update the user history.\n",
    "\"\"\"\n",
    "\n",
    "def call_model(state:MessagesState, config:RunnableConfig, store:BaseStore):\n",
    "    \"\"\" Load memory from store and personalize the chatbot's response \"\"\"\n",
    "    \n",
    "    # get user ID from the config\n",
    "    user_id = config[\"configurable\"][\"user_id\"]\n",
    "    \n",
    "    # Retrieve memory from store\n",
    "    namespace = ('memory', user_id)\n",
    "    key = \"user_memory\"\n",
    "    existing_memory = store.get(namespace, key)\n",
    "    \n",
    "    # Extract the actual memory content if it exists and add a prefix\n",
    "    if existing_memory:\n",
    "        existing_memory_content = existing_memory.value.get('memory')\n",
    "    else:\n",
    "        existing_memory_content = \"No existing memory found\"\n",
    "    \n",
    "    # format the memory\n",
    "    system_message = MODEL_SYSTEM_PROMPT.format(memory=existing_memory_content)\n",
    "    \n",
    "    # respond using memory as well as the chat history\n",
    "    response = llm.invoke([SystemMessage(content=system_message)] + state['messages'])\n",
    "    \n",
    "    return {'messages': [response]}\n",
    "\n",
    "def write_memory(state:MessagesState, config:RunnableConfig, store:BaseStore):\n",
    "    \"\"\" Create new memory from the chat history and any existing memory \"\"\"\n",
    "    \n",
    "    # get user ID from the config\n",
    "    user_id = config[\"configurable\"][\"user_id\"]\n",
    "    \n",
    "    # retrieve existing memory\n",
    "    namespace = ('memory', user_id)\n",
    "    key = \"user_memory\"\n",
    "    existing_memory = store.get(namespace, key)\n",
    "    \n",
    "    # Extract the actual memory content if it exists and add a prefix\n",
    "    if existing_memory:\n",
    "        existing_memory_content = existing_memory.value.get('memory')\n",
    "    else:\n",
    "        existing_memory_content = \"No existing memory found\"\n",
    "\n",
    "    system_message = CREATE_MEMORY_PROMPT.format(memory=existing_memory_content)\n",
    "    new_memory = llm.invoke([SystemMessage(content=system_message)] + state['messages'])\n",
    "    \n",
    "    store.put(namespace, key, {\"memory\": new_memory.content})   \n",
    "\n",
    "# build graph\n",
    "memory_builder = StateGraph(MessagesState)\n",
    "memory_builder.add_node(\"call_model\", call_model)\n",
    "memory_builder.add_node(\"create_memory\", write_memory)\n",
    "memory_builder.add_edge(START, \"call_model\")\n",
    "memory_builder.add_edge(\"call_model\", \"create_memory\")\n",
    "memory_builder.add_edge(\"create_memory\", END)\n",
    "\n",
    "# Store memory for Long term memory\n",
    "across_thread_memory = InMemoryStore()\n",
    "within_thread_memory = MemorySaver()\n",
    "memory_graph = memory_builder.compile(checkpointer = within_thread_memory,store = across_thread_memory)\n",
    "\n",
    "display(Image(memory_graph.get_graph().draw_mermaid_png()))\n",
    "\n"
   ]
  },
  {
   "cell_type": "code",
   "execution_count": 12,
   "id": "7e31484d",
   "metadata": {},
   "outputs": [
    {
     "name": "stdout",
     "output_type": "stream",
     "text": [
      "================================\u001b[1m Human Message \u001b[0m=================================\n",
      "\n",
      "Hi, my name is Saumya\n",
      "==================================\u001b[1m Ai Message \u001b[0m==================================\n",
      "\n",
      "Hello Saumya! 👋 How can I help you today?\n"
     ]
    }
   ],
   "source": [
    "# We supply a thread ID for short-term (within-thread) memory\n",
    "# We supply a user ID for long-term (across-thread) memory \n",
    "config = {\"configurable\": {\"thread_id\": \"1\", \"user_id\": \"1\"}}\n",
    "\n",
    "# User input \n",
    "input_messages = [HumanMessage(content=\"Hi, my name is Saumya\")]\n",
    "\n",
    "# Run the graph\n",
    "for chunk in memory_graph.stream({\"messages\": input_messages}, config, stream_mode=\"values\"):\n",
    "    chunk[\"messages\"][-1].pretty_print()"
   ]
  },
  {
   "cell_type": "code",
   "execution_count": 13,
   "id": "363fa07c",
   "metadata": {},
   "outputs": [
    {
     "name": "stdout",
     "output_type": "stream",
     "text": [
      "================================\u001b[1m Human Message \u001b[0m=================================\n",
      "\n",
      "I am a Senior Data Scientist\n",
      "==================================\u001b[1m Ai Message \u001b[0m==================================\n",
      "\n",
      "Nice to meet you, Saumya! 👋 As a Senior Data Scientist, you’re probably juggling a mix of modeling, data engineering, and stakeholder communication. How can I support you today? Are you looking for help with a specific project, exploring new techniques, or maybe something else?\n"
     ]
    }
   ],
   "source": [
    "# User input \n",
    "input_messages = [HumanMessage(content=\"I am a Senior Data Scientist\")]\n",
    "\n",
    "# Run the graph\n",
    "for chunk in memory_graph.stream({\"messages\": input_messages}, config, stream_mode=\"values\"):\n",
    "    chunk[\"messages\"][-1].pretty_print()"
   ]
  },
  {
   "cell_type": "markdown",
   "id": "132750de",
   "metadata": {},
   "source": [
    "# Testing if the model can remember user profile from it's long term memory\n"
   ]
  },
  {
   "cell_type": "code",
   "execution_count": 15,
   "id": "1b2250e1",
   "metadata": {},
   "outputs": [
    {
     "name": "stdout",
     "output_type": "stream",
     "text": [
      "================================\u001b[1m Human Message \u001b[0m=================================\n",
      "\n",
      "What do you recommend I focus on for my resume?\n",
      "==================================\u001b[1m Ai Message \u001b[0m==================================\n",
      "\n",
      "Hi Saumya!  \n",
      "As a Senior Data Scientist, your resume is your “first pitch” to recruiters and hiring managers.  Below are the key areas I’d recommend you focus on, along with a quick checklist so you can make sure each section hits the mark.\n",
      "\n",
      "---\n",
      "\n",
      "## 1. Executive Summary / Professional Profile  \n",
      "- **Keep it 2–3 lines.**  \n",
      "- Highlight **years of experience**, **core domains** (e.g., predictive modeling, NLP, computer vision), and a **quantifiable impact** (e.g., “boosted revenue by 12% through model‑driven pricing”).  \n",
      "- Mention any **leadership** or **cross‑functional** experience (e.g., “led a team of 5 data scientists on a multi‑year AI strategy”).\n",
      "\n",
      "> **Example**  \n",
      "> *Senior Data Scientist with 8+ years of experience in predictive analytics, machine learning, and AI strategy. Proven track record of delivering $3 M in incremental revenue by deploying end‑to‑end ML pipelines for e‑commerce and fintech clients.*\n",
      "\n",
      "---\n",
      "\n",
      "## 2. Core Competencies / Technical Skills  \n",
      "- **Group by category** (Programming, ML Frameworks, Cloud, Databases, etc.).  \n",
      "- Use **bullet points** or a two‑column table for readability.  \n",
      "- Include **soft skills** that matter at senior level (e.g., “Team Leadership,” “Stakeholder Communication,” “Project Management”).\n",
      "\n",
      "> **Example**  \n",
      "> **Programming & Tools** – Python, R, SQL, Scala, Spark, Docker, Kubernetes  \n",
      "> **ML & AI** – TensorFlow, PyTorch, Scikit‑learn, XGBoost, LightGBM, AutoML  \n",
      "> **Cloud & Deployment** – AWS (SageMaker, Lambda), GCP, Azure, Terraform  \n",
      "> **Data Engineering** – Airflow, Kafka, Redshift, Snowflake  \n",
      "> **Soft Skills** – Cross‑functional Leadership, Agile Coaching, Technical Evangelism\n",
      "\n",
      "---\n",
      "\n",
      "## 3. Professional Experience  \n",
      "### Format\n",
      "- **Company – Role – Dates**  \n",
      "- **One‑sentence impact statement** (quantified).  \n",
      "- **Bulleted achievements** (3–5 per role).  \n",
      "- **Use action verbs** and **metrics**.\n",
      "\n",
      "### What to Emphasize\n",
      "| Category | Why It Matters | Sample Bullet |\n",
      "|----------|----------------|---------------|\n",
      "| **Business Impact** | Shows ROI of your work | “Reduced churn by 18% by building a churn‑prediction model that informed targeted retention campaigns.” |\n",
      "| **Technical Depth** | Demonstrates mastery | “Designed a distributed deep‑learning pipeline that processed 10 TB of image data, cutting inference time from 12 s to 0.8 s.” |\n",
      "| **Leadership & Mentorship** | Senior roles need people skills | “Mentored 4 junior data scientists, leading to 2 promotions and a 30% increase in team productivity.” |\n",
      "| **Cross‑Functional Collaboration** | Highlights ability to work with product, engineering, and business | “Partnered with product managers to translate business KPIs into ML metrics, aligning model objectives with company goals.” |\n",
      "| **Innovation & Patents** | Sets you apart | “Co‑invented a novel anomaly‑detection algorithm now used in 3 production services.” |\n",
      "\n",
      "---\n",
      "\n",
      "## 4. Projects & Publications (Optional but Powerful)  \n",
      "- **Showcase high‑impact, end‑to‑end projects** that demonstrate your full stack.  \n",
      "- Include **links** (GitHub, Kaggle, demo videos).  \n",
      "- If you have **publications or patents**, list them with DOI or patent number.\n",
      "\n",
      "> **Example**  \n",
      "> *“Author of ‘Real‑Time Fraud Detection with Graph Neural Networks’ – published in IEEE Transactions on Knowledge and Data Engineering, 2023.”*\n",
      "\n",
      "---\n",
      "\n",
      "## 5. Education & Certifications  \n",
      "- **Degree(s)** – institution, year.  \n",
      "- **Relevant certifications** (AWS Certified Machine Learning – Specialty, TensorFlow Developer, etc.).  \n",
      "- **Continuing education** (Coursera, Udacity, etc.) if recent.\n",
      "\n",
      "---\n",
      "\n",
      "## 6. Optional Sections  \n",
      "- **Awards & Recognitions** – e.g., “Data Science Hackathon Winner, 2022.”  \n",
      "- **Languages** – if you’re multilingual.  \n",
      "- **Volunteer / Consulting** – especially if it’s data‑science related.\n",
      "\n",
      "---\n",
      "\n",
      "## 7. Formatting & Style Tips  \n",
      "| Tip | Why It Helps |\n",
      "|-----|--------------|\n",
      "| **Keep it to 1–2 pages** | Recruiters skim fast. |\n",
      "| **Use a clean, professional template** | Avoid clutter; use white space. |\n",
      "| **Bullet points, not paragraphs** | Easier to scan. |\n",
      "| **Consistent tense** – past for previous roles, present for current. |\n",
      "| **Quantify everything** – percentages, dollar values, time saved, accuracy improvements. |\n",
      "| **Tailor to the job** – swap in keywords from the posting (e.g., “MLOps,” “Explainable AI”). |\n",
      "\n",
      "---\n",
      "\n",
      "## Quick Self‑Check  \n",
      "1. **Does each bullet start with a strong action verb?**  \n",
      "2. **Are there clear, quantifiable outcomes?**  \n",
      "3. **Is the resume free of jargon that only a data scientist would understand?**  \n",
      "4. **Have you highlighted leadership and mentorship?**  \n",
      "5. **Is the formatting consistent and easy to read?**\n",
      "\n",
      "---\n",
      "\n",
      "### Next Steps  \n",
      "- **Draft** a one‑page version focusing on the most recent role.  \n",
      "- **Ask a peer** to review for clarity and impact.  \n",
      "- **Save** in PDF and keep a clean Word/Google Doc for future edits.\n",
      "\n",
      "Feel free to share a draft or ask about specific sections—happy to dive deeper into any part!\n"
     ]
    }
   ],
   "source": [
    "config = {\"configurable\": {\"thread_id\": \"2\", \"user_id\": \"1\"}}\n",
    "\n",
    "# User input \n",
    "input_messages = [HumanMessage(content=\"What do you recommend I focus on for my resume?\")]\n",
    "\n",
    "# Run the graph\n",
    "for chunk in memory_graph.stream({\"messages\": input_messages}, config, stream_mode=\"values\"):\n",
    "    chunk[\"messages\"][-1].pretty_print()"
   ]
  },
  {
   "cell_type": "markdown",
   "id": "28c2adfa",
   "metadata": {},
   "source": [
    "# Trustcall\n",
    "- Helps with complex or hard to generate schemas\n",
    "- We don't have to generate schemas from scratch every time we want to update something in memory"
   ]
  },
  {
   "cell_type": "code",
   "execution_count": 37,
   "id": "23bfa1f2",
   "metadata": {},
   "outputs": [],
   "source": [
    "from trustcall import create_extractor\n",
    "from pydantic import BaseModel, Field\n",
    "from typing import List\n",
    "\n",
    "# Schema \n",
    "class UserProfile(BaseModel):\n",
    "    \"\"\"User profile schema with typed fields\"\"\"\n",
    "    first_name: str = Field(description=\"The first name of the user\")\n",
    "    last_name: str = Field(description=\"The last name of the user\")\n",
    "    state: str = Field(description=\"The state of the user\")\n",
    "    email: str = Field(description=\"The email of the user\")\n",
    "    phone: str = Field(description=\"The phone number of the user\")\n",
    "    address: str = Field(description=\"The address of the user\")\n",
    "    city: str = Field(description=\"The city of the user\")\n",
    "    zip: str = Field(description=\"The zip code of the user\")\n",
    "    \n",
    "\n",
    "\n",
    "# Instruction\n",
    "system_msg = \"Extract the user profile from the following conversation\"\n",
    "\n",
    "# Invoke the extractor\n",
    "\n",
    "trust_call_extractor = create_extractor(\n",
    "    llm,\n",
    "    tools=[UserProfile],\n",
    "    tool_choice=\"UserProfile\"\n",
    "    )"
   ]
  },
  {
   "cell_type": "code",
   "execution_count": 44,
   "id": "52562de2",
   "metadata": {},
   "outputs": [
    {
     "data": {
      "text/plain": [
       "[UserProfile(first_name='John', last_name='Doe', state='CA', email='john.doe@gmail.com', phone='', address='123 Main St', city='San Francisco', zip='94101')]"
      ]
     },
     "execution_count": 44,
     "metadata": {},
     "output_type": "execute_result"
    }
   ],
   "source": [
    "system_message = \"Extract the user profile from the following conversation\"\n",
    "conversation = [HumanMessage(content=\"My name is John Doe and I live at 123 Main St, San Francisco, CA 94101\"),\n",
    "                HumanMessage(content=\"My email is john.doe@gmail.com\"),\n",
    "                ]\n",
    "result = trust_call_extractor.invoke({\"messages\": [SystemMessage(content=system_msg)]+conversation})\n",
    "schema = result['responses']\n",
    "schema"
   ]
  },
  {
   "cell_type": "code",
   "execution_count": 47,
   "id": "9cde1734",
   "metadata": {},
   "outputs": [],
   "source": [
    "# Update the instruction\n",
    "updated_conversation = [HumanMessage(content=\"My name is John Doe and I live at 123 Main St, San Francisco, CA 94101\"),\n",
    "                HumanMessage(content=\"My email is john.doe@gmail.com\"),\n",
    "                HumanMessage(content=\"I recently moved to 2345 Broadway, Phoenix, AZ 85004\")]\n",
    "system_msg = f\"\"\"Update the memory (JSON doc) to incorporate new information from the following conversation\"\"\"\n",
    "\n",
    "# Invoke the extractor with the updated instruction and existing profile with the corresponding tool name (UserProfile)\n",
    "result = trust_call_extractor.invoke({\"messages\": [SystemMessage(content=system_msg)]+updated_conversation}, \n",
    "                                    {\"existing\": {\"UserProfile\": schema[0].model_dump()}})  "
   ]
  },
  {
   "cell_type": "code",
   "execution_count": 48,
   "id": "1ce42c32",
   "metadata": {},
   "outputs": [
    {
     "data": {
      "text/plain": [
       "{'first_name': 'John',\n",
       " 'last_name': 'Doe',\n",
       " 'state': 'AZ',\n",
       " 'email': 'john.doe@gmail.com',\n",
       " 'phone': '',\n",
       " 'address': '2345 Broadway',\n",
       " 'city': 'Phoenix',\n",
       " 'zip': '85004'}"
      ]
     },
     "execution_count": 48,
     "metadata": {},
     "output_type": "execute_result"
    }
   ],
   "source": [
    "result['responses'][0].model_dump()"
   ]
  },
  {
   "cell_type": "code",
   "execution_count": null,
   "id": "dfa7cd5b",
   "metadata": {},
   "outputs": [],
   "source": [
    "# Chatbot instruction\n",
    "MODEL_SYSTEM_MESSAGE = \"\"\"You are a helpful assistant with memory that provides information about the user. \n",
    "If you have memory for this user, use it to personalize your responses.\n",
    "Here is the memory (it may be empty): {memory}\"\"\"\n",
    "\n",
    "# Extraction instruction\n",
    "TRUSTCALL_INSTRUCTION = \"\"\"Create or update the memory (JSON doc) to incorporate information from the following conversation:\"\"\"\n",
    "\n",
    "def call_model(state: MessagesState, config: RunnableConfig, store: BaseStore):\n",
    "\n",
    "    \"\"\"Load memory from the store and use it to personalize the chatbot's response.\"\"\"\n",
    "    \n",
    "    # Get the user ID from the config\n",
    "    user_id = config[\"configurable\"][\"user_id\"]\n",
    "\n",
    "    # Retrieve memory from the store\n",
    "    namespace = (\"memory\", user_id)\n",
    "    existing_memory = store.get(namespace, \"user_memory\")\n",
    "\n",
    "    # Format the memories for the system prompt\n",
    "    if existing_memory and existing_memory.value:\n",
    "        memory_dict = existing_memory.value\n",
    "        formatted_memory = (\n",
    "            f\"First Name: {memory_dict.get('first_name', 'Unknown')}\\n\"\n",
    "            f\"Last Name: {memory_dict.get('last_name', 'Unknown')}\\n\"\n",
    "            f\"Phone: {', '.join(memory_dict.get('phone', 'Unknown'))}\\n\"\n",
    "            f\"Email: {', '.join(memory_dict.get('email', 'Unknown'))}\\n\"\n",
    "            f\"Address: {', '.join(memory_dict.get('address', 'Unknown'))}\\n\"\n",
    "            f\"State: {', '.join(memory_dict.get('state', 'Unknown'))}\\n\" \n",
    "            f\"City: {', '.join(memory_dict.get('city', 'Unknown'))}\\n\"  \n",
    "            f\"Zip: {', '.join(memory_dict.get('zip', 'Unknown'))}\\n\"  \n",
    "        )\n",
    "    else:\n",
    "        formatted_memory = None\n",
    "\n",
    "    # Format the memory in the system prompt\n",
    "    system_msg = MODEL_SYSTEM_MESSAGE.format(memory=formatted_memory)\n",
    "\n",
    "    # Respond using memory as well as the chat history\n",
    "    response = llm.invoke([SystemMessage(content=system_msg)]+state[\"messages\"])\n",
    "\n",
    "    return {\"messages\": response}\n",
    "\n",
    "def write_memory(state: MessagesState, config: RunnableConfig, store: BaseStore):\n",
    "\n",
    "    \"\"\"Reflect on the chat history and save a memory to the store.\"\"\"\n",
    "    \n",
    "    # Get the user ID from the config\n",
    "    user_id = config[\"configurable\"][\"user_id\"]\n",
    "\n",
    "    # Retrieve existing memory from the store\n",
    "    namespace = (\"memory\", user_id)\n",
    "    existing_memory = store.get(namespace, \"user_memory\")\n",
    "        \n",
    "    # Get the profile as the value from the list, and convert it to a JSON doc\n",
    "    existing_profile = {\"UserProfile\": existing_memory.value} if existing_memory else None\n",
    "    \n",
    "    # Invoke the extractor\n",
    "    result = trust_call_extractor.invoke({\"messages\": [SystemMessage(content=TRUSTCALL_INSTRUCTION)]+state[\"messages\"], \"existing\": existing_profile})\n",
    "    \n",
    "    # Get the updated profile as a JSON object\n",
    "    updated_profile = result[\"responses\"][0].model_dump()\n",
    "\n",
    "    # Save the updated profile\n",
    "    key = \"user_memory\"\n",
    "    store.put(namespace, key, updated_profile)\n",
    "\n",
    "# Define the graph\n",
    "builder = StateGraph(MessagesState)\n",
    "builder.add_node(\"call_model\", call_model)\n",
    "builder.add_node(\"write_memory\", write_memory)\n",
    "builder.add_edge(START, \"call_model\")\n",
    "builder.add_edge(\"call_model\", \"write_memory\")\n",
    "builder.add_edge(\"write_memory\", END)\n",
    "\n",
    "# Store for long-term (across-thread) memory\n",
    "across_thread_memory = InMemoryStore()\n",
    "\n",
    "# Checkpointer for short-term (within-thread) memory\n",
    "within_thread_memory = MemorySaver()\n",
    "\n",
    "# Compile the graph with the checkpointer fir and store\n",
    "graph = builder.compile(checkpointer=within_thread_memory, store=across_thread_memory)\n",
    "\n",
    "# View\n",
    "display(Image(graph.get_graph(xray=1).draw_mermaid_png()))"
   ]
  }
 ],
 "metadata": {
  "kernelspec": {
   "display_name": ".venv",
   "language": "python",
   "name": "python3"
  },
  "language_info": {
   "codemirror_mode": {
    "name": "ipython",
    "version": 3
   },
   "file_extension": ".py",
   "mimetype": "text/x-python",
   "name": "python",
   "nbconvert_exporter": "python",
   "pygments_lexer": "ipython3",
   "version": "3.12.11"
  }
 },
 "nbformat": 4,
 "nbformat_minor": 5
}
