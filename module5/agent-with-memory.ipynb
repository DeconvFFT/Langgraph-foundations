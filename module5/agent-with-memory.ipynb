{
 "cells": [
  {
   "cell_type": "markdown",
   "id": "dbfe8e1e",
   "metadata": {},
   "source": [
    "# Introduction to Langgraph Store\n",
    "- Provides a way to store and retrieve information across threads\n",
    "- Presistent Key-value store\n",
    "- When storing memories in Store, we provide:\n",
    "    - namespace: for the object, a tuple\n",
    "    - key\n",
    "    - value\n",
    "    - put to save object to the store by namespace and key "
   ]
  },
  {
   "cell_type": "code",
   "execution_count": 1,
   "id": "50d22560",
   "metadata": {},
   "outputs": [],
   "source": [
    "import uuid\n",
    "from langgraph.store.memory import InMemoryStore\n",
    "in_memory_store = InMemoryStore()"
   ]
  },
  {
   "cell_type": "code",
   "execution_count": 2,
   "id": "33e1f36c",
   "metadata": {},
   "outputs": [],
   "source": [
    "# Namespace for memory to save\n",
    "user_id = \"1\"\n",
    "namespace_for_memory = (user_id, \"memory\")\n",
    "\n",
    "# Save a memory to namespace as key and value\n",
    "key = str(uuid.uuid4())\n",
    "value = {\"food_preference\": \"I like pizza\"}\n",
    "\n",
    "# store in memory\n",
    "in_memory_store.put(namespace_for_memory, key, value)"
   ]
  },
  {
   "cell_type": "code",
   "execution_count": 3,
   "id": "1ca0006c",
   "metadata": {},
   "outputs": [
    {
     "data": {
      "text/plain": [
       "[Item(namespace=['1', 'memory'], key='d57b8449-45d8-499b-9076-a7e9a9f03cb2', value={'food_preference': 'I like pizza'}, created_at='2025-08-25T04:39:29.702217+00:00', updated_at='2025-08-25T04:39:29.702218+00:00', score=None)]"
      ]
     },
     "execution_count": 3,
     "metadata": {},
     "output_type": "execute_result"
    }
   ],
   "source": [
    "# Search for a memory\n",
    "memories = in_memory_store.search(namespace_for_memory)\n",
    "memories"
   ]
  },
  {
   "cell_type": "code",
   "execution_count": 4,
   "id": "fa64399f",
   "metadata": {},
   "outputs": [
    {
     "name": "stdout",
     "output_type": "stream",
     "text": [
      "d57b8449-45d8-499b-9076-a7e9a9f03cb2 {'food_preference': 'I like pizza'}\n"
     ]
    }
   ],
   "source": [
    "print(memories[0].key, memories[0].value)"
   ]
  },
  {
   "cell_type": "code",
   "execution_count": 5,
   "id": "c19e9ed6",
   "metadata": {},
   "outputs": [
    {
     "data": {
      "text/plain": [
       "{'namespace': ['1', 'memory'],\n",
       " 'key': 'd57b8449-45d8-499b-9076-a7e9a9f03cb2',\n",
       " 'value': {'food_preference': 'I like pizza'},\n",
       " 'created_at': '2025-08-25T04:39:29.702217+00:00',\n",
       " 'updated_at': '2025-08-25T04:39:29.702218+00:00'}"
      ]
     },
     "execution_count": 5,
     "metadata": {},
     "output_type": "execute_result"
    }
   ],
   "source": [
    "memory = in_memory_store.get(namespace_for_memory, key)\n",
    "memory.dict()"
   ]
  },
  {
   "cell_type": "markdown",
   "id": "000a1604",
   "metadata": {},
   "source": [
    "# Chatbot with longterm memory\n",
    "- Short term memory: Chatbot persists conversation history and/ or allow interruptions in chat\n",
    "- Long term memory: Chatbot can remember information about a specific user across all chat sessions"
   ]
  },
  {
   "cell_type": "code",
   "execution_count": 6,
   "id": "3f95df2e",
   "metadata": {},
   "outputs": [],
   "source": [
    "from dotenv import load_dotenv\n",
    "load_dotenv()\n",
    "\n",
    "from langchain_openai import ChatOpenAI\n",
    "from langchain_groq import ChatGroq\n",
    "\n",
    "llm = ChatGroq(model=\"openai/gpt-oss-20b\", temperature=0)\n",
    "#llm = ChatOpenAI(model=\"gpt-4o\", temperature=0)"
   ]
  },
  {
   "cell_type": "code",
   "execution_count": 7,
   "id": "22187e58",
   "metadata": {},
   "outputs": [
    {
     "data": {
      "text/plain": [
       "AIMessage(content='Hello, John! 👋 How can I help you today?', additional_kwargs={'reasoning_content': 'User says \"hello I am John Doe!\" They want a greeting. Probably respond politely.'}, response_metadata={'token_usage': {'completion_tokens': 41, 'prompt_tokens': 77, 'total_tokens': 118, 'completion_time': 0.036494418, 'prompt_time': 0.005706051, 'queue_time': 0.195682218, 'total_time': 0.042200469}, 'model_name': 'openai/gpt-oss-20b', 'system_fingerprint': 'fp_fd68d84dd3', 'service_tier': 'on_demand', 'finish_reason': 'stop', 'logprobs': None}, id='run--80a5978e-0019-48fc-8efc-d92ec425d16d-0', usage_metadata={'input_tokens': 77, 'output_tokens': 41, 'total_tokens': 118})"
      ]
     },
     "execution_count": 7,
     "metadata": {},
     "output_type": "execute_result"
    }
   ],
   "source": [
    "llm.invoke(\"hello I am John Doe!\")"
   ]
  },
  {
   "cell_type": "code",
   "execution_count": 11,
   "id": "12b561aa",
   "metadata": {},
   "outputs": [
    {
     "data": {
      "image/png": "[encoded data removed]",
      "text/plain": [
       "<IPython.core.display.Image object>"
      ]
     },
     "metadata": {},
     "output_type": "display_data"
    }
   ],
   "source": [
    "from IPython.display import Image, display\n",
    "\n",
    "from langgraph.checkpoint.memory import MemorySaver\n",
    "from langgraph.graph import StateGraph, MessagesState, START, END\n",
    "from langgraph.store.base import BaseStore\n",
    "\n",
    "from langchain_core.messages import HumanMessage, SystemMessage\n",
    "from langchain_core.runnables.config import RunnableConfig\n",
    "\n",
    "# chatbot instruction\n",
    "MODEL_SYSTEM_PROMPT = \"\"\" \n",
    "You are a helpful assistant with memory that provides information about user.\n",
    "If you have memory for this user, use it to personalize your responses.\n",
    "Here is the memory (it may be empty): {memory}\n",
    "\"\"\"\n",
    "\n",
    "# Create new memory from the chat history and any existing memory\n",
    "CREATE_MEMORY_PROMPT = \"\"\" \n",
    "You are collecting information about the user to personalize your responses.\n",
    "\n",
    "CURRENT USER INFORMATION:\n",
    "{memory}\n",
    "\n",
    "INSTRUCTIONS:\n",
    "1. Review the chat history below carefully.\n",
    "2. Identify new information about the user such as:\n",
    "    - Personal information (name, location, phone number, email, linkedin profile, github profile, portfolio, etc.)\n",
    "    - Professional Summary(1-2 sentences)\n",
    "    - Education (Degree, School, Graduation Year)\n",
    "    - Work Experience (jobtitle, company, dates, responsibilities, links)\n",
    "    - Publications (title, date, journal, link)\n",
    "    - Technical Skills (programming languages, frameworks, tools, any specific skills focused on things like (AI, Machine Learning, Data Science, etc.))\n",
    "    - Projects (title, description, skills, links)\n",
    "    - Preferences (likes, dislikes)\n",
    "    - Interests and hobbies\n",
    "    - Goals or future plans\n",
    "3. Merge any new information with the existing memory.\n",
    "4. Format the memory as clear, bulleted list.\n",
    "5. If the information conflicts with existing memory, keep the most recent version.\n",
    "\n",
    "Remember: Only include factual information directly stated by the user. Do not make assumptions or inferences\n",
    "\n",
    "Based on the chat history below, please update the user history.\n",
    "\"\"\"\n",
    "\n",
    "def call_model(state:MessagesState, config:RunnableConfig, store:BaseStore):\n",
    "    \"\"\" Load memory from store and personalize the chatbot's response \"\"\"\n",
    "    \n",
    "    # get user ID from the config\n",
    "    user_id = config[\"configurable\"][\"user_id\"]\n",
    "    \n",
    "    # Retrieve memory from store\n",
    "    namespace = ('memory', user_id)\n",
    "    key = \"user_memory\"\n",
    "    existing_memory = store.get(namespace, key)\n",
    "    \n",
    "    # Extract the actual memory content if it exists and add a prefix\n",
    "    if existing_memory:\n",
    "        existing_memory_content = existing_memory.value.get('memory')\n",
    "    else:\n",
    "        existing_memory_content = \"No existing memory found\"\n",
    "    \n",
    "    # format the memory\n",
    "    system_message = MODEL_SYSTEM_PROMPT.format(memory=existing_memory_content)\n",
    "    \n",
    "    # respond using memory as well as the chat history\n",
    "    response = llm.invoke([SystemMessage(content=system_message)] + state['messages'])\n",
    "    \n",
    "    return {'messages': [response]}\n",
    "\n",
    "def write_memory(state:MessagesState, config:RunnableConfig, store:BaseStore):\n",
    "    \"\"\" Create new memory from the chat history and any existing memory \"\"\"\n",
    "    \n",
    "    # get user ID from the config\n",
    "    user_id = config[\"configurable\"][\"user_id\"]\n",
    "    \n",
    "    # retrieve existing memory\n",
    "    namespace = ('memory', user_id)\n",
    "    key = \"user_memory\"\n",
    "    existing_memory = store.get(namespace, key)\n",
    "    \n",
    "    # Extract the actual memory content if it exists and add a prefix\n",
    "    if existing_memory:\n",
    "        existing_memory_content = existing_memory.value.get('memory')\n",
    "    else:\n",
    "        existing_memory_content = \"No existing memory found\"\n",
    "\n",
    "    system_message = CREATE_MEMORY_PROMPT.format(memory=existing_memory_content)\n",
    "    new_memory = llm.invoke([SystemMessage(content=system_message)] + state['messages'])\n",
    "    \n",
    "    store.put(namespace, key, {\"memory\": new_memory.content})   \n",
    "\n",
    "# build graph\n",
    "memory_builder = StateGraph(MessagesState)\n",
    "memory_builder.add_node(\"call_model\", call_model)\n",
    "memory_builder.add_node(\"create_memory\", write_memory)\n",
    "memory_builder.add_edge(START, \"call_model\")\n",
    "memory_builder.add_edge(\"call_model\", \"create_memory\")\n",
    "memory_builder.add_edge(\"create_memory\", END)\n",
    "\n",
    "# Store memory for Long term memory\n",
    "across_thread_memory = InMemoryStore()\n",
    "within_thread_memory = MemorySaver()\n",
    "memory_graph = memory_builder.compile(checkpointer = within_thread_memory,store = across_thread_memory)\n",
    "\n",
    "display(Image(memory_graph.get_graph().draw_mermaid_png()))\n",
    "\n"
   ]
  },
  {
   "cell_type": "code",
   "execution_count": 12,
   "id": "7e31484d",
   "metadata": {},
   "outputs": [
    {
     "name": "stdout",
     "output_type": "stream",
     "text": [
      "================================\u001b[1m Human Message \u001b[0m=================================\n",
      "\n",
      "Hi, my name is Saumya\n",
      "==================================\u001b[1m Ai Message \u001b[0m==================================\n",
      "\n",
      "Hello Saumya! 👋 How can I help you today?\n"
     ]
    }
   ],
   "source": [
    "# We supply a thread ID for short-term (within-thread) memory\n",
    "# We supply a user ID for long-term (across-thread) memory \n",
    "config = {\"configurable\": {\"thread_id\": \"1\", \"user_id\": \"1\"}}\n",
    "\n",
    "# User input \n",
    "input_messages = [HumanMessage(content=\"Hi, my name is Saumya\")]\n",
    "\n",
    "# Run the graph\n",
    "for chunk in memory_graph.stream({\"messages\": input_messages}, config, stream_mode=\"values\"):\n",
    "    chunk[\"messages\"][-1].pretty_print()"
   ]
  },
  {
   "cell_type": "code",
   "execution_count": 13,
   "id": "363fa07c",
   "metadata": {},
   "outputs": [
    {
     "name": "stdout",
     "output_type": "stream",
     "text": [
      "================================\u001b[1m Human Message \u001b[0m=================================\n",
      "\n",
      "I am a Senior Data Scientist\n",
      "==================================\u001b[1m Ai Message \u001b[0m==================================\n",
      "\n",
      "Nice to meet you, Saumya! 👋 As a Senior Data Scientist, you’re probably juggling a mix of modeling, data engineering, and stakeholder communication. How can I support you today? Are you looking for help with a specific project, exploring new techniques, or maybe something else?\n"
     ]
    }
   ],
   "source": [
    "# User input \n",
    "input_messages = [HumanMessage(content=\"I am a Senior Data Scientist\")]\n",
    "\n",
    "# Run the graph\n",
    "for chunk in memory_graph.stream({\"messages\": input_messages}, config, stream_mode=\"values\"):\n",
    "    chunk[\"messages\"][-1].pretty_print()"
   ]
  },
  {
   "cell_type": "markdown",
   "id": "132750de",
   "metadata": {},
   "source": [
    "# Testing if the model can remember user profile from it's long term memory\n"
   ]
  },
  {
   "cell_type": "code",
   "execution_count": 15,
   "id": "1b2250e1",
   "metadata": {},
   "outputs": [
    {
     "name": "stdout",
     "output_type": "stream",
     "text": [
      "================================\u001b[1m Human Message \u001b[0m=================================\n",
      "\n",
      "What do you recommend I focus on for my resume?\n",
      "==================================\u001b[1m Ai Message \u001b[0m==================================\n",
      "\n",
      "Hi Saumya!  \n",
      "As a Senior Data Scientist, your resume is your “first pitch” to recruiters and hiring managers.  Below are the key areas I’d recommend you focus on, along with a quick checklist so you can make sure each section hits the mark.\n",
      "\n",
      "---\n",
      "\n",
      "## 1. Executive Summary / Professional Profile  \n",
      "- **Keep it 2–3 lines.**  \n",
      "- Highlight **years of experience**, **core domains** (e.g., predictive modeling, NLP, computer vision), and a **quantifiable impact** (e.g., “boosted revenue by 12% through model‑driven pricing”).  \n",
      "- Mention any **leadership** or **cross‑functional** experience (e.g., “led a team of 5 data scientists on a multi‑year AI strategy”).\n",
      "\n",
      "> **Example**  \n",
      "> *Senior Data Scientist with 8+ years of experience in predictive analytics, machine learning, and AI strategy. Proven track record of delivering $3 M in incremental revenue by deploying end‑to‑end ML pipelines for e‑commerce and fintech clients.*\n",
      "\n",
      "---\n",
      "\n",
      "## 2. Core Competencies / Technical Skills  \n",
      "- **Group by category** (Programming, ML Frameworks, Cloud, Databases, etc.).  \n",
      "- Use **bullet points** or a two‑column table for readability.  \n",
      "- Include **soft skills** that matter at senior level (e.g., “Team Leadership,” “Stakeholder Communication,” “Project Management”).\n",
      "\n",
      "> **Example**  \n",
      "> **Programming & Tools** – Python, R, SQL, Scala, Spark, Docker, Kubernetes  \n",
      "> **ML & AI** – TensorFlow, PyTorch, Scikit‑learn, XGBoost, LightGBM, AutoML  \n",
      "> **Cloud & Deployment** – AWS (SageMaker, Lambda), GCP, Azure, Terraform  \n",
      "> **Data Engineering** – Airflow, Kafka, Redshift, Snowflake  \n",
      "> **Soft Skills** – Cross‑functional Leadership, Agile Coaching, Technical Evangelism\n",
      "\n",
      "---\n",
      "\n",
      "## 3. Professional Experience  \n",
      "### Format\n",
      "- **Company – Role – Dates**  \n",
      "- **One‑sentence impact statement** (quantified).  \n",
      "- **Bulleted achievements** (3–5 per role).  \n",
      "- **Use action verbs** and **metrics**.\n",
      "\n",
      "### What to Emphasize\n",
      "| Category | Why It Matters | Sample Bullet |\n",
      "|----------|----------------|---------------|\n",
      "| **Business Impact** | Shows ROI of your work | “Reduced churn by 18% by building a churn‑prediction model that informed targeted retention campaigns.” |\n",
      "| **Technical Depth** | Demonstrates mastery | “Designed a distributed deep‑learning pipeline that processed 10 TB of image data, cutting inference time from 12 s to 0.8 s.” |\n",
      "| **Leadership & Mentorship** | Senior roles need people skills | “Mentored 4 junior data scientists, leading to 2 promotions and a 30% increase in team productivity.” |\n",
      "| **Cross‑Functional Collaboration** | Highlights ability to work with product, engineering, and business | “Partnered with product managers to translate business KPIs into ML metrics, aligning model objectives with company goals.” |\n",
      "| **Innovation & Patents** | Sets you apart | “Co‑invented a novel anomaly‑detection algorithm now used in 3 production services.” |\n",
      "\n",
      "---\n",
      "\n",
      "## 4. Projects & Publications (Optional but Powerful)  \n",
      "- **Showcase high‑impact, end‑to‑end projects** that demonstrate your full stack.  \n",
      "- Include **links** (GitHub, Kaggle, demo videos).  \n",
      "- If you have **publications or patents**, list them with DOI or patent number.\n",
      "\n",
      "> **Example**  \n",
      "> *“Author of ‘Real‑Time Fraud Detection with Graph Neural Networks’ – published in IEEE Transactions on Knowledge and Data Engineering, 2023.”*\n",
      "\n",
      "---\n",
      "\n",
      "## 5. Education & Certifications  \n",
      "- **Degree(s)** – institution, year.  \n",
      "- **Relevant certifications** (AWS Certified Machine Learning – Specialty, TensorFlow Developer, etc.).  \n",
      "- **Continuing education** (Coursera, Udacity, etc.) if recent.\n",
      "\n",
      "---\n",
      "\n",
      "## 6. Optional Sections  \n",
      "- **Awards & Recognitions** – e.g., “Data Science Hackathon Winner, 2022.”  \n",
      "- **Languages** – if you’re multilingual.  \n",
      "- **Volunteer / Consulting** – especially if it’s data‑science related.\n",
      "\n",
      "---\n",
      "\n",
      "## 7. Formatting & Style Tips  \n",
      "| Tip | Why It Helps |\n",
      "|-----|--------------|\n",
      "| **Keep it to 1–2 pages** | Recruiters skim fast. |\n",
      "| **Use a clean, professional template** | Avoid clutter; use white space. |\n",
      "| **Bullet points, not paragraphs** | Easier to scan. |\n",
      "| **Consistent tense** – past for previous roles, present for current. |\n",
      "| **Quantify everything** – percentages, dollar values, time saved, accuracy improvements. |\n",
      "| **Tailor to the job** – swap in keywords from the posting (e.g., “MLOps,” “Explainable AI”). |\n",
      "\n",
      "---\n",
      "\n",
      "## Quick Self‑Check  \n",
      "1. **Does each bullet start with a strong action verb?**  \n",
      "2. **Are there clear, quantifiable outcomes?**  \n",
      "3. **Is the resume free of jargon that only a data scientist would understand?**  \n",
      "4. **Have you highlighted leadership and mentorship?**  \n",
      "5. **Is the formatting consistent and easy to read?**\n",
      "\n",
      "---\n",
      "\n",
      "### Next Steps  \n",
      "- **Draft** a one‑page version focusing on the most recent role.  \n",
      "- **Ask a peer** to review for clarity and impact.  \n",
      "- **Save** in PDF and keep a clean Word/Google Doc for future edits.\n",
      "\n",
      "Feel free to share a draft or ask about specific sections—happy to dive deeper into any part!\n"
     ]
    }
   ],
   "source": [
    "config = {\"configurable\": {\"thread_id\": \"2\", \"user_id\": \"1\"}}\n",
    "\n",
    "# User input \n",
    "input_messages = [HumanMessage(content=\"What do you recommend I focus on for my resume?\")]\n",
    "\n",
    "# Run the graph\n",
    "for chunk in memory_graph.stream({\"messages\": input_messages}, config, stream_mode=\"values\"):\n",
    "    chunk[\"messages\"][-1].pretty_print()"
   ]
  },
  {
   "cell_type": "markdown",
   "id": "28c2adfa",
   "metadata": {},
   "source": [
    "# Trustcall\n",
    "- Helps with complex or hard to generate schemas\n",
    "- We don't have to generate schemas from scratch every time we want to update something in memory"
   ]
  },
  {
   "cell_type": "code",
   "execution_count": 37,
   "id": "23bfa1f2",
   "metadata": {},
   "outputs": [],
   "source": [
    "from trustcall import create_extractor\n",
    "from pydantic import BaseModel, Field\n",
    "from typing import List\n",
    "\n",
    "# Schema \n",
    "class UserProfile(BaseModel):\n",
    "    \"\"\"User profile schema with typed fields\"\"\"\n",
    "    first_name: str = Field(description=\"The first name of the user\")\n",
    "    last_name: str = Field(description=\"The last name of the user\")\n",
    "    state: str = Field(description=\"The state of the user\")\n",
    "    email: str = Field(description=\"The email of the user\")\n",
    "    phone: str = Field(description=\"The phone number of the user\")\n",
    "    address: str = Field(description=\"The address of the user\")\n",
    "    city: str = Field(description=\"The city of the user\")\n",
    "    zip: str = Field(description=\"The zip code of the user\")\n",
    "    \n",
    "\n",
    "\n",
    "# Instruction\n",
    "system_msg = \"Extract the user profile from the following conversation\"\n",
    "\n",
    "# Invoke the extractor\n",
    "\n",
    "trust_call_extractor = create_extractor(\n",
    "    llm,\n",
    "    tools=[UserProfile],\n",
    "    tool_choice=\"UserProfile\"\n",
    "    )"
   ]
  },
  {
   "cell_type": "code",
   "execution_count": 44,
   "id": "52562de2",
   "metadata": {},
   "outputs": [
    {
     "data": {
      "text/plain": [
       "[UserProfile(first_name='John', last_name='Doe', state='CA', email='john.doe@gmail.com', phone='', address='123 Main St', city='San Francisco', zip='94101')]"
      ]
     },
     "execution_count": 44,
     "metadata": {},
     "output_type": "execute_result"
    }
   ],
   "source": [
    "system_message = \"Extract the user profile from the following conversation\"\n",
    "conversation = [HumanMessage(content=\"My name is John Doe and I live at 123 Main St, San Francisco, CA 94101\"),\n",
    "                HumanMessage(content=\"My email is john.doe@gmail.com\"),\n",
    "                ]\n",
    "result = trust_call_extractor.invoke({\"messages\": [SystemMessage(content=system_msg)]+conversation})\n",
    "schema = result['responses']\n",
    "schema"
   ]
  },
  {
   "cell_type": "code",
   "execution_count": 47,
   "id": "9cde1734",
   "metadata": {},
   "outputs": [],
   "source": [
    "# Update the instruction\n",
    "updated_conversation = [HumanMessage(content=\"My name is John Doe and I live at 123 Main St, San Francisco, CA 94101\"),\n",
    "                HumanMessage(content=\"My email is john.doe@gmail.com\"),\n",
    "                HumanMessage(content=\"I recently moved to 2345 Broadway, Phoenix, AZ 85004\")]\n",
    "system_msg = f\"\"\"Update the memory (JSON doc) to incorporate new information from the following conversation\"\"\"\n",
    "\n",
    "# Invoke the extractor with the updated instruction and existing profile with the corresponding tool name (UserProfile)\n",
    "result = trust_call_extractor.invoke({\"messages\": [SystemMessage(content=system_msg)]+updated_conversation}, \n",
    "                                    {\"existing\": {\"UserProfile\": schema[0].model_dump()}})  "
   ]
  },
  {
   "cell_type": "code",
   "execution_count": 48,
   "id": "1ce42c32",
   "metadata": {},
   "outputs": [
    {
     "data": {
      "text/plain": [
       "{'first_name': 'John',\n",
       " 'last_name': 'Doe',\n",
       " 'state': 'AZ',\n",
       " 'email': 'john.doe@gmail.com',\n",
       " 'phone': '',\n",
       " 'address': '2345 Broadway',\n",
       " 'city': 'Phoenix',\n",
       " 'zip': '85004'}"
      ]
     },
     "execution_count": 48,
     "metadata": {},
     "output_type": "execute_result"
    }
   ],
   "source": [
    "result['responses'][0].model_dump()"
   ]
  },
  {
   "cell_type": "code",
   "execution_count": 49,
   "id": "dfa7cd5b",
   "metadata": {},
   "outputs": [
    {
     "data": {
      "image/png": "[encoded data removed]",
      "text/plain": [
       "<IPython.core.display.Image object>"
      ]
     },
     "metadata": {},
     "output_type": "display_data"
    }
   ],
   "source": [
    "# Chatbot instruction\n",
    "MODEL_SYSTEM_MESSAGE = \"\"\"You are a helpful assistant with memory that provides information about the user. \n",
    "If you have memory for this user, use it to personalize your responses.\n",
    "Here is the memory (it may be empty): {memory}\"\"\"\n",
    "\n",
    "# Extraction instruction\n",
    "TRUSTCALL_INSTRUCTION = \"\"\"Create or update the memory (JSON doc) to incorporate information from the following conversation:\"\"\"\n",
    "\n",
    "def call_model(state: MessagesState, config: RunnableConfig, store: BaseStore):\n",
    "\n",
    "    \"\"\"Load memory from the store and use it to personalize the chatbot's response.\"\"\"\n",
    "    \n",
    "    # Get the user ID from the config\n",
    "    user_id = config[\"configurable\"][\"user_id\"]\n",
    "\n",
    "    # Retrieve memory from the store\n",
    "    namespace = (\"memory\", user_id)\n",
    "    existing_memory = store.get(namespace, \"user_memory\")\n",
    "\n",
    "    # Format the memories for the system prompt\n",
    "    if existing_memory and existing_memory.value:\n",
    "        memory_dict = existing_memory.value\n",
    "        formatted_memory = (\n",
    "            f\"First Name: {memory_dict.get('first_name', 'Unknown')}\\n\"\n",
    "            f\"Last Name: {memory_dict.get('last_name', 'Unknown')}\\n\"\n",
    "            f\"Phone: {', '.join(memory_dict.get('phone', 'Unknown'))}\\n\"\n",
    "            f\"Email: {', '.join(memory_dict.get('email', 'Unknown'))}\\n\"\n",
    "            f\"Address: {', '.join(memory_dict.get('address', 'Unknown'))}\\n\"\n",
    "            f\"State: {', '.join(memory_dict.get('state', 'Unknown'))}\\n\" \n",
    "            f\"City: {', '.join(memory_dict.get('city', 'Unknown'))}\\n\"  \n",
    "            f\"Zip: {', '.join(memory_dict.get('zip', 'Unknown'))}\\n\"  \n",
    "        )\n",
    "    else:\n",
    "        formatted_memory = None\n",
    "\n",
    "    # Format the memory in the system prompt\n",
    "    system_msg = MODEL_SYSTEM_MESSAGE.format(memory=formatted_memory)\n",
    "\n",
    "    # Respond using memory as well as the chat history\n",
    "    response = llm.invoke([SystemMessage(content=system_msg)]+state[\"messages\"])\n",
    "\n",
    "    return {\"messages\": response}\n",
    "\n",
    "def write_memory(state: MessagesState, config: RunnableConfig, store: BaseStore):\n",
    "\n",
    "    \"\"\"Reflect on the chat history and save a memory to the store.\"\"\"\n",
    "    \n",
    "    # Get the user ID from the config\n",
    "    user_id = config[\"configurable\"][\"user_id\"]\n",
    "\n",
    "    # Retrieve existing memory from the store\n",
    "    namespace = (\"memory\", user_id)\n",
    "    existing_memory = store.get(namespace, \"user_memory\")\n",
    "        \n",
    "    # Get the profile as the value from the list, and convert it to a JSON doc\n",
    "    existing_profile = {\"UserProfile\": existing_memory.value} if existing_memory else None\n",
    "    \n",
    "    # Invoke the extractor\n",
    "    result = trust_call_extractor.invoke({\"messages\": [SystemMessage(content=TRUSTCALL_INSTRUCTION)]+state[\"messages\"], \"existing\": existing_profile})\n",
    "    \n",
    "    # Get the updated profile as a JSON object\n",
    "    updated_profile = result[\"responses\"][0].model_dump()\n",
    "\n",
    "    # Save the updated profile\n",
    "    key = \"user_memory\"\n",
    "    store.put(namespace, key, updated_profile)\n",
    "\n",
    "# Define the graph\n",
    "builder = StateGraph(MessagesState)\n",
    "builder.add_node(\"call_model\", call_model)\n",
    "builder.add_node(\"write_memory\", write_memory)\n",
    "builder.add_edge(START, \"call_model\")\n",
    "builder.add_edge(\"call_model\", \"write_memory\")\n",
    "builder.add_edge(\"write_memory\", END)\n",
    "\n",
    "# Store for long-term (across-thread) memory\n",
    "across_thread_memory = InMemoryStore()\n",
    "\n",
    "# Checkpointer for short-term (within-thread) memory\n",
    "within_thread_memory = MemorySaver()\n",
    "\n",
    "# Compile the graph with the checkpointer fir and store\n",
    "graph = builder.compile(checkpointer=within_thread_memory, store=across_thread_memory)\n",
    "\n",
    "# View\n",
    "display(Image(graph.get_graph(xray=1).draw_mermaid_png()))"
   ]
  },
  {
   "cell_type": "code",
   "execution_count": 50,
   "id": "fa7388da",
   "metadata": {},
   "outputs": [
    {
     "name": "stdout",
     "output_type": "stream",
     "text": [
      "================================\u001b[1m Human Message \u001b[0m=================================\n",
      "\n",
      "Hi, my name is John\n",
      "==================================\u001b[1m Ai Message \u001b[0m==================================\n",
      "\n",
      "Hello, John! 👋 How can I help you today?\n"
     ]
    }
   ],
   "source": [
    "# We supply a user ID for long-term (across-thread) memory \n",
    "config = {\"configurable\": {\"thread_id\": \"1\", \"user_id\": \"1\"}}\n",
    "\n",
    "# User input \n",
    "input_messages = [HumanMessage(content=\"Hi, my name is John\")]\n",
    "\n",
    "# Run the graph\n",
    "for chunk in graph.stream({\"messages\": input_messages}, config, stream_mode=\"values\"):\n",
    "    chunk[\"messages\"][-1].pretty_print()"
   ]
  },
  {
   "cell_type": "code",
   "execution_count": 51,
   "id": "ecf20749",
   "metadata": {},
   "outputs": [
    {
     "name": "stdout",
     "output_type": "stream",
     "text": [
      "================================\u001b[1m Human Message \u001b[0m=================================\n",
      "\n",
      "I like to bike around San Francisco\n",
      "==================================\u001b[1m Ai Message \u001b[0m==================================\n",
      "\n",
      "That’s awesome, John! 🚴‍♂️ San Francisco is a cyclist’s playground with its iconic hills, scenic waterfronts, and a growing network of bike lanes. Here are a few ideas and tips to help you make the most of your rides:\n",
      "\n",
      "---\n",
      "\n",
      "## 1. Must‑See Routes\n",
      "\n",
      "| Route | Distance | Highlights | Difficulty |\n",
      "|-------|----------|------------|------------|\n",
      "| **Golden Gate Bridge to Ocean Beach** | ~12 mi (round trip) | Bridge views, Pacific Ocean, Ocean Beach promenade | Moderate‑Hard (hills + traffic on the bridge) |\n",
      "| **Mission Bay Loop** | ~8 mi | Waterfront parks, tech campus views, bike‑friendly streets | Easy |\n",
      "| **Presidio to Crissy Field** | ~6 mi | Golden Gate Park, Presidio trails, Crissy Field beach | Easy‑Moderate |\n",
      "| **Twin Peaks to Lombard Street** | ~5 mi | Panoramic city views, the “crooked” Lombard Street | Moderate |\n",
      "| **Bay Trail (East Bay)** | 30 mi+ | Scenic waterfront, parks, quiet lanes | Easy |\n",
      "\n",
      "> **Tip:** Use the **SF Bike Map** (city.gov) to see bike lanes, bike‑friendly streets, and upcoming construction.\n",
      "\n",
      "---\n",
      "\n",
      "## 2. Safety First\n",
      "\n",
      "| Safety Tip | Why It Matters |\n",
      "|------------|----------------|\n",
      "| **Wear a helmet** | Mandatory in California and reduces head injury risk. |\n",
      "| **Use lights & reflectors** | 20 % of accidents happen at night or low light. |\n",
      "| **Follow traffic rules** | Treat bike lanes like any other lane—stop at red lights, yield to pedestrians. |\n",
      "| **Stay visible** | Wear bright or reflective clothing, especially in fog or rain. |\n",
      "| **Check your bike** | Inspect brakes, tires, and chain before each ride. |\n",
      "\n",
      "---\n",
      "\n",
      "## 3. Gear & Essentials\n",
      "\n",
      "| Item | Recommendation |\n",
      "|------|----------------|\n",
      "| **Helmet** | DOT‑certified, adjustable. |\n",
      "| **Lights** | Front white, rear red, battery backup. |\n",
      "| **Water bottle** | 1–2 L capacity; many bike racks have bottle cages. |\n",
      "| **Repair kit** | Mini pump, spare tube, tire levers, multi‑tool. |\n",
      "| **Phone mount** | For navigation or emergency contact. |\n",
      "| **Bike lock** | U‑lock or heavy‑duty chain for secure parking. |\n",
      "\n",
      "---\n",
      "\n",
      "## 4. Apps & Resources\n",
      "\n",
      "| App/Website | What it offers |\n",
      "|-------------|----------------|\n",
      "| **Google Maps** | Bike routing, traffic, elevation. |\n",
      "| **Komoot** | Trail maps, offline navigation. |\n",
      "| **Strava** | Track rides, join local clubs, see leaderboards. |\n",
      "| **BikeSFO** | City bike‑share program (Dockless & docked). |\n",
      "| **SF Bike Map** | Official city bike lane map. |\n",
      "\n",
      "---\n",
      "\n",
      "## 5. Local Events & Communities\n",
      "\n",
      "| Event | When | What to Expect |\n",
      "|-------|------|----------------|\n",
      "| **San Francisco Bike Week** | Late March | Group rides, workshops, charity events. |\n",
      "| **Bay to Breakers** | Early May | 12‑mile race, festive atmosphere. |\n",
      "| **Bike SF Meetup** | Weekly | Casual rides, skill swaps, socializing. |\n",
      "\n",
      "---\n",
      "\n",
      "## 6. Quick Route Planner (Example)\n",
      "\n",
      "**Morning Ride: Mission Bay to Golden Gate Park**\n",
      "\n",
      "1. **Start**: 1st & Mission (Mission Bay).  \n",
      "2. **Head north** on 1st Street (bike lane).  \n",
      "3. **Turn right** onto 19th Street (bike lane).  \n",
      "4. **Continue** to the Presidio entrance.  \n",
      "5. **Ride** along the Presidio Trail to Crissy Field.  \n",
      "6. **Loop** through Golden Gate Park (bike lanes on 19th & 20th).  \n",
      "7. **Return** via 19th Street to Mission Bay.\n",
      "\n",
      "*Total distance*: ~10 mi  \n",
      "*Elevation gain*: ~400 ft (mostly flat, some gentle climbs).  \n",
      "\n",
      "---\n",
      "\n",
      "### Final Thought\n",
      "\n",
      "Whether you’re a casual cruiser or a serious trailblazer, San Francisco offers endless opportunities to explore on two wheels. Keep an eye on the weather (fog can roll in early), stay hydrated, and enjoy the city’s vibrant bike culture!\n",
      "\n",
      "Happy riding, John! 🚴‍♂️🌁 If you need a specific route or more details, just let me know.\n"
     ]
    }
   ],
   "source": [
    "# User input \n",
    "input_messages = [HumanMessage(content=\"I like to bike around San Francisco\")]\n",
    "\n",
    "# Run the graph\n",
    "for chunk in graph.stream({\"messages\": input_messages}, config, stream_mode=\"values\"):\n",
    "    chunk[\"messages\"][-1].pretty_print()"
   ]
  },
  {
   "cell_type": "code",
   "execution_count": 52,
   "id": "6c95e836",
   "metadata": {},
   "outputs": [
    {
     "data": {
      "text/plain": [
       "{'namespace': ['memory', '1'],\n",
       " 'key': 'user_memory',\n",
       " 'value': {'first_name': 'John',\n",
       "  'last_name': '',\n",
       "  'state': 'CA',\n",
       "  'email': '',\n",
       "  'phone': '',\n",
       "  'address': '',\n",
       "  'city': 'San Francisco',\n",
       "  'zip': ''},\n",
       " 'created_at': '2025-08-25T05:31:11.568113+00:00',\n",
       " 'updated_at': '2025-08-25T05:31:11.568113+00:00'}"
      ]
     },
     "execution_count": 52,
     "metadata": {},
     "output_type": "execute_result"
    }
   ],
   "source": [
    "# Namespace for the memory to save\n",
    "user_id = \"1\"\n",
    "namespace = (\"memory\", user_id)\n",
    "existing_memory = across_thread_memory.get(namespace, \"user_memory\")\n",
    "existing_memory.dict()"
   ]
  },
  {
   "cell_type": "code",
   "execution_count": 55,
   "id": "5265d2df",
   "metadata": {},
   "outputs": [
    {
     "name": "stdout",
     "output_type": "stream",
     "text": [
      "================================\u001b[1m Human Message \u001b[0m=================================\n",
      "\n",
      "I am a data scientist\n",
      "==================================\u001b[1m Ai Message \u001b[0m==================================\n",
      "\n",
      "Nice to meet you, John!  \n",
      "As a data scientist, you probably appreciate precision, quality, and a bit of creativity—just like a great bakery. If you’re looking for a place that offers a mix of classic pastries and innovative flavors (think “data‑driven” flavor profiles), the list I shared earlier still fits the bill.  \n",
      "\n",
      "If you’d like something more tailored—perhaps a bakery that offers a “data‑science” themed pastry, or a spot that’s popular among tech professionals—just let me know! I’m happy to dig deeper or help with anything else you might need.\n"
     ]
    }
   ],
   "source": [
    "# User input \n",
    "input_messages = [HumanMessage(content=\"I am a data scientist\")]\n",
    "\n",
    "# Run the graph\n",
    "for chunk in graph.stream({\"messages\": input_messages}, config, stream_mode=\"values\"):\n",
    "    chunk[\"messages\"][-1].pretty_print()"
   ]
  },
  {
   "cell_type": "code",
   "execution_count": 56,
   "id": "72f3975e",
   "metadata": {},
   "outputs": [
    {
     "name": "stdout",
     "output_type": "stream",
     "text": [
      "================================\u001b[1m Human Message \u001b[0m=================================\n",
      "\n",
      "What compaines do you recommend for me?\n",
      "==================================\u001b[1m Ai Message \u001b[0m==================================\n",
      "\n",
      "Hi John!  \n",
      "Since you’re a data scientist, I’ll focus on companies that value analytics, machine‑learning talent, and offer a good fit for someone in West Palm Beach (or remote). Below are a mix of local firms, regional players, and national/remote opportunities that are known for strong data‑science teams. Feel free to let me know if you have a particular industry, company size, or culture in mind, and I can narrow it down further.\n",
      "\n",
      "---\n",
      "\n",
      "## 1. Local & Regional Companies (West Palm Beach / South Florida)\n",
      "\n",
      "| Company | Industry | Why It’s a Good Fit | Typical Data‑Science Roles | Remote Flexibility |\n",
      "|---------|----------|---------------------|----------------------------|--------------------|\n",
      "| **American Express – Global Technology & Innovation Center** | Financial Services | • Large data‑science org focused on fraud detection, customer segmentation, and AI. <br>• Strong emphasis on professional development. | Data Scientist, Machine Learning Engineer, Analytics Engineer | Hybrid (some roles fully remote) |\n",
      "| **Allstate – Data & Analytics** | Insurance | • Heavy use of predictive modeling for underwriting & claims. <br>• Collaborative culture with cross‑functional teams. | Data Scientist, Risk Analyst, Data Engineer | Hybrid/Remote |\n",
      "| **Florida Hospital – Data & Analytics** | Healthcare | • Big data from EMR, imaging, and patient outcomes. <br>• Opportunities in clinical analytics & population health. | Clinical Data Scientist, Health Informatics Analyst | Hybrid |\n",
      "| **BrewDog – Data & Analytics (Florida)** | Beverage / Retail | • Focus on consumer insights, supply‑chain optimization, and marketing analytics. | Data Scientist, Business Intelligence Analyst | Remote |\n",
      "| **Local Startups (e.g., **[**SaaSify**](https://saasify.io)**, **[**HealthTech Hub**](https://healthtechhub.com)**)** | Various | • Fast‑paced, hands‑on roles; often need to build end‑to‑end pipelines. | Junior‑Senior Data Scientist, ML Engineer | Remote or on‑site |\n",
      "\n",
      "---\n",
      "\n",
      "## 2. National/Remote Opportunities (Open to All Locations)\n",
      "\n",
      "| Company | Industry | What They’re Looking For | Typical Data‑Science Roles | Remote Status |\n",
      "|---------|----------|--------------------------|----------------------------|---------------|\n",
      "| **Google** | Tech | • Strong ML/AI focus, open‑source contributions, and large‑scale data problems. | Senior Data Scientist, ML Researcher, Data Engineer | Fully remote (some roles) |\n",
      "| **Amazon Web Services (AWS)** | Cloud | • Data‑science teams across services (SageMaker, Forecast, Personalize). | Data Scientist, ML Engineer, Analytics Engineer | Remote |\n",
      "| **Microsoft** | Tech | • AI, Azure, and data‑platform initiatives. | Data Scientist, AI Engineer, Data Platform Engineer | Remote |\n",
      "| **Palantir** | Data Integration | • Complex data‑integration & analytics for government & enterprise. | Data Scientist, Data Engineer, ML Engineer | Remote |\n",
      "| **Databricks** | Big Data | • Spark, Delta Lake, and MLflow. | Data Scientist, ML Engineer, Data Engineer | Remote |\n",
      "| **Stripe** | FinTech | • Fraud detection, risk modeling, and payment analytics. | Data Scientist, ML Engineer | Remote |\n",
      "| **Cognizant** | Consulting | • Analytics consulting across industries. | Data Scientist, Analytics Consultant | Remote |\n",
      "| **IBM** | Enterprise Tech | • AI, data‑platform, and industry‑specific solutions. | Data Scientist, AI Engineer | Remote |\n",
      "\n",
      "---\n",
      "\n",
      "## 3. Industries You Might Enjoy\n",
      "\n",
      "| Industry | Why It’s Exciting for Data Scientists | Example Companies |\n",
      "|----------|--------------------------------------|-------------------|\n",
      "| **FinTech** | Real‑time risk modeling, fraud detection, and algorithmic trading. | Stripe, Square, Plaid |\n",
      "| **HealthTech** | Predictive modeling for patient outcomes, genomics, and drug discovery. | Tempus, Flatiron Health, Flatiron Health |\n",
      "| **Retail & E‑commerce** | Personalization, demand forecasting, and supply‑chain optimization. | Amazon, Walmart, Shopify |\n",
      "| **Telecom** | Network optimization, churn prediction, and customer segmentation. | AT&T, Verizon |\n",
      "| **Energy & Utilities** | Smart grid analytics, predictive maintenance, and sustainability modeling. | NextEra Energy, Duke Energy |\n",
      "\n",
      "---\n",
      "\n",
      "## 4. Quick Tips for Your Job Hunt\n",
      "\n",
      "1. **Leverage Your Local Network** – Attend South Florida data‑science meetups (e.g., **Data Science South Florida**, **PyData Miami**) and connect on LinkedIn with local hiring managers.\n",
      "2. **Showcase Projects** – Build a portfolio on GitHub or a personal website that highlights end‑to‑end pipelines, model deployment, and business impact.\n",
      "3. **Certifications** – If you haven’t already, consider certifications like **Google Cloud Professional Data Engineer**, **AWS Certified Machine Learning – Specialty**, or **Databricks Certified Data Engineer**.\n",
      "4. **Tailor Your Resume** – Emphasize metrics (e.g., “improved churn prediction accuracy by 12%”) and tools (Python, SQL, Spark, TensorFlow, etc.).\n",
      "5. **Remote‑First Companies** – Many tech firms now offer fully remote roles; you can stay in West Palm Beach while working for a global team.\n",
      "\n",
      "---\n",
      "\n",
      "### Next Steps\n",
      "\n",
      "- **Tell me** if you have a preferred industry, company size, or remote vs. on‑site preference.  \n",
      "- **Ask** about interview prep, specific skill gaps, or how to negotiate offers.  \n",
      "- **Let me know** if you’d like help drafting a cover letter or tailoring your LinkedIn profile.\n",
      "\n",
      "Good luck, John! 🚀\n"
     ]
    }
   ],
   "source": [
    "config = {\"configurable\": {\"thread_id\": \"2\", \"user_id\": \"1\"}}\n",
    "\n",
    "# User input \n",
    "input_messages = [HumanMessage(content=\"What compaines do you recommend for me?\")]\n",
    "\n",
    "# Run the graph\n",
    "for chunk in graph.stream({\"messages\": input_messages}, config, stream_mode=\"values\"):\n",
    "    chunk[\"messages\"][-1].pretty_print()"
   ]
  },
  {
   "cell_type": "markdown",
   "id": "87d396ab",
   "metadata": {},
   "source": [
    "# Saving memory collections\n"
   ]
  },
  {
   "cell_type": "code",
   "execution_count": 60,
   "id": "434df3f6",
   "metadata": {},
   "outputs": [],
   "source": [
    "from pydantic import BaseModel, Field\n",
    "from langchain_core.messages import HumanMessage, SystemMessage, merge_message_runs\n",
    "from langchain_core.runnables import RunnableConfig\n",
    "from langgraph.graph import MessagesState, START, END\n",
    "from langgraph.store.memory import InMemoryStore\n",
    "from langgraph.checkpoint.memory import MemorySaver\n",
    "from langchain_groq import ChatGroq\n",
    "from langchain_core.runnables import RunnableConfig\n",
    "\n",
    "class Memory(BaseModel):\n",
    "    content: str = Field(description=\"The main content of the memory. For example: User expressed interest in learning about AI\")\n",
    "    \n",
    "class MemoryCollection(BaseModel):\n",
    "    memories: list[Memory] = Field(description=\"A list of memories about the user\")"
   ]
  },
  {
   "cell_type": "code",
   "execution_count": null,
   "id": "14f1ee69",
   "metadata": {},
   "outputs": [
    {
     "data": {
      "text/plain": [
       "[Memory(content=\"User's name is John and they are a data scientist.\")]"
      ]
     },
     "execution_count": 59,
     "metadata": {},
     "output_type": "execute_result"
    }
   ],
   "source": [
    "from langchain_core.messages import HumanMessage\n",
    "from langchain_groq import ChatGroq\n",
    "\n",
    "llm = ChatGroq(model=\"openai/gpt-oss-20b\", temperature=0)\n",
    "\n",
    "trustcall_extractor = create_extractor(\n",
    "    llm,\n",
    "    tools = [Memory],\n",
    "    tool_choice = \"Memory\",\n",
    "    enable_inserts = True,\n",
    ")\n",
    "\n",
    "MODEL_SYSTEM_PROMPT = \"\"\"\n",
    "You are a helpful chatbot. You are designed to be a companion for the user.\n",
    "\n",
    "You have a long term memory which keeps track of information you learn about the user over time.\n",
    "\n",
    "Current Memory (may include updated memories from this conversation):\n",
    "\n",
    "{memory}\n",
    "\"\"\"\n",
    "\n",
    "TRUSTCALL_PROMPT = \"\"\" \n",
    "Reflect on the following interaction.\n",
    "\n",
    "Use provided tools to retain necessary information about the user.\n",
    "\n",
    "Use parallel tool calling to handle insertions and updates simultaneously.\"\"\"\n",
    "\n",
    "def call_model(state: MessagesState, config: RunnableConfig, store: BaseStore):\n",
    "    \"\"\"Load memory from the store and use it to personalize the chatbot's response.\"\"\"\n",
    "    \n",
    "    user_id = config[\"configurable\"][\"user_id\"]\n",
    "    namespace = (\"memory\", user_id)\n",
    "    memories = store.search(namespace)\n",
    "    \n",
    "    # format the memories for the system prompt\n",
    "    info = \"\\n\".join(f\"- {memory.value['content']}\" for memory in memories)\n",
    "    system_prompt = MODEL_SYSTEM_PROMPT.format(memory=info)\n",
    "    \n",
    "    # respond using memory as well as chat history\n",
    "    response = llm.invoke([SystemMessage(content=system_prompt)]+state[\"messages\"])\n",
    "    \n",
    "    return {\"messages\": [response]}\n",
    "\n",
    "def write_memory(state: MessagesState, config: RunnableConfig, store: BaseStore):\n",
    "    \"\"\"Write the memory to the store.\"\"\"\n",
    "    \n",
    "    user_id = config[\"configurable\"][\"user_id\"]\n",
    "    namespace = (\"memory\", user_id)\n",
    "    # Fetch most recent memories\n",
    "    existing_items = store.search(namespace)\n",
    "    \n",
    "    # format existing memories for TrustCall extractor\n",
    "    tool_name = \"Memory\"\n",
    "    existing_memories = (\n",
    "        [\n",
    "            (existing_item.key,tool_name, existing_item.value)\n",
    "            for existing_item in existing_items\n",
    "        ]\n",
    "        if existing_items else None\n",
    "    )\n",
    "    \n",
    "    updated_messages = list(merge_message_runs(messages = [SystemMessage(content=TRUSTCALL_PROMPT)]+state[\"messages\"]))\n",
    "    \n",
    "    # invoke extractor:\n",
    "    result = trustcall_extractor.invoke(\n",
    "        {\"messages\": updated_messages},\n",
    "        {\"existing\": existing_memories}\n",
    "    )\n",
    "\n",
    "    # write the new memories to the store\n",
    "    for r, rmeta in zip(result[\"responses\"], result[\"response_metadata\"]):\n",
    "        store.put(namespace, \n",
    "                  rmeta.get('json_doc_id', str(uuid.uuid4())),\n",
    "                  r.model_dump(mode=\"json\"))\n",
    "\n"
   ]
  },
  {
   "cell_type": "code",
   "execution_count": 61,
   "id": "a377a29a",
   "metadata": {},
   "outputs": [
    {
     "data": {
      "image/png": "[encoded data removed]",
      "text/plain": [
       "<IPython.core.display.Image object>"
      ]
     },
     "metadata": {},
     "output_type": "display_data"
    }
   ],
   "source": [
    "# Define the graph\n",
    "builder = StateGraph(MessagesState)\n",
    "builder.add_node(\"call_model\", call_model)\n",
    "builder.add_node(\"write_memory\", write_memory)\n",
    "builder.add_edge(START, \"call_model\")\n",
    "builder.add_edge(\"call_model\", \"write_memory\")\n",
    "builder.add_edge(\"write_memory\", END)\n",
    "\n",
    "# Store for long-term (across-thread) memory\n",
    "across_thread_memory = InMemoryStore()\n",
    "\n",
    "# Checkpointer for short-term (within-thread) memory\n",
    "within_thread_memory = MemorySaver()\n",
    "\n",
    "# Compile the graph with the checkpointer fir and store\n",
    "graph = builder.compile(checkpointer=within_thread_memory, store=across_thread_memory)\n",
    "\n",
    "# View\n",
    "display(Image(graph.get_graph(xray=1).draw_mermaid_png()))"
   ]
  },
  {
   "cell_type": "code",
   "execution_count": 67,
   "id": "b177d291",
   "metadata": {},
   "outputs": [
    {
     "name": "stdout",
     "output_type": "stream",
     "text": [
      "================================\u001b[1m Human Message \u001b[0m=================================\n",
      "\n",
      "Hi, my name is Lance\n",
      "==================================\u001b[1m Ai Message \u001b[0m==================================\n",
      "\n",
      "Hey Lance! 👋 How can I help you today?\n"
     ]
    }
   ],
   "source": [
    "config = {\"configurable\": {\"thread_id\": \"1\", \"user_id\": \"1\"}}\n",
    "\n",
    "# User input \n",
    "input_messages = [HumanMessage(content=\"Hi, my name is Lance\")]\n",
    "\n",
    "# Run the graph\n",
    "for chunk in graph.stream({\"messages\": input_messages}, config, stream_mode=\"values\"):\n",
    "    chunk[\"messages\"][-1].pretty_print()"
   ]
  },
  {
   "cell_type": "code",
   "execution_count": 68,
   "id": "50588912",
   "metadata": {},
   "outputs": [
    {
     "name": "stdout",
     "output_type": "stream",
     "text": [
      "================================\u001b[1m Human Message \u001b[0m=================================\n",
      "\n",
      "I like to bike around San Francisco\n",
      "==================================\u001b[1m Ai Message \u001b[0m==================================\n",
      "\n",
      "That’s great to hear, Lance! 🚴‍♂️ San Francisco is a cyclist’s playground. Do you have a particular type of ride in mind—hills, scenic waterfronts, or maybe a quick commute? Or are you looking for gear tips, safety advice, or upcoming bike events? Let me know what you’d like to dive into next!\n"
     ]
    }
   ],
   "source": [
    "# User input \n",
    "input_messages = [HumanMessage(content=\"I like to bike around San Francisco\")]\n",
    "\n",
    "# Run the graph\n",
    "for chunk in graph.stream({\"messages\": input_messages}, config, stream_mode=\"values\"):\n",
    "    chunk[\"messages\"][-1].pretty_print()"
   ]
  },
  {
   "cell_type": "code",
   "execution_count": 69,
   "id": "3aa029b1",
   "metadata": {},
   "outputs": [
    {
     "name": "stdout",
     "output_type": "stream",
     "text": [
      "================================\u001b[1m Human Message \u001b[0m=================================\n",
      "\n",
      "Whats bakery near me?\n",
      "==================================\u001b[1m Ai Message \u001b[0m==================================\n",
      "\n",
      "I don’t have your exact address, but here are some of the most popular bakeries in San Francisco that are spread out across the city. Pick the one that’s closest to where you’re standing, or let me know a neighborhood or cross‑street and I can narrow it down even further!\n",
      "\n",
      "| Bakery | Approx. Location | Highlights |\n",
      "|--------|------------------|------------|\n",
      "| **Boudin Bakery** | 160 Jefferson St (Fisherman’s Wharf) | Iconic sourdough loaves, clam chowder in a bread bowl |\n",
      "| **Tartine Bakery** | 600 Guerrero St (Mission District) | Sourdough, lemon cake, croissant‑tartine |\n",
      "| **Acme Bread Company** | 1000 3rd St (SoMa) | Artisan breads, bagels, pastries |\n",
      "| **Miette** | 1000 3rd St (SoMa) | French‑style pastries, macarons, coffee |\n",
      "| **The Mill** | 736 Divisadero St (Mission) | Sourdough toast, pastries, café vibe |\n",
      "| **Baker & Cook** | 1000 3rd St (SoMa) | Classic American pastries, cakes |\n",
      "| **Dough** | 1000 3rd St (SoMa) | Artisan breads, bagels, coffee |\n",
      "| **Boulangerie Patisserie** | 1000 3rd St (SoMa) | French pastries, croissants |\n",
      "| **Masa** | 1000 3rd St (SoMa) | Japanese‑style pastries |\n",
      "| **Baker’s Dozen** | 1000 3rd St (SoMa) | Classic pastries, cakes |\n",
      "\n",
      "If you’re near a specific area—like the Mission, the Financial District, the Marina, or the Sunset—just let me know and I’ll point you to the nearest spot. Enjoy your sweet treat!\n"
     ]
    }
   ],
   "source": [
    "config = {\"configurable\": {\"thread_id\": \"2\", \"user_id\": \"1\"}}\n",
    "\n",
    "# User input \n",
    "input_messages = [HumanMessage(content=\"Whats bakery near me?\")]\n",
    "\n",
    "# Run the graph\n",
    "for chunk in graph.stream({\"messages\": input_messages}, config, stream_mode=\"values\"):\n",
    "    chunk[\"messages\"][-1].pretty_print()"
   ]
  },
  {
   "cell_type": "code",
   "execution_count": 71,
   "id": "acce1fce",
   "metadata": {},
   "outputs": [
    {
     "name": "stdout",
     "output_type": "stream",
     "text": [
      "[]\n"
     ]
    }
   ],
   "source": [
    "user_id = \"1\"\n",
    "namespace = (\"memories\", user_id)\n",
    "memories = across_thread_memory.search(namespace)\n",
    "print(memories)"
   ]
  },
  {
   "cell_type": "code",
   "execution_count": null,
   "id": "78bf2411",
   "metadata": {},
   "outputs": [],
   "source": []
  }
 ],
 "metadata": {
  "kernelspec": {
   "display_name": ".venv",
   "language": "python",
   "name": "python3"
  },
  "language_info": {
   "codemirror_mode": {
    "name": "ipython",
    "version": 3
   },
   "file_extension": ".py",
   "mimetype": "text/x-python",
   "name": "python",
   "nbconvert_exporter": "python",
   "pygments_lexer": "ipython3",
   "version": "3.12.11"
  }
 },
 "nbformat": 4,
 "nbformat_minor": 5
}
