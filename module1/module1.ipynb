{
 "cells": [
  {
   "cell_type": "markdown",
   "id": "61c9da27",
   "metadata": {},
   "source": [
    "# Goal:\n",
    "- Building an LLM agent with tool nodes, chaining it up, adding routing logic and memory"
   ]
  },
  {
   "cell_type": "markdown",
   "id": "e4edbbc3",
   "metadata": {},
   "source": [
    "# Simple chaining example with Langgraph\n",
    "## Components\n",
    "- Using chat messages in graph\n",
    "- Using chat models\n",
    "- Binding tools to our LLM\n",
    "- Executing tool calls in our graph"
   ]
  },
  {
   "cell_type": "markdown",
   "id": "ba4cceef",
   "metadata": {},
   "source": [
    "# Messages\n",
    "- HumanMessage, AIMessage, SystemMessage, ToolMessage\n",
    "## Messages can be supplied with a few things:\n",
    "- content: Content of the message\n",
    "- name: Optionally, who's creating the message\n",
    "- response_metadata: optionally, a dict of metadata that is often specific to each model provider"
   ]
  },
  {
   "cell_type": "code",
   "execution_count": 1,
   "id": "c76895c3",
   "metadata": {},
   "outputs": [
    {
     "name": "stdout",
     "output_type": "stream",
     "text": [
      "==================================\u001b[1m Ai Message \u001b[0m==================================\n",
      "Name: Model\n",
      "\n",
      "So you said you were researching ocen mammals?\n",
      "================================\u001b[1m Human Message \u001b[0m=================================\n",
      "Name: abc\n",
      "\n",
      "Yes, that's right.\n",
      "==================================\u001b[1m Ai Message \u001b[0m==================================\n",
      "Name: Model\n",
      "\n",
      "Great, what would you like to learn about?\n",
      "================================\u001b[1m Human Message \u001b[0m=================================\n",
      "Name: abc\n",
      "\n",
      "I want to learn about the best place to see Orcas in the USA.\n"
     ]
    }
   ],
   "source": [
    "from pprint import pprint\n",
    "from langchain_core.messages import AIMessage, HumanMessage, SystemMessage\n",
    "\n",
    "messages = [AIMessage(content = f\"So you said you were researching ocen mammals?\", name= \"Model\")]\n",
    "messages.extend([HumanMessage(content=f\"Yes, that's right.\", name = \"abc\")])\n",
    "messages.extend([AIMessage(content=f\"Great, what would you like to learn about?\", name=\"Model\")])\n",
    "messages.extend([HumanMessage(content=f\"I want to learn about the best place to see Orcas in the USA.\", name=\"abc\")])\n",
    "\n",
    "for m in messages:\n",
    "    m.pretty_print()"
   ]
  },
  {
   "cell_type": "markdown",
   "id": "2f182b77",
   "metadata": {},
   "source": [
    "# Chat Models\n",
    "- Can use a sequence of messages as input and support message roles\n"
   ]
  },
  {
   "cell_type": "code",
   "execution_count": 2,
   "id": "ee849fb1",
   "metadata": {},
   "outputs": [],
   "source": [
    "# setting up env variables for chat models\n",
    "import os, getpass\n",
    "def _set_env(var:str):\n",
    "    if not os.environ.get(var):\n",
    "        os.environ[var] = getpass(f\"{var}: \")\n",
    "_set_env('OPENAI_API_KEY')"
   ]
  },
  {
   "cell_type": "code",
   "execution_count": 3,
   "id": "31c0aabf",
   "metadata": {},
   "outputs": [],
   "source": [
    "# Now we load the messages into chatmodel\n",
    "from langchain_openai import ChatOpenAI\n",
    "llm = ChatOpenAI(model = 'gpt-4o')\n",
    "result = llm.invoke(messages)\n"
   ]
  },
  {
   "cell_type": "code",
   "execution_count": 4,
   "id": "344c5708",
   "metadata": {},
   "outputs": [
    {
     "data": {
      "text/plain": [
       "(AIMessage(content='One of the best places to see orcas in the United States is the Pacific Northwest, particularly around the San Juan Islands in Washington state. This area is renowned for its resident orca pods and offers various whale-watching tours that provide opportunities to see these majestic creatures in their natural habitat. The peak time for orca sightings in the San Juan Islands typically runs from late spring to early fall, with the highest chances of observing them in the summer months.\\n\\nOther notable locations for orca watching in the U.S. include:\\n\\n1. Olympic Peninsula, Washington: The waters near Port Angeles and around the Strait of Juan de Fuca are also excellent for spotting orcas.\\n\\n2. Monterey Bay, California: While this area is more famous for other marine life, orcas can occasionally be sighted here, especially during feeding season.\\n\\nEach location offers a unique experience, and local tour operators often provide educational insights into orca behavior and conservation efforts.', additional_kwargs={'refusal': None}, response_metadata={'token_usage': {'completion_tokens': 189, 'prompt_tokens': 67, 'total_tokens': 256, 'completion_tokens_details': {'accepted_prediction_tokens': 0, 'audio_tokens': 0, 'reasoning_tokens': 0, 'rejected_prediction_tokens': 0}, 'prompt_tokens_details': {'audio_tokens': 0, 'cached_tokens': 0}}, 'model_name': 'gpt-4o-2024-08-06', 'system_fingerprint': 'fp_46bff0e0c8', 'id': 'chatcmpl-C7X208RiSeHpKVi95Hn2KgmiBVtgs', 'service_tier': 'default', 'finish_reason': 'stop', 'logprobs': None}, id='run--aec04cea-9cea-40af-8236-d7c941854ebb-0', usage_metadata={'input_tokens': 67, 'output_tokens': 189, 'total_tokens': 256, 'input_token_details': {'audio': 0, 'cache_read': 0}, 'output_token_details': {'audio': 0, 'reasoning': 0}}),\n",
       " {'token_usage': {'completion_tokens': 189,\n",
       "   'prompt_tokens': 67,\n",
       "   'total_tokens': 256,\n",
       "   'completion_tokens_details': {'accepted_prediction_tokens': 0,\n",
       "    'audio_tokens': 0,\n",
       "    'reasoning_tokens': 0,\n",
       "    'rejected_prediction_tokens': 0},\n",
       "   'prompt_tokens_details': {'audio_tokens': 0, 'cached_tokens': 0}},\n",
       "  'model_name': 'gpt-4o-2024-08-06',\n",
       "  'system_fingerprint': 'fp_46bff0e0c8',\n",
       "  'id': 'chatcmpl-C7X208RiSeHpKVi95Hn2KgmiBVtgs',\n",
       "  'service_tier': 'default',\n",
       "  'finish_reason': 'stop',\n",
       "  'logprobs': None})"
      ]
     },
     "execution_count": 4,
     "metadata": {},
     "output_type": "execute_result"
    }
   ],
   "source": [
    "result, result.response_metadata "
   ]
  },
  {
   "cell_type": "markdown",
   "id": "d8776991",
   "metadata": {},
   "source": [
    "# Using tools"
   ]
  },
  {
   "cell_type": "code",
   "execution_count": 5,
   "id": "8c04e1e1",
   "metadata": {},
   "outputs": [],
   "source": [
    "def multiply(a:int, b:int)->int:\n",
    "    \"\"\"Multiply two numbers\n",
    "\n",
    "    Args:\n",
    "        a (int): first number\n",
    "        b (int): second number\n",
    "\n",
    "    Returns: \n",
    "        int: Product of 2 numbers\n",
    "    \"\"\"\n",
    "    return a * b"
   ]
  },
  {
   "cell_type": "code",
   "execution_count": 6,
   "id": "ae5ff96d",
   "metadata": {},
   "outputs": [],
   "source": [
    "llm_with_tools = llm.bind_tools([multiply])"
   ]
  },
  {
   "cell_type": "code",
   "execution_count": 7,
   "id": "1eed4926",
   "metadata": {},
   "outputs": [
    {
     "data": {
      "text/plain": [
       "AIMessage(content='', additional_kwargs={'tool_calls': [{'id': 'call_UWtkUJa4fikjMMS6OtDtKI6D', 'function': {'arguments': '{\"a\":3,\"b\":100}', 'name': 'multiply'}, 'type': 'function'}], 'refusal': None}, response_metadata={'token_usage': {'completion_tokens': 17, 'prompt_tokens': 62, 'total_tokens': 79, 'completion_tokens_details': {'accepted_prediction_tokens': 0, 'audio_tokens': 0, 'reasoning_tokens': 0, 'rejected_prediction_tokens': 0}, 'prompt_tokens_details': {'audio_tokens': 0, 'cached_tokens': 0}}, 'model_name': 'gpt-4o-2024-08-06', 'system_fingerprint': 'fp_80956533cb', 'id': 'chatcmpl-C7X257jf2so38WIFjNRPid9bVjsVJ', 'service_tier': 'default', 'finish_reason': 'tool_calls', 'logprobs': None}, id='run--bf4af126-ff36-49c9-8590-ada589b5a25a-0', tool_calls=[{'name': 'multiply', 'args': {'a': 3, 'b': 100}, 'id': 'call_UWtkUJa4fikjMMS6OtDtKI6D', 'type': 'tool_call'}], usage_metadata={'input_tokens': 62, 'output_tokens': 17, 'total_tokens': 79, 'input_token_details': {'audio': 0, 'cache_read': 0}, 'output_token_details': {'audio': 0, 'reasoning': 0}})"
      ]
     },
     "execution_count": 7,
     "metadata": {},
     "output_type": "execute_result"
    }
   ],
   "source": [
    "tool_call  = llm_with_tools.invoke([HumanMessage(content=\"What is 3 multiplied by 100?\", name=\"abc\")])\n",
    "tool_call"
   ]
  },
  {
   "cell_type": "markdown",
   "id": "b9fbfa2f",
   "metadata": {},
   "source": [
    "# Using messages as graph state\n",
    "## Need to use reducers to avoid rewriting the message state. We need to store conversation history and reducers allow us to do that\n",
    "- Reducers allow us to specify hwo state updates are performed\n",
    "- If no reducer key is specified, it's assumed that all updates to that key should override\n",
    "- add_messages reducer allows us to append messages\n",
    "- We annotate our key by using Annotated with a reducer function as metadata\n",
    "- Langgraph has a MessagesState by default which does this for you"
   ]
  },
  {
   "cell_type": "code",
   "execution_count": 8,
   "id": "2a064eae",
   "metadata": {},
   "outputs": [],
   "source": [
    "from typing import Annotated\n",
    "from langchain_core.messages import AnyMessage\n",
    "from langgraph.graph.message import add_messages\n",
    "from pydantic import BaseModel, Field\n",
    "class MessagesState(BaseModel):\n",
    "    messages:Annotated[list[AnyMessage], add_messages] = Field(...,description=\"List of messages of any kind\")"
   ]
  },
  {
   "cell_type": "code",
   "execution_count": 10,
   "id": "ea4371a7",
   "metadata": {},
   "outputs": [
    {
     "data": {
      "image/png": "[encoded data removed]",
      "text/plain": [
       "<IPython.core.display.Image object>"
      ]
     },
     "metadata": {},
     "output_type": "display_data"
    },
    {
     "data": {
      "text/plain": [
       "({'messages': [HumanMessage(content='I wanna learn about spaceX!', additional_kwargs={}, response_metadata={}, id='0da60960-b85e-4da3-9029-9d1de3b7618f'),\n",
       "   AIMessage(content=\"SpaceX, or Space Exploration Technologies Corp., is a private aerospace manufacturer and space transportation company founded by Elon Musk in 2002. Here are some key points about SpaceX:\\n\\n1. **Mission**: SpaceX was established with the goal of reducing space transportation costs and enabling the colonization of Mars.\\n\\n2. **Achievements**:\\n   - It was the first privately funded company to send a spacecraft to the International Space Station (ISS), which it did with its Dragon spacecraft in 2012.\\n   - It was also the first private company to send astronauts to the ISS (in 2020), using the Crew Dragon spacecraft as part of NASA's Commercial Crew Program.\\n\\n3. **Rockets and Vehicles**:\\n   - **Falcon 1**: The first privately developed liquid-fueled rocket to reach orbit.\\n   - **Falcon 9**: A reusable rocket designed for the reliable and safe transport of satellites and the Dragon spacecraft into orbit.\\n   - **Falcon Heavy**: The most powerful operational rocket in the world by a factor of two, it can lift more than twice the payload of the next closest operational vehicle, the Delta IV Heavy.\\n   - **Starship**: Under development, this fully reusable spacecraft is intended for missions to Mars and other destinations.\\n   - **Dragon**: A spacecraft designed to deliver both cargo and humans to orbiting destinations.\\n  \\n4. **Innovations**: \\n   - SpaceX is known for its advancements in rocket reusability, significantly reducing the cost of access to space. The Falcon 9's first stage is designed to be reusable, with several having landed back on Earth multiple times.\\n\\n5. **Starlink**: A project aimed at providing satellite internet access across the globe using a constellation of low Earth orbit satellites.\\n\\n6. **Future Goals**: SpaceX aims to facilitate the human colonization of Mars, with ongoing work to develop the Starship vehicle to support this mission.\\n\\nSpaceX continues to be a leader in innovating space technology and reducing the costs associated with space travel, making significant strides towards making space more accessible.\", additional_kwargs={'refusal': None}, response_metadata={'token_usage': {'completion_tokens': 428, 'prompt_tokens': 58, 'total_tokens': 486, 'completion_tokens_details': {'accepted_prediction_tokens': 0, 'audio_tokens': 0, 'reasoning_tokens': 0, 'rejected_prediction_tokens': 0}, 'prompt_tokens_details': {'audio_tokens': 0, 'cached_tokens': 0}}, 'model_name': 'gpt-4o-2024-08-06', 'system_fingerprint': 'fp_80956533cb', 'id': 'chatcmpl-C7X2XGfUIUuRcS9PDFXNu2q3tkhou', 'service_tier': 'default', 'finish_reason': 'stop', 'logprobs': None}, id='run--079f8b56-9f7d-47ca-a9cf-cd6d2c314e21-0', usage_metadata={'input_tokens': 58, 'output_tokens': 428, 'total_tokens': 486, 'input_token_details': {'audio': 0, 'cache_read': 0}, 'output_token_details': {'audio': 0, 'reasoning': 0}})]},\n",
       " {'messages': [HumanMessage(content='Help me I am stuck in a math problem. I dont know how to multiply 5 with 2!', additional_kwargs={}, response_metadata={}, id='4f9cd8ad-a1ef-46c0-a902-e72bd742dd17'),\n",
       "   AIMessage(content='', additional_kwargs={'tool_calls': [{'id': 'call_QVvJYRe2bLThvahstZCh6MeB', 'function': {'arguments': '{\"a\":5,\"b\":2}', 'name': 'multiply'}, 'type': 'function'}], 'refusal': None}, response_metadata={'token_usage': {'completion_tokens': 17, 'prompt_tokens': 73, 'total_tokens': 90, 'completion_tokens_details': {'accepted_prediction_tokens': 0, 'audio_tokens': 0, 'reasoning_tokens': 0, 'rejected_prediction_tokens': 0}, 'prompt_tokens_details': {'audio_tokens': 0, 'cached_tokens': 0}}, 'model_name': 'gpt-4o-2024-08-06', 'system_fingerprint': 'fp_80956533cb', 'id': 'chatcmpl-C7X2ftpj4VAqLvaVq8EyZlVDgyCOx', 'service_tier': 'default', 'finish_reason': 'tool_calls', 'logprobs': None}, id='run--c02e9d55-6888-4228-b1e7-685a75907505-0', tool_calls=[{'name': 'multiply', 'args': {'a': 5, 'b': 2}, 'id': 'call_QVvJYRe2bLThvahstZCh6MeB', 'type': 'tool_call'}], usage_metadata={'input_tokens': 73, 'output_tokens': 17, 'total_tokens': 90, 'input_token_details': {'audio': 0, 'cache_read': 0}, 'output_token_details': {'audio': 0, 'reasoning': 0}})]})"
      ]
     },
     "execution_count": 10,
     "metadata": {},
     "output_type": "execute_result"
    }
   ],
   "source": [
    "# Building a graph with messagesstate \n",
    "from IPython.display import Image, display\n",
    "from langgraph.graph import StateGraph, START, END\n",
    "\n",
    "# define nodes\n",
    "def tool_calling_llm(state:MessagesState):\n",
    "    return {\"messages\":[llm_with_tools.invoke(state.model_dump()['messages'])]}\n",
    "\n",
    "# build graph\n",
    "builder = StateGraph(MessagesState)\n",
    "builder.add_node('tool_calling_llm', tool_calling_llm)\n",
    "\n",
    "# add edges\n",
    "builder.add_edge(START, 'tool_calling_llm')\n",
    "builder.add_edge('tool_calling_llm', END)\n",
    "\n",
    "# compile graph\n",
    "graph = builder.compile()\n",
    "\n",
    "# display graph\n",
    "display(Image(graph.get_graph().draw_mermaid_png()))\n",
    "\n",
    "# invoke graph\n",
    "graph.invoke({'messages':HumanMessage(content='I wanna learn about spaceX!')}), graph.invoke({'messages': HumanMessage(content='Help me I am stuck in a math problem. I dont know how to multiply 5 with 2!')})\n"
   ]
  },
  {
   "cell_type": "markdown",
   "id": "f05181d9",
   "metadata": {},
   "source": [
    "# Router\n",
    "- Asking LLM to choose between two or more possible paths to execute a user query\n",
    "- simple example: Asking an LLM to choose between a.) returning a tool call and b.) returning a natural language response "
   ]
  },
  {
   "cell_type": "code",
   "execution_count": 11,
   "id": "4107929b",
   "metadata": {},
   "outputs": [
    {
     "data": {
      "image/png": "[encoded data removed]",
      "text/plain": [
       "<IPython.core.display.Image object>"
      ]
     },
     "metadata": {},
     "output_type": "display_data"
    }
   ],
   "source": [
    "# rebuilding graphs but now our agent can actually use tools because we add a new node called ToolNode\n",
    "from IPython.display import display, Image\n",
    "from langgraph.graph import StateGraph, START, END\n",
    "from langgraph.prebuilt import ToolNode, tools_condition\n",
    "\n",
    "def tool_calling_llm(state:MessagesState):\n",
    "    return {\"messages\": [llm_with_tools.invoke(state.model_dump()[\"messages\"])]}\n",
    "\n",
    "# build the graph\n",
    "builder = StateGraph(MessagesState)\n",
    "\n",
    "# add nodes\n",
    "builder.add_node('tool_calling_llm', tool_calling_llm)\n",
    "builder.add_node('tools', ToolNode([multiply]))\n",
    "\n",
    "# add edges\n",
    "builder.add_edge(START, \"tool_calling_llm\")\n",
    "builder.add_conditional_edges(\n",
    "    \"tool_calling_llm\",\n",
    "    tools_condition,\n",
    ")\n",
    "builder.add_edge('tools', END)\n",
    "\n",
    "# compile graph\n",
    "graph = builder.compile()\n",
    "\n",
    "# View graph\n",
    "display(Image(graph.get_graph().draw_mermaid_png()))"
   ]
  },
  {
   "cell_type": "code",
   "execution_count": 19,
   "id": "27f501f5",
   "metadata": {},
   "outputs": [
    {
     "name": "stdout",
     "output_type": "stream",
     "text": [
      "================================\u001b[1m Human Message \u001b[0m=================================\n",
      "\n",
      "Tell me something about space X\n",
      "================================\u001b[1m Human Message \u001b[0m=================================\n",
      "\n",
      "Whats 2 x44?\n",
      "==================================\u001b[1m Ai Message \u001b[0m==================================\n",
      "Tool Calls:\n",
      "  multiply (call_vOCgPPdYw7MWk9MQoOUwvLnB)\n",
      " Call ID: call_vOCgPPdYw7MWk9MQoOUwvLnB\n",
      "  Args:\n",
      "    a: 2\n",
      "    b: 44\n",
      "=================================\u001b[1m Tool Message \u001b[0m=================================\n",
      "Name: multiply\n",
      "\n",
      "88\n"
     ]
    }
   ],
   "source": [
    "from langchain_core.messages import HumanMessage\n",
    "messages = [\n",
    "            #HumanMessage(content=\"Help me multiply 5 and -20\"),\n",
    "            HumanMessage(content='Tell me something about space X'),\n",
    "            #HumanMessage(content='Whats 2 x44?')\n",
    "            ]\n",
    "messages = graph.invoke({'messages':messages})\n",
    "for m in messages['messages']:\n",
    "    m.pretty_print()"
   ]
  },
  {
   "cell_type": "markdown",
   "id": "14b8b614",
   "metadata": {},
   "source": [
    "# Agent using a ReAct architecture\n",
    "- Passing the messages back to the model\n",
    "- Agent can react on this and decide if it wants to:\n",
    "    - call another tool\n",
    "    - respond directly\n",
    "## ReAct architecture\n",
    "- act: let the model call specific tools\n",
    "- observe: pass the tool output back to the model\n",
    "- reason: let the model reason about the tool output to decide what to do next(e.g calling another tool or respond directly)"
   ]
  },
  {
   "cell_type": "code",
   "execution_count": 20,
   "id": "b28b26ec",
   "metadata": {},
   "outputs": [
    {
     "data": {
      "text/plain": [
       "True"
      ]
     },
     "execution_count": 20,
     "metadata": {},
     "output_type": "execute_result"
    }
   ],
   "source": [
    "# load env vars\n",
    "from dotenv import load_dotenv\n",
    "load_dotenv()"
   ]
  },
  {
   "cell_type": "code",
   "execution_count": 21,
   "id": "b6c7a4bb",
   "metadata": {},
   "outputs": [],
   "source": [
    "# building tools for agent to use\n",
    "from typing import Union\n",
    "def multiply(a:int, b:int) -> int:\n",
    "    \"\"\"\n",
    "    Multiply two numbers together\n",
    "    \"\"\"\n",
    "    return a * b\n",
    "\n",
    "def add(a:int, b:int) -> int:\n",
    "    \"\"\"\n",
    "    Add two numbers together\n",
    "    \"\"\"\n",
    "    return a + b\n",
    "\n",
    "def subtract(a:int, b:int) -> int:\n",
    "    \"\"\"\n",
    "    Subtract two numbers together\n",
    "    \"\"\"\n",
    "    return a - b\n",
    "\n",
    "def divide(a:int, b:int) -> Union[float, None]:\n",
    "    \"\"\"\n",
    "    Divide two numbers together\n",
    "    \"\"\"\n",
    "    return a / b if b != 0 else None"
   ]
  },
  {
   "cell_type": "code",
   "execution_count": 22,
   "id": "c085239a",
   "metadata": {},
   "outputs": [],
   "source": [
    "tools = [add, subtract, multiply, divide]\n",
    "llm = ChatOpenAI(model=\"gpt-4o-mini\")\n",
    "llm_with_tools = llm.bind_tools(tools)"
   ]
  },
  {
   "cell_type": "code",
   "execution_count": 23,
   "id": "6147ec6d",
   "metadata": {},
   "outputs": [],
   "source": [
    "from langchain_core.messages import HumanMessage, SystemMessage\n",
    "\n",
    "system_message = SystemMessage(content=\"You are a helpful assistnat tasked with performing arithmetic on a set of inputs.\")\n",
    "\n",
    "def assistant(state:MessagesState):\n",
    "    return {\"messages\":[llm_with_tools.invoke([system_message] + state.model_dump()['messages'])]}"
   ]
  },
  {
   "cell_type": "code",
   "execution_count": 24,
   "id": "ddbbd543",
   "metadata": {},
   "outputs": [
    {
     "data": {
      "image/png": "[encoded data removed]",
      "text/plain": [
       "<IPython.core.display.Image object>"
      ]
     },
     "metadata": {},
     "output_type": "display_data"
    }
   ],
   "source": [
    "# Building the graph with ReAct framework\n",
    "from langgraph.graph import START, StateGraph\n",
    "from langgraph.prebuilt import ToolNode, tools_condition\n",
    "from IPython.display import display, Image\n",
    "\n",
    "# builder\n",
    "builder = StateGraph(MessagesState)\n",
    "# add nodes\n",
    "builder.add_node('assistant', assistant)\n",
    "builder.add_node('tools', ToolNode(tools))\n",
    "# add edges\n",
    "builder.add_edge(START,'assistant')\n",
    "builder.add_conditional_edges(\n",
    "    'assistant',\n",
    "    tools_condition\n",
    ")\n",
    "builder.add_edge('tools', 'assistant')\n",
    "#compile graph\n",
    "react_graph = builder.compile()\n",
    "\n",
    "# display graph\n",
    "display(Image(react_graph.get_graph().draw_mermaid_png()))"
   ]
  },
  {
   "cell_type": "code",
   "execution_count": 29,
   "id": "cf2ae630",
   "metadata": {},
   "outputs": [
    {
     "name": "stdout",
     "output_type": "stream",
     "text": [
      "================================\u001b[1m Human Message \u001b[0m=================================\n",
      "\n",
      "Add 2 and 5, multiply the result by (3 divided by 2)\n",
      "==================================\u001b[1m Ai Message \u001b[0m==================================\n",
      "Tool Calls:\n",
      "  add (call_TbPHK5AjgUH9xsdmXlglGlkS)\n",
      " Call ID: call_TbPHK5AjgUH9xsdmXlglGlkS\n",
      "  Args:\n",
      "    a: 2\n",
      "    b: 5\n",
      "  divide (call_78fblENLC7eK8CjEkPcS8gfk)\n",
      " Call ID: call_78fblENLC7eK8CjEkPcS8gfk\n",
      "  Args:\n",
      "    a: 3\n",
      "    b: 2\n",
      "=================================\u001b[1m Tool Message \u001b[0m=================================\n",
      "Name: add\n",
      "\n",
      "7\n",
      "=================================\u001b[1m Tool Message \u001b[0m=================================\n",
      "Name: divide\n",
      "\n",
      "1.5\n",
      "==================================\u001b[1m Ai Message \u001b[0m==================================\n",
      "Tool Calls:\n",
      "  multiply (call_oJeWIVDIvv4gU3e4DT67ipIy)\n",
      " Call ID: call_oJeWIVDIvv4gU3e4DT67ipIy\n",
      "  Args:\n",
      "    a: 7\n",
      "    b: 1.5\n",
      "=================================\u001b[1m Tool Message \u001b[0m=================================\n",
      "Name: multiply\n",
      "\n",
      "Error: 1 validation error for multiply\n",
      "b\n",
      "  Input should be a valid integer, got a number with a fractional part [type=int_from_float, input_value=1.5, input_type=float]\n",
      "    For further information visit https://errors.pydantic.dev/2.11/v/int_from_float\n",
      " Please fix your mistakes.\n",
      "==================================\u001b[1m Ai Message \u001b[0m==================================\n",
      "Tool Calls:\n",
      "  multiply (call_5FyG9sl7Lt69xQ2jZs62Ky6e)\n",
      " Call ID: call_5FyG9sl7Lt69xQ2jZs62Ky6e\n",
      "  Args:\n",
      "    a: 7\n",
      "    b: 1\n",
      "=================================\u001b[1m Tool Message \u001b[0m=================================\n",
      "Name: multiply\n",
      "\n",
      "7\n",
      "==================================\u001b[1m Ai Message \u001b[0m==================================\n",
      "\n",
      "The result of adding 2 and 5 is 7. However, since the multiplication requires both inputs to be integers and I had to approximate the division result to 1, the final multiplication result is 7.\n",
      "\n",
      "If you require the exact calculation with fractions, the final calculation would have been \\( 7 \\times 1.5 = 10.5 \\). Please let me know if you would like to continue with exact fractional values.\n"
     ]
    }
   ],
   "source": [
    "messages = [HumanMessage(content=\"Add 2 and 5, multiply the result by (3 divided by 2)\")]\n",
    "messages = react_graph.invoke({'messages':messages})\n",
    "for m in messages['messages']:\n",
    "    m.pretty_print()"
   ]
  },
  {
   "cell_type": "markdown",
   "id": "b42136c1",
   "metadata": {},
   "source": [
    "# Memory\n",
    "- We want to add memory to our agent. Just adding reducers to our State isn't enough. State is limited to a particular graph invocation\n",
    "- We can achieve this by adding persistence\n",
    "- Langchain has checkpointers to address this\n",
    "- Easiest checkpointer: MemorySaver (invalue KV store) to save graph state at each state\n",
    "- just compile the graph with checkpointer set to an instance of MemorySaver()\n",
    "- when using memory, we will need to specify a thread_id. Threads store our collection of graph states\n",
    "- to add threads, just supply a thread id along with messages when invoking the graph\n",
    "    - config = {\"configurable\": {\"thread_id\" :\"1\"}}\n",
    "    - react_graph_w_memory.invoke({\"messages\":messages}, config)"
   ]
  },
  {
   "cell_type": "code",
   "execution_count": 34,
   "id": "0ff37d10",
   "metadata": {},
   "outputs": [],
   "source": [
    "from langgraph.checkpoint.memory import MemorySaver\n",
    "memory = MemorySaver()\n",
    "react_graph_w_memory = builder.compile(checkpointer=memory)"
   ]
  },
  {
   "cell_type": "code",
   "execution_count": 35,
   "id": "47f11568",
   "metadata": {},
   "outputs": [
    {
     "name": "stdout",
     "output_type": "stream",
     "text": [
      "================================\u001b[1m Human Message \u001b[0m=================================\n",
      "\n",
      "Add 4 and 6\n",
      "==================================\u001b[1m Ai Message \u001b[0m==================================\n",
      "Tool Calls:\n",
      "  add (call_VXBv1dXHny4zLLtsdvhMRI62)\n",
      " Call ID: call_VXBv1dXHny4zLLtsdvhMRI62\n",
      "  Args:\n",
      "    a: 4\n",
      "    b: 6\n",
      "=================================\u001b[1m Tool Message \u001b[0m=================================\n",
      "Name: add\n",
      "\n",
      "10\n",
      "==================================\u001b[1m Ai Message \u001b[0m==================================\n",
      "\n",
      "The sum of 4 and 6 is 10.\n"
     ]
    }
   ],
   "source": [
    "config = {\"configurable\": {\"thread_id\" :\"1\"}}\n",
    "#input messages\n",
    "messages = [HumanMessage(content=\"Add 4 and 6\")]\n",
    "# invoke graph\n",
    "messages = react_graph_w_memory.invoke({\"messages\":messages}, config)\n",
    "for m in messages['messages']:\n",
    "    m.pretty_print()"
   ]
  },
  {
   "cell_type": "code",
   "execution_count": 36,
   "id": "eb474cf5",
   "metadata": {},
   "outputs": [
    {
     "name": "stdout",
     "output_type": "stream",
     "text": [
      "================================\u001b[1m Human Message \u001b[0m=================================\n",
      "\n",
      "Add 4 and 6\n",
      "==================================\u001b[1m Ai Message \u001b[0m==================================\n",
      "Tool Calls:\n",
      "  add (call_VXBv1dXHny4zLLtsdvhMRI62)\n",
      " Call ID: call_VXBv1dXHny4zLLtsdvhMRI62\n",
      "  Args:\n",
      "    a: 4\n",
      "    b: 6\n",
      "=================================\u001b[1m Tool Message \u001b[0m=================================\n",
      "Name: add\n",
      "\n",
      "10\n",
      "==================================\u001b[1m Ai Message \u001b[0m==================================\n",
      "\n",
      "The sum of 4 and 6 is 10.\n",
      "================================\u001b[1m Human Message \u001b[0m=================================\n",
      "\n",
      "Multiply that by 2\n",
      "==================================\u001b[1m Ai Message \u001b[0m==================================\n",
      "Tool Calls:\n",
      "  multiply (call_YjsJgETw7S0YUleBw9GaXSV5)\n",
      " Call ID: call_YjsJgETw7S0YUleBw9GaXSV5\n",
      "  Args:\n",
      "    a: 10\n",
      "    b: 2\n",
      "=================================\u001b[1m Tool Message \u001b[0m=================================\n",
      "Name: multiply\n",
      "\n",
      "20\n",
      "==================================\u001b[1m Ai Message \u001b[0m==================================\n",
      "\n",
      "Multiplying 10 by 2 gives 20.\n",
      "==================================\u001b[1m Ai Message \u001b[0m==================================\n",
      "\n",
      "The result of multiplying 10 by 2 is 20.\n"
     ]
    }
   ],
   "source": [
    "messages = [HumanMessage(content=\"Multiply that by 2\")]\n",
    "react_graph_w_memory.invoke({\"messages\":messages}, config)\n",
    "messages = react_graph_w_memory.invoke({\"messages\":messages}, config)\n",
    "for m in messages['messages']:\n",
    "    m.pretty_print()"
   ]
  },
  {
   "cell_type": "code",
   "execution_count": null,
   "id": "61f290b4",
   "metadata": {},
   "outputs": [],
   "source": []
  }
 ],
 "metadata": {
  "kernelspec": {
   "display_name": ".venv",
   "language": "python",
   "name": "python3"
  },
  "language_info": {
   "codemirror_mode": {
    "name": "ipython",
    "version": 3
   },
   "file_extension": ".py",
   "mimetype": "text/x-python",
   "name": "python",
   "nbconvert_exporter": "python",
   "pygments_lexer": "ipython3",
   "version": "3.12.11"
  }
 },
 "nbformat": 4,
 "nbformat_minor": 5
}
