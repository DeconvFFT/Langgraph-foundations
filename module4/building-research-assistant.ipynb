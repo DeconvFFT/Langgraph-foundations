{
 "cells": [
  {
   "cell_type": "markdown",
   "id": "cca789c2",
   "metadata": {},
   "source": [
    "# Parallel Node Execution\n",
    "- Goal: Building Multi Agent workflows"
   ]
  },
  {
   "cell_type": "code",
   "execution_count": 1,
   "id": "823c4248",
   "metadata": {},
   "outputs": [
    {
     "data": {
      "text/plain": [
       "True"
      ]
     },
     "execution_count": 1,
     "metadata": {},
     "output_type": "execute_result"
    }
   ],
   "source": [
    "from dotenv import load_dotenv\n",
    "load_dotenv()"
   ]
  },
  {
   "cell_type": "code",
   "execution_count": 4,
   "id": "4507a7ca",
   "metadata": {},
   "outputs": [
    {
     "data": {
      "image/png": "[encoded data removed]",
      "text/plain": [
       "<IPython.core.display.Image object>"
      ]
     },
     "metadata": {},
     "output_type": "display_data"
    }
   ],
   "source": [
    "from IPython.display import Image, display\n",
    "import operator\n",
    "from typing import Annotated, Any\n",
    "from pydantic import BaseModel, Field\n",
    "from langgraph.graph import START, StateGraph, END\n",
    "\n",
    "\n",
    "class State(BaseModel):\n",
    "    state:list[str] = Field(description=\"The state of the graph\")\n",
    "\n",
    "class ReturnNodeValue:\n",
    "    def __init__(self, node_secret:str):\n",
    "        self._value = node_secret\n",
    "    \n",
    "    def __call__(self, state:State)->Any:\n",
    "        print(f\"Adding : {self._value} to {state.state}\")\n",
    "        return {\"state\":[self._value]}\n",
    "    \n",
    "# add nodes\n",
    "builder = StateGraph(State)\n",
    "builder.add_node(\"a\", ReturnNodeValue(\"I am in a\"))\n",
    "builder.add_node(\"b\", ReturnNodeValue(\"I am in b\"))\n",
    "builder.add_node(\"c\", ReturnNodeValue(\"I am in c\"))\n",
    "builder.add_node(\"d\", ReturnNodeValue(\"I am in d\"))\n",
    "\n",
    "# add edges\n",
    "builder.add_edge(START, \"a\")\n",
    "builder.add_edge(\"a\", \"b\")\n",
    "builder.add_edge(\"b\", \"c\")\n",
    "builder.add_edge(\"c\", \"d\")\n",
    "builder.add_edge(\"d\", END)\n",
    "graph = builder.compile()\n",
    "\n",
    "# display graph\n",
    "display(Image(graph.get_graph().draw_mermaid_png()))\n",
    "\n"
   ]
  },
  {
   "cell_type": "code",
   "execution_count": 5,
   "id": "22dee226",
   "metadata": {},
   "outputs": [
    {
     "name": "stdout",
     "output_type": "stream",
     "text": [
      "Adding : I am in a to []\n",
      "Adding : I am in b to ['I am in a']\n",
      "Adding : I am in c to ['I am in b']\n",
      "Adding : I am in d to ['I am in c']\n"
     ]
    },
    {
     "data": {
      "text/plain": [
       "{'state': ['I am in d']}"
      ]
     },
     "execution_count": 5,
     "metadata": {},
     "output_type": "execute_result"
    }
   ],
   "source": [
    "graph.invoke({\"state\":[]})"
   ]
  },
  {
   "cell_type": "code",
   "execution_count": 8,
   "id": "e5bd706c",
   "metadata": {},
   "outputs": [
    {
     "data": {
      "image/png": "[encoded data removed]",
      "text/plain": [
       "<IPython.core.display.Image object>"
      ]
     },
     "metadata": {},
     "output_type": "display_data"
    },
    {
     "name": "stdout",
     "output_type": "stream",
     "text": [
      "Adding : I am in a to []\n",
      "Adding : I am in b to ['I am in a']\n",
      "Adding : I am in c to ['I am in a']\n",
      "Adding : I am in d to ['I am in a', 'I am in b', 'I am in c']\n"
     ]
    },
    {
     "data": {
      "text/plain": [
       "{'state': ['I am in a', 'I am in b', 'I am in c', 'I am in d']}"
      ]
     },
     "execution_count": 8,
     "metadata": {},
     "output_type": "execute_result"
    }
   ],
   "source": [
    "# now let's run b and c in parallel\n",
    "\n",
    "class State(BaseModel):\n",
    "    state:Annotated[list[str], operator.add] = Field(description=\"The state of the graph\")\n",
    "\n",
    "class ReturnNodeValue:\n",
    "    def __init__(self, node_secret:str):\n",
    "        self._value = node_secret\n",
    "    \n",
    "    def __call__(self, state:State)->Any:\n",
    "        print(f\"Adding : {self._value} to {state.state}\")\n",
    "        return {\"state\":[self._value]}\n",
    "# add nodes\n",
    "builder = StateGraph(State)\n",
    "builder.add_node(\"a\", ReturnNodeValue(\"I am in a\"))\n",
    "builder.add_node(\"b\", ReturnNodeValue(\"I am in b\"))\n",
    "builder.add_node(\"c\", ReturnNodeValue(\"I am in c\"))\n",
    "builder.add_node(\"d\", ReturnNodeValue(\"I am in d\"))\n",
    "\n",
    "# add edges\n",
    "builder.add_edge(START, \"a\")\n",
    "builder.add_edge(\"a\", \"b\")\n",
    "builder.add_edge(\"a\", \"c\")\n",
    "builder.add_edge(\"b\", \"d\")\n",
    "builder.add_edge(\"c\", \"d\")\n",
    "builder.add_edge(\"d\", END)\n",
    "graph = builder.compile()\n",
    "\n",
    "# display graph\n",
    "display(Image(graph.get_graph().draw_mermaid_png()))\n",
    "graph.invoke({\"state\":[]})"
   ]
  },
  {
   "cell_type": "code",
   "execution_count": null,
   "id": "d65071c7",
   "metadata": {},
   "outputs": [],
   "source": [
    "# now let's run b and c in parallel\n",
    "\n",
    "class State(BaseModel):\n",
    "    state:Annotated[list[str], operator.add] = Field(description=\"The state of the graph\")\n",
    "\n",
    "class ReturnNodeValue:\n",
    "    def __init__(self, node_secret:str):\n",
    "        self._value = node_secret\n",
    "    \n",
    "    def __call__(self, state:State)->Any:\n",
    "        print(f\"Adding : {self._value} to {state.state}\")\n",
    "        return {\"state\":[self._value]}\n",
    "# add nodes\n",
    "builder = StateGraph(State)\n",
    "builder.add_node(\"a\", ReturnNodeValue(\"I am in a\"))\n",
    "builder.add_node(\"b\", ReturnNodeValue(\"I am in b\"))\n",
    "builder.add_node(\"b2\", ReturnNodeValue(\"I am in b2\"))\n",
    "builder.add_node(\"c\", ReturnNodeValue(\"I am in c\"))\n",
    "builder.add_node(\"d\", ReturnNodeValue(\"I am in d\"))\n",
    "\n",
    "# add edges\n",
    "builder.add_edge(START, \"a\")\n",
    "builder.add_edge(\"a\", \"b\")\n",
    "builder.add_edge(\"a\", \"c\")\n",
    "builder.add_edge(\"b\", \"b2\")\n",
    "builder.add_edge([\"b2\", \"c\"], \"d\")\n",
    "builder.add_edge(\"d\", END)\n",
    "graph = builder.compile()\n",
    "\n",
    "# display graph\n",
    "display(Image(graph.get_graph().draw_mermaid_png()))\n",
    "graph.invoke({\"state\":[]})"
   ]
  }
 ],
 "metadata": {
  "kernelspec": {
   "display_name": ".venv",
   "language": "python",
   "name": "python3"
  },
  "language_info": {
   "codemirror_mode": {
    "name": "ipython",
    "version": 3
   },
   "file_extension": ".py",
   "mimetype": "text/x-python",
   "name": "python",
   "nbconvert_exporter": "python",
   "pygments_lexer": "ipython3",
   "version": "3.12.11"
  }
 },
 "nbformat": 4,
 "nbformat_minor": 5
}
