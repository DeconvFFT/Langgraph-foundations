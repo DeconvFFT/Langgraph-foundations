{
 "cells": [
  {
   "cell_type": "markdown",
   "id": "cd7d7c24",
   "metadata": {},
   "source": [
    "# State reducers\n",
    "- When updating same shared states in parallel, if we don't use reducers, it will throw an error as we can't update the same state simulataneously\n",
    "- We need to use Annotated + reducers to do this\n",
    "- e.g for a case where we add 1 to the previous node from both of it's child node, reducer would be add and we can use Annotated[list[int], add] to handle this"
   ]
  },
  {
   "cell_type": "code",
   "execution_count": 1,
   "id": "09fdedb5",
   "metadata": {},
   "outputs": [
    {
     "data": {
      "text/plain": [
       "True"
      ]
     },
     "execution_count": 1,
     "metadata": {},
     "output_type": "execute_result"
    }
   ],
   "source": [
    "from dotenv import load_dotenv\n",
    "load_dotenv()"
   ]
  },
  {
   "cell_type": "code",
   "execution_count": 2,
   "id": "7f144991",
   "metadata": {},
   "outputs": [
    {
     "data": {
      "text/plain": [
       "'langchain-agents-with-memory'"
      ]
     },
     "execution_count": 2,
     "metadata": {},
     "output_type": "execute_result"
    }
   ],
   "source": [
    "import os\n",
    "os.getenv('LANGCHAIN_PROJECT')"
   ]
  },
  {
   "cell_type": "code",
   "execution_count": 51,
   "id": "7a47cb5a",
   "metadata": {},
   "outputs": [
    {
     "data": {
      "image/png": "[encoded data removed]",
      "text/plain": [
       "<IPython.core.display.Image object>"
      ]
     },
     "metadata": {},
     "output_type": "display_data"
    }
   ],
   "source": [
    "from operator import add\n",
    "from typing import Annotated\n",
    "from pydantic import BaseModel, Field\n",
    "from langgraph.graph import StateGraph, START, END\n",
    "from IPython.display import Image, display\n",
    "# defining state\n",
    "class State(BaseModel):\n",
    "    foo: Annotated[list[int], add] = Field(..., description=\"A list of integers\")\n",
    "    \n",
    "# build graph\n",
    "def node1(state:State):\n",
    "    print(f\"Node 1: {state.model_dump()['foo'][-1]}\")\n",
    "    return {\"foo\":[state.model_dump()['foo'][-1] + 1]}\n",
    "\n",
    "def node2(state:State):\n",
    "    return {\"foo\":[state.model_dump()['foo'][-1] + 1]}\n",
    "\n",
    "def node3(state:State):\n",
    "    return {\"foo\":[state.model_dump()['foo'][-1] + 1]}\n",
    "\n",
    "# build graph\n",
    "\n",
    "builder = StateGraph(State)\n",
    "builder.add_node(\"node1\", node1)\n",
    "builder.add_node(\"node2\", node2)\n",
    "builder.add_node(\"node3\", node3)\n",
    "\n",
    "builder.add_edge(START, \"node1\")\n",
    "builder.add_edge(\"node1\", \"node2\")\n",
    "builder.add_edge(\"node1\", \"node3\")\n",
    "builder.add_edge(\"node2\", END)\n",
    "builder.add_edge(\"node3\", END)\n",
    "\n",
    "graph = builder.compile()\n",
    "display(Image(graph.get_graph().draw_mermaid_png()))"
   ]
  },
  {
   "cell_type": "markdown",
   "id": "9cd3f14c",
   "metadata": {},
   "source": [
    "We can see 2 and 3 update the value from node 1 in parallel"
   ]
  },
  {
   "cell_type": "code",
   "execution_count": 52,
   "id": "604f4cce",
   "metadata": {},
   "outputs": [
    {
     "ename": "TypeError",
     "evalue": "can only concatenate list (not \"NoneType\") to list",
     "output_type": "error",
     "traceback": [
      "\u001b[31m---------------------------------------------------------------------------\u001b[39m",
      "\u001b[31mTypeError\u001b[39m                                 Traceback (most recent call last)",
      "\u001b[36mCell\u001b[39m\u001b[36m \u001b[39m\u001b[32mIn[52]\u001b[39m\u001b[32m, line 1\u001b[39m\n\u001b[32m----> \u001b[39m\u001b[32m1\u001b[39m \u001b[43mgraph\u001b[49m\u001b[43m.\u001b[49m\u001b[43minvoke\u001b[49m\u001b[43m(\u001b[49m\u001b[43m{\u001b[49m\u001b[33;43m\"\u001b[39;49m\u001b[33;43mfoo\u001b[39;49m\u001b[33;43m\"\u001b[39;49m\u001b[43m:\u001b[49m\u001b[38;5;28;43;01mNone\u001b[39;49;00m\u001b[43m}\u001b[49m\u001b[43m)\u001b[49m\n",
      "\u001b[36mFile \u001b[39m\u001b[32m~/Gen AI/Langgraph-foundations/.venv/lib/python3.12/site-packages/langgraph/pregel/main.py:3026\u001b[39m, in \u001b[36mPregel.invoke\u001b[39m\u001b[34m(self, input, config, context, stream_mode, print_mode, output_keys, interrupt_before, interrupt_after, durability, **kwargs)\u001b[39m\n\u001b[32m   3023\u001b[39m chunks: \u001b[38;5;28mlist\u001b[39m[\u001b[38;5;28mdict\u001b[39m[\u001b[38;5;28mstr\u001b[39m, Any] | Any] = []\n\u001b[32m   3024\u001b[39m interrupts: \u001b[38;5;28mlist\u001b[39m[Interrupt] = []\n\u001b[32m-> \u001b[39m\u001b[32m3026\u001b[39m \u001b[43m\u001b[49m\u001b[38;5;28;43;01mfor\u001b[39;49;00m\u001b[43m \u001b[49m\u001b[43mchunk\u001b[49m\u001b[43m \u001b[49m\u001b[38;5;129;43;01min\u001b[39;49;00m\u001b[43m \u001b[49m\u001b[38;5;28;43mself\u001b[39;49m\u001b[43m.\u001b[49m\u001b[43mstream\u001b[49m\u001b[43m(\u001b[49m\n\u001b[32m   3027\u001b[39m \u001b[43m    \u001b[49m\u001b[38;5;28;43minput\u001b[39;49m\u001b[43m,\u001b[49m\n\u001b[32m   3028\u001b[39m \u001b[43m    \u001b[49m\u001b[43mconfig\u001b[49m\u001b[43m,\u001b[49m\n\u001b[32m   3029\u001b[39m \u001b[43m    \u001b[49m\u001b[43mcontext\u001b[49m\u001b[43m=\u001b[49m\u001b[43mcontext\u001b[49m\u001b[43m,\u001b[49m\n\u001b[32m   3030\u001b[39m \u001b[43m    \u001b[49m\u001b[43mstream_mode\u001b[49m\u001b[43m=\u001b[49m\u001b[43m[\u001b[49m\u001b[33;43m\"\u001b[39;49m\u001b[33;43mupdates\u001b[39;49m\u001b[33;43m\"\u001b[39;49m\u001b[43m,\u001b[49m\u001b[43m \u001b[49m\u001b[33;43m\"\u001b[39;49m\u001b[33;43mvalues\u001b[39;49m\u001b[33;43m\"\u001b[39;49m\u001b[43m]\u001b[49m\n\u001b[32m   3031\u001b[39m \u001b[43m    \u001b[49m\u001b[38;5;28;43;01mif\u001b[39;49;00m\u001b[43m \u001b[49m\u001b[43mstream_mode\u001b[49m\u001b[43m \u001b[49m\u001b[43m==\u001b[49m\u001b[43m \u001b[49m\u001b[33;43m\"\u001b[39;49m\u001b[33;43mvalues\u001b[39;49m\u001b[33;43m\"\u001b[39;49m\n\u001b[32m   3032\u001b[39m \u001b[43m    \u001b[49m\u001b[38;5;28;43;01melse\u001b[39;49;00m\u001b[43m \u001b[49m\u001b[43mstream_mode\u001b[49m\u001b[43m,\u001b[49m\n\u001b[32m   3033\u001b[39m \u001b[43m    \u001b[49m\u001b[43mprint_mode\u001b[49m\u001b[43m=\u001b[49m\u001b[43mprint_mode\u001b[49m\u001b[43m,\u001b[49m\n\u001b[32m   3034\u001b[39m \u001b[43m    \u001b[49m\u001b[43moutput_keys\u001b[49m\u001b[43m=\u001b[49m\u001b[43moutput_keys\u001b[49m\u001b[43m,\u001b[49m\n\u001b[32m   3035\u001b[39m \u001b[43m    \u001b[49m\u001b[43minterrupt_before\u001b[49m\u001b[43m=\u001b[49m\u001b[43minterrupt_before\u001b[49m\u001b[43m,\u001b[49m\n\u001b[32m   3036\u001b[39m \u001b[43m    \u001b[49m\u001b[43minterrupt_after\u001b[49m\u001b[43m=\u001b[49m\u001b[43minterrupt_after\u001b[49m\u001b[43m,\u001b[49m\n\u001b[32m   3037\u001b[39m \u001b[43m    \u001b[49m\u001b[43mdurability\u001b[49m\u001b[43m=\u001b[49m\u001b[43mdurability\u001b[49m\u001b[43m,\u001b[49m\n\u001b[32m   3038\u001b[39m \u001b[43m    \u001b[49m\u001b[43m*\u001b[49m\u001b[43m*\u001b[49m\u001b[43mkwargs\u001b[49m\u001b[43m,\u001b[49m\n\u001b[32m   3039\u001b[39m \u001b[43m\u001b[49m\u001b[43m)\u001b[49m\u001b[43m:\u001b[49m\n\u001b[32m   3040\u001b[39m \u001b[43m    \u001b[49m\u001b[38;5;28;43;01mif\u001b[39;49;00m\u001b[43m \u001b[49m\u001b[43mstream_mode\u001b[49m\u001b[43m \u001b[49m\u001b[43m==\u001b[49m\u001b[43m \u001b[49m\u001b[33;43m\"\u001b[39;49m\u001b[33;43mvalues\u001b[39;49m\u001b[33;43m\"\u001b[39;49m\u001b[43m:\u001b[49m\n\u001b[32m   3041\u001b[39m \u001b[43m        \u001b[49m\u001b[38;5;28;43;01mif\u001b[39;49;00m\u001b[43m \u001b[49m\u001b[38;5;28;43mlen\u001b[39;49m\u001b[43m(\u001b[49m\u001b[43mchunk\u001b[49m\u001b[43m)\u001b[49m\u001b[43m \u001b[49m\u001b[43m==\u001b[49m\u001b[43m \u001b[49m\u001b[32;43m2\u001b[39;49m\u001b[43m:\u001b[49m\n",
      "\u001b[36mFile \u001b[39m\u001b[32m~/Gen AI/Langgraph-foundations/.venv/lib/python3.12/site-packages/langgraph/pregel/main.py:2657\u001b[39m, in \u001b[36mPregel.stream\u001b[39m\u001b[34m(self, input, config, context, stream_mode, print_mode, output_keys, interrupt_before, interrupt_after, durability, subgraphs, debug, **kwargs)\u001b[39m\n\u001b[32m   2647\u001b[39m \u001b[38;5;28;01mfor\u001b[39;00m _ \u001b[38;5;129;01min\u001b[39;00m runner.tick(\n\u001b[32m   2648\u001b[39m     [t \u001b[38;5;28;01mfor\u001b[39;00m t \u001b[38;5;129;01min\u001b[39;00m loop.tasks.values() \u001b[38;5;28;01mif\u001b[39;00m \u001b[38;5;129;01mnot\u001b[39;00m t.writes],\n\u001b[32m   2649\u001b[39m     timeout=\u001b[38;5;28mself\u001b[39m.step_timeout,\n\u001b[32m   (...)\u001b[39m\u001b[32m   2652\u001b[39m ):\n\u001b[32m   2653\u001b[39m     \u001b[38;5;66;03m# emit output\u001b[39;00m\n\u001b[32m   2654\u001b[39m     \u001b[38;5;28;01myield from\u001b[39;00m _output(\n\u001b[32m   2655\u001b[39m         stream_mode, print_mode, subgraphs, stream.get, queue.Empty\n\u001b[32m   2656\u001b[39m     )\n\u001b[32m-> \u001b[39m\u001b[32m2657\u001b[39m \u001b[43mloop\u001b[49m\u001b[43m.\u001b[49m\u001b[43mafter_tick\u001b[49m\u001b[43m(\u001b[49m\u001b[43m)\u001b[49m\n\u001b[32m   2658\u001b[39m \u001b[38;5;66;03m# wait for checkpoint\u001b[39;00m\n\u001b[32m   2659\u001b[39m \u001b[38;5;28;01mif\u001b[39;00m durability_ == \u001b[33m\"\u001b[39m\u001b[33msync\u001b[39m\u001b[33m\"\u001b[39m:\n",
      "\u001b[36mFile \u001b[39m\u001b[32m~/Gen AI/Langgraph-foundations/.venv/lib/python3.12/site-packages/langgraph/pregel/_loop.py:525\u001b[39m, in \u001b[36mPregelLoop.after_tick\u001b[39m\u001b[34m(self)\u001b[39m\n\u001b[32m    523\u001b[39m writes = [w \u001b[38;5;28;01mfor\u001b[39;00m t \u001b[38;5;129;01min\u001b[39;00m \u001b[38;5;28mself\u001b[39m.tasks.values() \u001b[38;5;28;01mfor\u001b[39;00m w \u001b[38;5;129;01min\u001b[39;00m t.writes]\n\u001b[32m    524\u001b[39m \u001b[38;5;66;03m# all tasks have finished\u001b[39;00m\n\u001b[32m--> \u001b[39m\u001b[32m525\u001b[39m \u001b[38;5;28mself\u001b[39m.updated_channels = \u001b[43mapply_writes\u001b[49m\u001b[43m(\u001b[49m\n\u001b[32m    526\u001b[39m \u001b[43m    \u001b[49m\u001b[38;5;28;43mself\u001b[39;49m\u001b[43m.\u001b[49m\u001b[43mcheckpoint\u001b[49m\u001b[43m,\u001b[49m\n\u001b[32m    527\u001b[39m \u001b[43m    \u001b[49m\u001b[38;5;28;43mself\u001b[39;49m\u001b[43m.\u001b[49m\u001b[43mchannels\u001b[49m\u001b[43m,\u001b[49m\n\u001b[32m    528\u001b[39m \u001b[43m    \u001b[49m\u001b[38;5;28;43mself\u001b[39;49m\u001b[43m.\u001b[49m\u001b[43mtasks\u001b[49m\u001b[43m.\u001b[49m\u001b[43mvalues\u001b[49m\u001b[43m(\u001b[49m\u001b[43m)\u001b[49m\u001b[43m,\u001b[49m\n\u001b[32m    529\u001b[39m \u001b[43m    \u001b[49m\u001b[38;5;28;43mself\u001b[39;49m\u001b[43m.\u001b[49m\u001b[43mcheckpointer_get_next_version\u001b[49m\u001b[43m,\u001b[49m\n\u001b[32m    530\u001b[39m \u001b[43m    \u001b[49m\u001b[38;5;28;43mself\u001b[39;49m\u001b[43m.\u001b[49m\u001b[43mtrigger_to_nodes\u001b[49m\u001b[43m,\u001b[49m\n\u001b[32m    531\u001b[39m \u001b[43m\u001b[49m\u001b[43m)\u001b[49m\n\u001b[32m    532\u001b[39m \u001b[38;5;66;03m# produce values output\u001b[39;00m\n\u001b[32m    533\u001b[39m \u001b[38;5;28;01mif\u001b[39;00m \u001b[38;5;129;01mnot\u001b[39;00m \u001b[38;5;28mself\u001b[39m.updated_channels.isdisjoint(\n\u001b[32m    534\u001b[39m     (\u001b[38;5;28mself\u001b[39m.output_keys,)\n\u001b[32m    535\u001b[39m     \u001b[38;5;28;01mif\u001b[39;00m \u001b[38;5;28misinstance\u001b[39m(\u001b[38;5;28mself\u001b[39m.output_keys, \u001b[38;5;28mstr\u001b[39m)\n\u001b[32m    536\u001b[39m     \u001b[38;5;28;01melse\u001b[39;00m \u001b[38;5;28mself\u001b[39m.output_keys\n\u001b[32m    537\u001b[39m ):\n",
      "\u001b[36mFile \u001b[39m\u001b[32m~/Gen AI/Langgraph-foundations/.venv/lib/python3.12/site-packages/langgraph/pregel/_algo.py:298\u001b[39m, in \u001b[36mapply_writes\u001b[39m\u001b[34m(checkpoint, channels, tasks, get_next_version, trigger_to_nodes)\u001b[39m\n\u001b[32m    296\u001b[39m \u001b[38;5;28;01mfor\u001b[39;00m chan, vals \u001b[38;5;129;01min\u001b[39;00m pending_writes_by_channel.items():\n\u001b[32m    297\u001b[39m     \u001b[38;5;28;01mif\u001b[39;00m chan \u001b[38;5;129;01min\u001b[39;00m channels:\n\u001b[32m--> \u001b[39m\u001b[32m298\u001b[39m         \u001b[38;5;28;01mif\u001b[39;00m \u001b[43mchannels\u001b[49m\u001b[43m[\u001b[49m\u001b[43mchan\u001b[49m\u001b[43m]\u001b[49m\u001b[43m.\u001b[49m\u001b[43mupdate\u001b[49m\u001b[43m(\u001b[49m\u001b[43mvals\u001b[49m\u001b[43m)\u001b[49m \u001b[38;5;129;01mand\u001b[39;00m next_version \u001b[38;5;129;01mis\u001b[39;00m \u001b[38;5;129;01mnot\u001b[39;00m \u001b[38;5;28;01mNone\u001b[39;00m:\n\u001b[32m    299\u001b[39m             checkpoint[\u001b[33m\"\u001b[39m\u001b[33mchannel_versions\u001b[39m\u001b[33m\"\u001b[39m][chan] = next_version\n\u001b[32m    300\u001b[39m             \u001b[38;5;66;03m# unavailable channels can't trigger tasks, so don't add them\u001b[39;00m\n",
      "\u001b[36mFile \u001b[39m\u001b[32m~/Gen AI/Langgraph-foundations/.venv/lib/python3.12/site-packages/langgraph/channels/binop.py:93\u001b[39m, in \u001b[36mBinaryOperatorAggregate.update\u001b[39m\u001b[34m(self, values)\u001b[39m\n\u001b[32m     91\u001b[39m     values = values[\u001b[32m1\u001b[39m:]\n\u001b[32m     92\u001b[39m \u001b[38;5;28;01mfor\u001b[39;00m value \u001b[38;5;129;01min\u001b[39;00m values:\n\u001b[32m---> \u001b[39m\u001b[32m93\u001b[39m     \u001b[38;5;28mself\u001b[39m.value = \u001b[38;5;28;43mself\u001b[39;49m\u001b[43m.\u001b[49m\u001b[43moperator\u001b[49m\u001b[43m(\u001b[49m\u001b[38;5;28;43mself\u001b[39;49m\u001b[43m.\u001b[49m\u001b[43mvalue\u001b[49m\u001b[43m,\u001b[49m\u001b[43m \u001b[49m\u001b[43mvalue\u001b[49m\u001b[43m)\u001b[49m\n\u001b[32m     94\u001b[39m \u001b[38;5;28;01mreturn\u001b[39;00m \u001b[38;5;28;01mTrue\u001b[39;00m\n",
      "\u001b[31mTypeError\u001b[39m: can only concatenate list (not \"NoneType\") to list"
     ]
    }
   ],
   "source": [
    "graph.invoke({\"foo\":None})"
   ]
  },
  {
   "cell_type": "markdown",
   "id": "6be22719",
   "metadata": {},
   "source": [
    "# Using custom reducers\n",
    "- Can use our own reducer logic to combine inputs"
   ]
  },
  {
   "cell_type": "code",
   "execution_count": 12,
   "id": "27d43bc8",
   "metadata": {},
   "outputs": [],
   "source": [
    "def custom_reducer(left: list| None, right: list| None) -> list:\n",
    "    \"\"\"\n",
    "    Safely combine two lists\n",
    "\n",
    "    Args:\n",
    "        left (list | None): First list to combine or None\n",
    "        right (list | None): Second list to combine or None\n",
    "\n",
    "    Returns:\n",
    "        list: A new list containing all elements from both input lists\n",
    "        If an input is None, it's treated as emoty list\n",
    "    \"\"\"\n",
    "    if not left:\n",
    "        left = []\n",
    "    if not right:\n",
    "        right = []\n",
    "    return left + right\n",
    "\n",
    "# class to use custom reducer\n",
    "class CustomReducerState(BaseModel):\n",
    "    foo: Annotated[list[int], custom_reducer] = Field(..., description=\"A list of integers\")"
   ]
  },
  {
   "cell_type": "code",
   "execution_count": 25,
   "id": "ee2ba65d",
   "metadata": {},
   "outputs": [
    {
     "data": {
      "image/png": "[encoded data removed]",
      "text/plain": [
       "<IPython.core.display.Image object>"
      ]
     },
     "metadata": {},
     "output_type": "display_data"
    }
   ],
   "source": [
    "# buid a graph with custom reducer state:\n",
    "# build graph\n",
    "def node1(state:CustomReducerState):\n",
    "    #print(f\"Node 1: {state.model_dump()['foo'][-1]}\")\n",
    "    return {\"foo\":[state.model_dump()['foo'][-1] + 1]}\n",
    "\n",
    "def node2(state:CustomReducerState):\n",
    "    return {\"foo\":[state.model_dump()['foo'][-1] + 1]}\n",
    "\n",
    "def node3(state:CustomReducerState):\n",
    "    return {\"foo\":[state.model_dump()['foo'][-1] + 1]}\n",
    "\n",
    "# build graph\n",
    "\n",
    "builder = StateGraph(CustomReducerState)\n",
    "builder.add_node(\"node1\", node1)\n",
    "\n",
    "\n",
    "builder.add_edge(START, \"node1\")\n",
    "builder.add_edge(\"node1\", END)\n",
    "\n",
    "graph = builder.compile()\n",
    "display(Image(graph.get_graph().draw_mermaid_png()))"
   ]
  },
  {
   "cell_type": "code",
   "execution_count": 27,
   "id": "01df25a2",
   "metadata": {},
   "outputs": [
    {
     "ename": "IndexError",
     "evalue": "list index out of range",
     "output_type": "error",
     "traceback": [
      "\u001b[31m---------------------------------------------------------------------------\u001b[39m",
      "\u001b[31mIndexError\u001b[39m                                Traceback (most recent call last)",
      "\u001b[36mCell\u001b[39m\u001b[36m \u001b[39m\u001b[32mIn[27]\u001b[39m\u001b[32m, line 1\u001b[39m\n\u001b[32m----> \u001b[39m\u001b[32m1\u001b[39m \u001b[43mgraph\u001b[49m\u001b[43m.\u001b[49m\u001b[43minvoke\u001b[49m\u001b[43m(\u001b[49m\u001b[43m{\u001b[49m\u001b[33;43m\"\u001b[39;49m\u001b[33;43mfoo\u001b[39;49m\u001b[33;43m\"\u001b[39;49m\u001b[43m:\u001b[49m\u001b[38;5;28;43;01mNone\u001b[39;49;00m\u001b[43m}\u001b[49m\u001b[43m)\u001b[49m\n",
      "\u001b[36mFile \u001b[39m\u001b[32m~/Gen AI/Langgraph-foundations/.venv/lib/python3.12/site-packages/langgraph/pregel/main.py:3026\u001b[39m, in \u001b[36mPregel.invoke\u001b[39m\u001b[34m(self, input, config, context, stream_mode, print_mode, output_keys, interrupt_before, interrupt_after, durability, **kwargs)\u001b[39m\n\u001b[32m   3023\u001b[39m chunks: \u001b[38;5;28mlist\u001b[39m[\u001b[38;5;28mdict\u001b[39m[\u001b[38;5;28mstr\u001b[39m, Any] | Any] = []\n\u001b[32m   3024\u001b[39m interrupts: \u001b[38;5;28mlist\u001b[39m[Interrupt] = []\n\u001b[32m-> \u001b[39m\u001b[32m3026\u001b[39m \u001b[43m\u001b[49m\u001b[38;5;28;43;01mfor\u001b[39;49;00m\u001b[43m \u001b[49m\u001b[43mchunk\u001b[49m\u001b[43m \u001b[49m\u001b[38;5;129;43;01min\u001b[39;49;00m\u001b[43m \u001b[49m\u001b[38;5;28;43mself\u001b[39;49m\u001b[43m.\u001b[49m\u001b[43mstream\u001b[49m\u001b[43m(\u001b[49m\n\u001b[32m   3027\u001b[39m \u001b[43m    \u001b[49m\u001b[38;5;28;43minput\u001b[39;49m\u001b[43m,\u001b[49m\n\u001b[32m   3028\u001b[39m \u001b[43m    \u001b[49m\u001b[43mconfig\u001b[49m\u001b[43m,\u001b[49m\n\u001b[32m   3029\u001b[39m \u001b[43m    \u001b[49m\u001b[43mcontext\u001b[49m\u001b[43m=\u001b[49m\u001b[43mcontext\u001b[49m\u001b[43m,\u001b[49m\n\u001b[32m   3030\u001b[39m \u001b[43m    \u001b[49m\u001b[43mstream_mode\u001b[49m\u001b[43m=\u001b[49m\u001b[43m[\u001b[49m\u001b[33;43m\"\u001b[39;49m\u001b[33;43mupdates\u001b[39;49m\u001b[33;43m\"\u001b[39;49m\u001b[43m,\u001b[49m\u001b[43m \u001b[49m\u001b[33;43m\"\u001b[39;49m\u001b[33;43mvalues\u001b[39;49m\u001b[33;43m\"\u001b[39;49m\u001b[43m]\u001b[49m\n\u001b[32m   3031\u001b[39m \u001b[43m    \u001b[49m\u001b[38;5;28;43;01mif\u001b[39;49;00m\u001b[43m \u001b[49m\u001b[43mstream_mode\u001b[49m\u001b[43m \u001b[49m\u001b[43m==\u001b[49m\u001b[43m \u001b[49m\u001b[33;43m\"\u001b[39;49m\u001b[33;43mvalues\u001b[39;49m\u001b[33;43m\"\u001b[39;49m\n\u001b[32m   3032\u001b[39m \u001b[43m    \u001b[49m\u001b[38;5;28;43;01melse\u001b[39;49;00m\u001b[43m \u001b[49m\u001b[43mstream_mode\u001b[49m\u001b[43m,\u001b[49m\n\u001b[32m   3033\u001b[39m \u001b[43m    \u001b[49m\u001b[43mprint_mode\u001b[49m\u001b[43m=\u001b[49m\u001b[43mprint_mode\u001b[49m\u001b[43m,\u001b[49m\n\u001b[32m   3034\u001b[39m \u001b[43m    \u001b[49m\u001b[43moutput_keys\u001b[49m\u001b[43m=\u001b[49m\u001b[43moutput_keys\u001b[49m\u001b[43m,\u001b[49m\n\u001b[32m   3035\u001b[39m \u001b[43m    \u001b[49m\u001b[43minterrupt_before\u001b[49m\u001b[43m=\u001b[49m\u001b[43minterrupt_before\u001b[49m\u001b[43m,\u001b[49m\n\u001b[32m   3036\u001b[39m \u001b[43m    \u001b[49m\u001b[43minterrupt_after\u001b[49m\u001b[43m=\u001b[49m\u001b[43minterrupt_after\u001b[49m\u001b[43m,\u001b[49m\n\u001b[32m   3037\u001b[39m \u001b[43m    \u001b[49m\u001b[43mdurability\u001b[49m\u001b[43m=\u001b[49m\u001b[43mdurability\u001b[49m\u001b[43m,\u001b[49m\n\u001b[32m   3038\u001b[39m \u001b[43m    \u001b[49m\u001b[43m*\u001b[49m\u001b[43m*\u001b[49m\u001b[43mkwargs\u001b[49m\u001b[43m,\u001b[49m\n\u001b[32m   3039\u001b[39m \u001b[43m\u001b[49m\u001b[43m)\u001b[49m\u001b[43m:\u001b[49m\n\u001b[32m   3040\u001b[39m \u001b[43m    \u001b[49m\u001b[38;5;28;43;01mif\u001b[39;49;00m\u001b[43m \u001b[49m\u001b[43mstream_mode\u001b[49m\u001b[43m \u001b[49m\u001b[43m==\u001b[49m\u001b[43m \u001b[49m\u001b[33;43m\"\u001b[39;49m\u001b[33;43mvalues\u001b[39;49m\u001b[33;43m\"\u001b[39;49m\u001b[43m:\u001b[49m\n\u001b[32m   3041\u001b[39m \u001b[43m        \u001b[49m\u001b[38;5;28;43;01mif\u001b[39;49;00m\u001b[43m \u001b[49m\u001b[38;5;28;43mlen\u001b[39;49m\u001b[43m(\u001b[49m\u001b[43mchunk\u001b[49m\u001b[43m)\u001b[49m\u001b[43m \u001b[49m\u001b[43m==\u001b[49m\u001b[43m \u001b[49m\u001b[32;43m2\u001b[39;49m\u001b[43m:\u001b[49m\n",
      "\u001b[36mFile \u001b[39m\u001b[32m~/Gen AI/Langgraph-foundations/.venv/lib/python3.12/site-packages/langgraph/pregel/main.py:2647\u001b[39m, in \u001b[36mPregel.stream\u001b[39m\u001b[34m(self, input, config, context, stream_mode, print_mode, output_keys, interrupt_before, interrupt_after, durability, subgraphs, debug, **kwargs)\u001b[39m\n\u001b[32m   2645\u001b[39m \u001b[38;5;28;01mfor\u001b[39;00m task \u001b[38;5;129;01min\u001b[39;00m loop.match_cached_writes():\n\u001b[32m   2646\u001b[39m     loop.output_writes(task.id, task.writes, cached=\u001b[38;5;28;01mTrue\u001b[39;00m)\n\u001b[32m-> \u001b[39m\u001b[32m2647\u001b[39m \u001b[43m\u001b[49m\u001b[38;5;28;43;01mfor\u001b[39;49;00m\u001b[43m \u001b[49m\u001b[43m_\u001b[49m\u001b[43m \u001b[49m\u001b[38;5;129;43;01min\u001b[39;49;00m\u001b[43m \u001b[49m\u001b[43mrunner\u001b[49m\u001b[43m.\u001b[49m\u001b[43mtick\u001b[49m\u001b[43m(\u001b[49m\n\u001b[32m   2648\u001b[39m \u001b[43m    \u001b[49m\u001b[43m[\u001b[49m\u001b[43mt\u001b[49m\u001b[43m \u001b[49m\u001b[38;5;28;43;01mfor\u001b[39;49;00m\u001b[43m \u001b[49m\u001b[43mt\u001b[49m\u001b[43m \u001b[49m\u001b[38;5;129;43;01min\u001b[39;49;00m\u001b[43m \u001b[49m\u001b[43mloop\u001b[49m\u001b[43m.\u001b[49m\u001b[43mtasks\u001b[49m\u001b[43m.\u001b[49m\u001b[43mvalues\u001b[49m\u001b[43m(\u001b[49m\u001b[43m)\u001b[49m\u001b[43m \u001b[49m\u001b[38;5;28;43;01mif\u001b[39;49;00m\u001b[43m \u001b[49m\u001b[38;5;129;43;01mnot\u001b[39;49;00m\u001b[43m \u001b[49m\u001b[43mt\u001b[49m\u001b[43m.\u001b[49m\u001b[43mwrites\u001b[49m\u001b[43m]\u001b[49m\u001b[43m,\u001b[49m\n\u001b[32m   2649\u001b[39m \u001b[43m    \u001b[49m\u001b[43mtimeout\u001b[49m\u001b[43m=\u001b[49m\u001b[38;5;28;43mself\u001b[39;49m\u001b[43m.\u001b[49m\u001b[43mstep_timeout\u001b[49m\u001b[43m,\u001b[49m\n\u001b[32m   2650\u001b[39m \u001b[43m    \u001b[49m\u001b[43mget_waiter\u001b[49m\u001b[43m=\u001b[49m\u001b[43mget_waiter\u001b[49m\u001b[43m,\u001b[49m\n\u001b[32m   2651\u001b[39m \u001b[43m    \u001b[49m\u001b[43mschedule_task\u001b[49m\u001b[43m=\u001b[49m\u001b[43mloop\u001b[49m\u001b[43m.\u001b[49m\u001b[43maccept_push\u001b[49m\u001b[43m,\u001b[49m\n\u001b[32m   2652\u001b[39m \u001b[43m\u001b[49m\u001b[43m)\u001b[49m\u001b[43m:\u001b[49m\n\u001b[32m   2653\u001b[39m \u001b[43m    \u001b[49m\u001b[38;5;66;43;03m# emit output\u001b[39;49;00m\n\u001b[32m   2654\u001b[39m \u001b[43m    \u001b[49m\u001b[38;5;28;43;01myield from\u001b[39;49;00m\u001b[43m \u001b[49m\u001b[43m_output\u001b[49m\u001b[43m(\u001b[49m\n\u001b[32m   2655\u001b[39m \u001b[43m        \u001b[49m\u001b[43mstream_mode\u001b[49m\u001b[43m,\u001b[49m\u001b[43m \u001b[49m\u001b[43mprint_mode\u001b[49m\u001b[43m,\u001b[49m\u001b[43m \u001b[49m\u001b[43msubgraphs\u001b[49m\u001b[43m,\u001b[49m\u001b[43m \u001b[49m\u001b[43mstream\u001b[49m\u001b[43m.\u001b[49m\u001b[43mget\u001b[49m\u001b[43m,\u001b[49m\u001b[43m \u001b[49m\u001b[43mqueue\u001b[49m\u001b[43m.\u001b[49m\u001b[43mEmpty\u001b[49m\n\u001b[32m   2656\u001b[39m \u001b[43m    \u001b[49m\u001b[43m)\u001b[49m\n\u001b[32m   2657\u001b[39m loop.after_tick()\n",
      "\u001b[36mFile \u001b[39m\u001b[32m~/Gen AI/Langgraph-foundations/.venv/lib/python3.12/site-packages/langgraph/pregel/_runner.py:162\u001b[39m, in \u001b[36mPregelRunner.tick\u001b[39m\u001b[34m(self, tasks, reraise, timeout, retry_policy, get_waiter, schedule_task)\u001b[39m\n\u001b[32m    160\u001b[39m t = tasks[\u001b[32m0\u001b[39m]\n\u001b[32m    161\u001b[39m \u001b[38;5;28;01mtry\u001b[39;00m:\n\u001b[32m--> \u001b[39m\u001b[32m162\u001b[39m     \u001b[43mrun_with_retry\u001b[49m\u001b[43m(\u001b[49m\n\u001b[32m    163\u001b[39m \u001b[43m        \u001b[49m\u001b[43mt\u001b[49m\u001b[43m,\u001b[49m\n\u001b[32m    164\u001b[39m \u001b[43m        \u001b[49m\u001b[43mretry_policy\u001b[49m\u001b[43m,\u001b[49m\n\u001b[32m    165\u001b[39m \u001b[43m        \u001b[49m\u001b[43mconfigurable\u001b[49m\u001b[43m=\u001b[49m\u001b[43m{\u001b[49m\n\u001b[32m    166\u001b[39m \u001b[43m            \u001b[49m\u001b[43mCONFIG_KEY_CALL\u001b[49m\u001b[43m:\u001b[49m\u001b[43m \u001b[49m\u001b[43mpartial\u001b[49m\u001b[43m(\u001b[49m\n\u001b[32m    167\u001b[39m \u001b[43m                \u001b[49m\u001b[43m_call\u001b[49m\u001b[43m,\u001b[49m\n\u001b[32m    168\u001b[39m \u001b[43m                \u001b[49m\u001b[43mweakref\u001b[49m\u001b[43m.\u001b[49m\u001b[43mref\u001b[49m\u001b[43m(\u001b[49m\u001b[43mt\u001b[49m\u001b[43m)\u001b[49m\u001b[43m,\u001b[49m\n\u001b[32m    169\u001b[39m \u001b[43m                \u001b[49m\u001b[43mretry_policy\u001b[49m\u001b[43m=\u001b[49m\u001b[43mretry_policy\u001b[49m\u001b[43m,\u001b[49m\n\u001b[32m    170\u001b[39m \u001b[43m                \u001b[49m\u001b[43mfutures\u001b[49m\u001b[43m=\u001b[49m\u001b[43mweakref\u001b[49m\u001b[43m.\u001b[49m\u001b[43mref\u001b[49m\u001b[43m(\u001b[49m\u001b[43mfutures\u001b[49m\u001b[43m)\u001b[49m\u001b[43m,\u001b[49m\n\u001b[32m    171\u001b[39m \u001b[43m                \u001b[49m\u001b[43mschedule_task\u001b[49m\u001b[43m=\u001b[49m\u001b[43mschedule_task\u001b[49m\u001b[43m,\u001b[49m\n\u001b[32m    172\u001b[39m \u001b[43m                \u001b[49m\u001b[43msubmit\u001b[49m\u001b[43m=\u001b[49m\u001b[38;5;28;43mself\u001b[39;49m\u001b[43m.\u001b[49m\u001b[43msubmit\u001b[49m\u001b[43m,\u001b[49m\n\u001b[32m    173\u001b[39m \u001b[43m            \u001b[49m\u001b[43m)\u001b[49m\u001b[43m,\u001b[49m\n\u001b[32m    174\u001b[39m \u001b[43m        \u001b[49m\u001b[43m}\u001b[49m\u001b[43m,\u001b[49m\n\u001b[32m    175\u001b[39m \u001b[43m    \u001b[49m\u001b[43m)\u001b[49m\n\u001b[32m    176\u001b[39m     \u001b[38;5;28mself\u001b[39m.commit(t, \u001b[38;5;28;01mNone\u001b[39;00m)\n\u001b[32m    177\u001b[39m \u001b[38;5;28;01mexcept\u001b[39;00m \u001b[38;5;167;01mException\u001b[39;00m \u001b[38;5;28;01mas\u001b[39;00m exc:\n",
      "\u001b[36mFile \u001b[39m\u001b[32m~/Gen AI/Langgraph-foundations/.venv/lib/python3.12/site-packages/langgraph/pregel/_retry.py:42\u001b[39m, in \u001b[36mrun_with_retry\u001b[39m\u001b[34m(task, retry_policy, configurable)\u001b[39m\n\u001b[32m     40\u001b[39m     task.writes.clear()\n\u001b[32m     41\u001b[39m     \u001b[38;5;66;03m# run the task\u001b[39;00m\n\u001b[32m---> \u001b[39m\u001b[32m42\u001b[39m     \u001b[38;5;28;01mreturn\u001b[39;00m \u001b[43mtask\u001b[49m\u001b[43m.\u001b[49m\u001b[43mproc\u001b[49m\u001b[43m.\u001b[49m\u001b[43minvoke\u001b[49m\u001b[43m(\u001b[49m\u001b[43mtask\u001b[49m\u001b[43m.\u001b[49m\u001b[43minput\u001b[49m\u001b[43m,\u001b[49m\u001b[43m \u001b[49m\u001b[43mconfig\u001b[49m\u001b[43m)\u001b[49m\n\u001b[32m     43\u001b[39m \u001b[38;5;28;01mexcept\u001b[39;00m ParentCommand \u001b[38;5;28;01mas\u001b[39;00m exc:\n\u001b[32m     44\u001b[39m     ns: \u001b[38;5;28mstr\u001b[39m = config[CONF][CONFIG_KEY_CHECKPOINT_NS]\n",
      "\u001b[36mFile \u001b[39m\u001b[32m~/Gen AI/Langgraph-foundations/.venv/lib/python3.12/site-packages/langgraph/_internal/_runnable.py:657\u001b[39m, in \u001b[36mRunnableSeq.invoke\u001b[39m\u001b[34m(self, input, config, **kwargs)\u001b[39m\n\u001b[32m    655\u001b[39m     \u001b[38;5;66;03m# run in context\u001b[39;00m\n\u001b[32m    656\u001b[39m     \u001b[38;5;28;01mwith\u001b[39;00m set_config_context(config, run) \u001b[38;5;28;01mas\u001b[39;00m context:\n\u001b[32m--> \u001b[39m\u001b[32m657\u001b[39m         \u001b[38;5;28minput\u001b[39m = \u001b[43mcontext\u001b[49m\u001b[43m.\u001b[49m\u001b[43mrun\u001b[49m\u001b[43m(\u001b[49m\u001b[43mstep\u001b[49m\u001b[43m.\u001b[49m\u001b[43minvoke\u001b[49m\u001b[43m,\u001b[49m\u001b[43m \u001b[49m\u001b[38;5;28;43minput\u001b[39;49m\u001b[43m,\u001b[49m\u001b[43m \u001b[49m\u001b[43mconfig\u001b[49m\u001b[43m,\u001b[49m\u001b[43m \u001b[49m\u001b[43m*\u001b[49m\u001b[43m*\u001b[49m\u001b[43mkwargs\u001b[49m\u001b[43m)\u001b[49m\n\u001b[32m    658\u001b[39m \u001b[38;5;28;01melse\u001b[39;00m:\n\u001b[32m    659\u001b[39m     \u001b[38;5;28minput\u001b[39m = step.invoke(\u001b[38;5;28minput\u001b[39m, config)\n",
      "\u001b[36mFile \u001b[39m\u001b[32m~/Gen AI/Langgraph-foundations/.venv/lib/python3.12/site-packages/langgraph/_internal/_runnable.py:401\u001b[39m, in \u001b[36mRunnableCallable.invoke\u001b[39m\u001b[34m(self, input, config, **kwargs)\u001b[39m\n\u001b[32m    399\u001b[39m         run_manager.on_chain_end(ret)\n\u001b[32m    400\u001b[39m \u001b[38;5;28;01melse\u001b[39;00m:\n\u001b[32m--> \u001b[39m\u001b[32m401\u001b[39m     ret = \u001b[38;5;28;43mself\u001b[39;49m\u001b[43m.\u001b[49m\u001b[43mfunc\u001b[49m\u001b[43m(\u001b[49m\u001b[43m*\u001b[49m\u001b[43margs\u001b[49m\u001b[43m,\u001b[49m\u001b[43m \u001b[49m\u001b[43m*\u001b[49m\u001b[43m*\u001b[49m\u001b[43mkwargs\u001b[49m\u001b[43m)\u001b[49m\n\u001b[32m    402\u001b[39m \u001b[38;5;28;01mif\u001b[39;00m \u001b[38;5;28mself\u001b[39m.recurse \u001b[38;5;129;01mand\u001b[39;00m \u001b[38;5;28misinstance\u001b[39m(ret, Runnable):\n\u001b[32m    403\u001b[39m     \u001b[38;5;28;01mreturn\u001b[39;00m ret.invoke(\u001b[38;5;28minput\u001b[39m, config)\n",
      "\u001b[36mCell\u001b[39m\u001b[36m \u001b[39m\u001b[32mIn[25]\u001b[39m\u001b[32m, line 5\u001b[39m, in \u001b[36mnode1\u001b[39m\u001b[34m(state)\u001b[39m\n\u001b[32m      3\u001b[39m \u001b[38;5;28;01mdef\u001b[39;00m\u001b[38;5;250m \u001b[39m\u001b[34mnode1\u001b[39m(state:CustomReducerState):\n\u001b[32m      4\u001b[39m     \u001b[38;5;66;03m#print(f\"Node 1: {state.model_dump()['foo'][-1]}\")\u001b[39;00m\n\u001b[32m----> \u001b[39m\u001b[32m5\u001b[39m     \u001b[38;5;28;01mreturn\u001b[39;00m {\u001b[33m\"\u001b[39m\u001b[33mfoo\u001b[39m\u001b[33m\"\u001b[39m:[\u001b[43mstate\u001b[49m\u001b[43m.\u001b[49m\u001b[43mmodel_dump\u001b[49m\u001b[43m(\u001b[49m\u001b[43m)\u001b[49m\u001b[43m[\u001b[49m\u001b[33;43m'\u001b[39;49m\u001b[33;43mfoo\u001b[39;49m\u001b[33;43m'\u001b[39;49m\u001b[43m]\u001b[49m\u001b[43m[\u001b[49m\u001b[43m-\u001b[49m\u001b[32;43m1\u001b[39;49m\u001b[43m]\u001b[49m + \u001b[32m1\u001b[39m]}\n",
      "\u001b[31mIndexError\u001b[39m: list index out of range",
      "During task with name 'node1' and id 'c520aae8-4da2-8ce8-b0df-5fe4aefdc84c'"
     ]
    }
   ],
   "source": [
    "graph.invoke({\"foo\":None})"
   ]
  },
  {
   "cell_type": "markdown",
   "id": "a47b2361",
   "metadata": {},
   "source": [
    "# Messages\n",
    "- Can rewrite messages when we supply ids along with messages. We can replace message content for a particular message id\n",
    "- We can overrite or remove messages using these ids"
   ]
  },
  {
   "cell_type": "code",
   "execution_count": 30,
   "id": "7e61ab78",
   "metadata": {},
   "outputs": [
    {
     "data": {
      "text/plain": [
       "[AIMessage(content='Hello! How can I assist you today?', additional_kwargs={}, response_metadata={}, id='1'),\n",
       " HumanMessage(content='I am looking for a car in the city', additional_kwargs={}, response_metadata={}, id='2')]"
      ]
     },
     "execution_count": 30,
     "metadata": {},
     "output_type": "execute_result"
    }
   ],
   "source": [
    "from langchain_core.messages import AIMessage,HumanMessage\n",
    "from langgraph.graph.message import add_messages\n",
    "\n",
    "\n",
    "initial_messages = [\n",
    "    AIMessage(content = \"Hello! How can I assist you today?\", id = \"1\"),\n",
    "    HumanMessage(content= \"I am looking for a restaurant in the city\", id = \"2\"),\n",
    "]\n",
    "\n",
    "new_message = HumanMessage(content= \"I am looking for a car in the city\", id = \"2\")\n",
    "add_messages(initial_messages, new_message)"
   ]
  },
  {
   "cell_type": "code",
   "execution_count": null,
   "id": "5eafbae8",
   "metadata": {},
   "outputs": [
    {
     "data": {
      "text/plain": [
       "([RemoveMessage(content='', additional_kwargs={}, response_metadata={}, id='3'),\n",
       "  RemoveMessage(content='', additional_kwargs={}, response_metadata={}, id='4')],\n",
       " [AIMessage(content='Hello! How can I assist you today?', additional_kwargs={}, response_metadata={}, name='Bot', id='1'),\n",
       "  HumanMessage(content='I am looking for a restaurant in the city', additional_kwargs={}, response_metadata={}, name='User', id='2'),\n",
       "  AIMessage(content='So you said you are looking for a restaurant in the city?', additional_kwargs={}, response_metadata={}, name='Bot', id='3'),\n",
       "  HumanMessage(content='Yes, I am looking for a restaurant in the city', additional_kwargs={}, response_metadata={}, name='User', id='4')])"
      ]
     },
     "execution_count": 32,
     "metadata": {},
     "output_type": "execute_result"
    }
   ],
   "source": [
    "from langchain_core.messages import AIMessage, HumanMessage, RemoveMessage\n",
    "\n",
    "messages = [AIMessage(content = \"Hello! How can I assist you today?\",name=\"Bot\", id = \"1\"),\n",
    "            HumanMessage(content = \"I am looking for a restaurant in the city\", name=\"User\", id = \"2\"),\n",
    "            AIMessage(content = \"So you said you are looking for a restaurant in the city?\", name=\"Bot\", id = \"3\"),\n",
    "            HumanMessage(content = \"Yes, I am looking for a restaurant in the city\", name=\"User\", id = \"4\")]\n",
    "\n",
    "# deleting the 2 most recent messages\n",
    "deleted_messages = [RemoveMessage(id = m.id) for m in messages[-2:]]\n",
    "deleted_messages"
   ]
  },
  {
   "cell_type": "markdown",
   "id": "2e4927f7",
   "metadata": {},
   "source": [
    "# Multiple schemas\n",
    "- Typically all graph nodes communicate with a single schema\n",
    "- This schema contains graph's input and output keys/channels\n",
    "Sometimes we may want more control than this.\n",
    "- Internal nodes can pass information that's not required by graph's input/output\n",
    "- We may also want to use different input/output schemas for graph. "
   ]
  },
  {
   "cell_type": "markdown",
   "id": "eac49515",
   "metadata": {},
   "source": [
    "# Private state\n",
    "- This is useful for anything needed as part of intermediate working logic but not relevant to the overall graph input or output\n",
    "- Nodes may take private state as input but write to overall graph state and vice versa"
   ]
  },
  {
   "cell_type": "code",
   "execution_count": 33,
   "id": "6c8225bb",
   "metadata": {},
   "outputs": [
    {
     "data": {
      "image/png": "[encoded data removed]",
      "text/plain": [
       "<IPython.core.display.Image object>"
      ]
     },
     "metadata": {},
     "output_type": "display_data"
    },
    {
     "data": {
      "text/plain": [
       "{'foo': 4}"
      ]
     },
     "execution_count": 33,
     "metadata": {},
     "output_type": "execute_result"
    }
   ],
   "source": [
    "from pydantic import BaseModel, Field\n",
    "from typing import Annotated\n",
    "from langgraph.graph import StateGraph, START, END\n",
    "\n",
    "class OverallState(BaseModel):\n",
    "    foo: int = Field(description = \"An integer for overall graph state\")\n",
    "\n",
    "class PrivateState(BaseModel):\n",
    "    bar: int = Field(description = \"An integer for private state\")\n",
    "    \n",
    "def node_1(state:OverallState) -> PrivateState:\n",
    "    return {'bar': state.model_dump()['foo']+1}\n",
    "\n",
    "def node_2(state:PrivateState) -> OverallState:\n",
    "    return {\"foo\": state.model_dump()[\"bar\"] + 1}\n",
    "\n",
    "# build graph\n",
    "builder = StateGraph(OverallState)\n",
    "builder.add_node(\"node_1\", node_1)\n",
    "builder.add_node(\"node_2\", node_2)\n",
    "\n",
    "# add edges\n",
    "builder.add_edge(START, \"node_1\")\n",
    "builder.add_edge(\"node_1\", \"node_2\")\n",
    "builder.add_edge(\"node_2\", END)\n",
    "\n",
    "# compile graph\n",
    "graph = builder.compile()\n",
    "\n",
    "# display\n",
    "display(Image(graph.get_graph().draw_mermaid_png()))\n",
    "\n",
    "# invoke:\n",
    "graph.invoke({'foo':2})\n"
   ]
  },
  {
   "cell_type": "markdown",
   "id": "6973f30a",
   "metadata": {},
   "source": [
    "## Case 2: Using specific Input and output schema\n",
    "- Input schema is different from output schema"
   ]
  },
  {
   "cell_type": "code",
   "execution_count": 35,
   "id": "90c2df17",
   "metadata": {},
   "outputs": [
    {
     "data": {
      "image/png": "[encoded data removed]",
      "text/plain": [
       "<IPython.core.display.Image object>"
      ]
     },
     "metadata": {},
     "output_type": "display_data"
    },
    {
     "data": {
      "text/plain": [
       "{'answer': 'Bye John Doe'}"
      ]
     },
     "execution_count": 35,
     "metadata": {},
     "output_type": "execute_result"
    }
   ],
   "source": [
    "class InputState(BaseModel):\n",
    "    question:str = Field(description=\"Question asked by user\")\n",
    "\n",
    "class OutputState(BaseModel):\n",
    "    answer: str = Field(description=\"Answer supplied by agent\")\n",
    "\n",
    "class OverallState(BaseModel):\n",
    "    question:str = Field(description=\"Question asked by user\")\n",
    "    answer: str = Field(description=\"Answer supplied by agent\")\n",
    "    notes: str = Field(description=\"Any notes taken/supplied by agent\")\n",
    "    \n",
    "def thinking_node(state:InputState):\n",
    "    return {'question': state.model_dump()['question'],'answer': \"bye\", \"notes\": \"... his name is John Doe\"}\n",
    "\n",
    "def answer_node(state:OutputState) -> OutputState:\n",
    "    return {'answer': 'Bye John Doe'}\n",
    "\n",
    "# build graph\n",
    "builder = StateGraph(OverallState, input_schema=InputState, output_schema=OutputState) # using explicit filters on what we want as the input and output states of the graph\n",
    "# add nodes\n",
    "builder.add_node('answer_node', answer_node)\n",
    "builder.add_node('thinking_node', thinking_node)\n",
    "# add edges\n",
    "builder.add_edge(START, 'thinking_node')\n",
    "builder.add_edge('thinking_node', 'answer_node')\n",
    "builder.add_edge('answer_node', END)\n",
    "# compile graph\n",
    "graph = builder.compile()\n",
    "# draw \n",
    "display(Image(graph.get_graph().draw_mermaid_png()))\n",
    "\n",
    "# invoke:\n",
    "graph.invoke({'question': 'Hello I am John Doe'})\n"
   ]
  },
  {
   "cell_type": "markdown",
   "id": "5e62ec78",
   "metadata": {},
   "source": [
    "# Filtering and trimming messages\n",
    "- Need to use this to optimise for token usage\n",
    "- Long running messages can be token intensive and have high latency if not used carefully. \n",
    "- Can use langsmith to verify what's being passed to LLMs"
   ]
  },
  {
   "cell_type": "markdown",
   "id": "368dbc94",
   "metadata": {},
   "source": [
    "## Filtering messages\n",
    "- Lets say we only want to keep last n messages"
   ]
  },
  {
   "cell_type": "code",
   "execution_count": 5,
   "id": "df651054",
   "metadata": {},
   "outputs": [
    {
     "data": {
      "image/png": "[encoded data removed]",
      "text/plain": [
       "<IPython.core.display.Image object>"
      ]
     },
     "metadata": {},
     "output_type": "display_data"
    },
    {
     "name": "stdout",
     "output_type": "stream",
     "text": [
      "==================================\u001b[1m Ai Message \u001b[0m==================================\n",
      "Name: Bot\n",
      "\n",
      "Hello! How can I assist you today?\n",
      "================================\u001b[1m Human Message \u001b[0m=================================\n",
      "Name: User\n",
      "\n",
      "I want to learn more about marine biology\n",
      "==================================\u001b[1m Ai Message \u001b[0m==================================\n",
      "Name: Bot\n",
      "\n",
      "I can help you with that. What would you like to know?\n",
      "================================\u001b[1m Human Message \u001b[0m=================================\n",
      "Name: User\n",
      "\n",
      "I want to know about the different types of fish in the ocean\n",
      "================================\u001b[1m Human Message \u001b[0m=================================\n",
      "\n",
      "The ocean is home to a vast and diverse range of fish species, each adapted to their specific environments. Here are some broad categories and examples of different types of fish you can find in the ocean:\n",
      "\n",
      "1. **Cartilaginous Fish (Chondrichthyes):**\n",
      "   - These fish have skeletons made of cartilage rather than bone.\n",
      "   - **Examples**: Sharks, rays, and skates. The great white shark and the manta ray are well-known species within this group.\n",
      "\n",
      "2. **Bony Fish (Osteichthyes):**\n",
      "   - This is the largest class of fish, with skeletons made of bone.\n",
      "   - Subcategories include:\n",
      "     - **Ray-finned fish (Actinopterygii):** Characterized by their fin rays.\n",
      "       - **Examples**: Clownfish, tuna, and seahorses.\n",
      "     - **Lobe-finned fish (Sarcopterygii):** Known for their fleshy, lobed, paired fins.\n",
      "       - **Examples**: Coelacanths and lungfish.\n",
      "\n",
      "3. **Deep-sea Fish:**\n",
      "   - Adapted to live in the dark, high-pressure environments of the deep ocean.\n",
      "   - **Examples**: Anglerfish, which have bioluminescent lures, and the gulper eel.\n",
      "\n",
      "4. **Reef Fish:**\n",
      "   - Inhabit coral reef ecosystems and are often brightly colored.\n",
      "   - **Examples**: Parrotfish, butterflyfish, and wrasses.\n",
      "\n",
      "5. **Pelagic Fish:**\n",
      "   - Live in the open ocean, away from the sea floor.\n",
      "   - **Examples**: Mackerel, swordfish, and marlin.\n",
      "\n",
      "6. **Demersal Fish:**\n",
      "   - Live and feed on or near the bottom of seas or lakes.\n",
      "   - **Examples**: Cod, flounder, and halibut.\n",
      "\n",
      "7. **Migratory Fish:**\n",
      "   - Known for long-distance migrations for breeding or feeding.\n",
      "   - **Examples**: Salmon, which migrate from the ocean to freshwater to spawn, and the European eel.\n",
      "\n",
      "Each of these types of fish has evolved unique adaptations that suit their particular habitats and life cycles, providing a fascinating insight into the diversity of life beneath the waves. If you’re interested in specific adaptations or behaviors, let me know!\n",
      "================================\u001b[1m Human Message \u001b[0m=================================\n",
      "Name: User\n",
      "\n",
      "Tell me more about Whales!\n",
      "==================================\u001b[1m Ai Message \u001b[0m==================================\n",
      "\n",
      "Whales are fascinating marine mammals, belonging to the order Cetacea, which also includes dolphins and porpoises. They are known for their immense size, intelligence, and complex social behaviors. Here's more about these incredible creatures:\n",
      "\n",
      "### Types of Whales\n",
      "Whales are generally divided into two suborders:\n",
      "\n",
      "1. **Baleen Whales (Mysticeti)**:\n",
      "   - These whales have baleen plates instead of teeth. \n",
      "   - They filter-feed by taking in large amounts of water and then pushing it out through their baleen plates to capture krill and small fish.\n",
      "   - Examples include the Blue Whale, Humpback Whale, and Gray Whale.\n",
      "\n",
      "2. **Toothed Whales (Odontoceti)**:\n",
      "   - These whales have teeth and are usually smaller than baleen whales.\n",
      "   - They actively hunt and eat larger prey like fish and squid.\n",
      "   - Examples include Sperm Whales, Orcas (also known as Killer Whales), and Dolphins.\n",
      "\n",
      "### Characteristics\n",
      "- **Size**: Whales are among the largest animals on earth. The Blue Whale, the largest of them all, can reach lengths of up to 100 feet (30 meters) and weigh as much as 200 tons.\n",
      "- **Communication**: Whales are known for their complex communication skills, which include a range of sounds like clicks, whistles, and songs, especially noted in Humpback Whales.\n",
      "- **Migration**: Many whale species are known for their long migrations, moving from feeding grounds in cold waters to breeding grounds in warmer seas.\n",
      "- **Lifespan**: Whales generally have long lifespans, with some species like the Bowhead Whale living over 200 years.\n",
      "\n",
      "### Conservation\n",
      "- Many whale species faced severe declines due to commercial whaling in the past. Although banned, illegal hunting and bycatch still pose threats.\n",
      "- Conservation efforts focus on protecting habitats, mitigating ship strikes, and reducing entanglements in fishing gear.\n",
      "\n",
      "### Cultural Significance\n",
      "- Whales have been an important part of human culture for thousands of years, appearing in mythology, literature, and art.\n",
      "- They are often seen as symbols of strength, wisdom, and mystery.\n",
      "\n",
      "### Importance to Ecosystems\n",
      "- Whales play a crucial role in marine ecosystems, contributing to nutrient cycling. Their fecal plumes fertilize plankton, which is the foundation of the marine food web.\n",
      "\n",
      "Understanding and protecting whales is crucial not only for their survival but also for the health of marine ecosystems around the globe.\n"
     ]
    }
   ],
   "source": [
    "from langchain_core.messages import HumanMessage, AIMessage\n",
    "from langchain_openai import ChatOpenAI\n",
    "from langgraph.graph.message import MessagesState\n",
    "from langgraph.graph import StateGraph, START, END\n",
    "from IPython.display import Image, display\n",
    "\n",
    "\n",
    "\n",
    "llm = ChatOpenAI(model=\"gpt-4o\")\n",
    "messages = [\n",
    "    AIMessage(content = \"Hello! How can I assist you today?\",name=\"Bot\"),\n",
    "    HumanMessage(content = \"I want to learn more about marine biology\",name=\"User\"),\n",
    "    AIMessage(content = \"I can help you with that. What would you like to know?\",name=\"Bot\"),\n",
    "    HumanMessage(content = \"I want to know about the different types of fish in the ocean\",name=\"User\"),\n",
    "]\n",
    "\n",
    "output = llm.invoke(messages)\n",
    "#print(output)\n",
    "# chatmodel node which only keeps latest message in history\n",
    "def chatmodel_node(state:MessagesState):\n",
    "    return {\"messages\": [llm.invoke(state['messages'][-1:])]}\n",
    "\n",
    "# build graph\n",
    "builder = StateGraph(MessagesState)\n",
    "builder.add_node('chatmodel_node',chatmodel_node)\n",
    "builder.add_edge(START, 'chatmodel_node')\n",
    "builder.add_edge('chatmodel_node', END)\n",
    "graph = builder.compile()\n",
    "\n",
    "# display\n",
    "display(Image(graph.get_graph().draw_mermaid_png()))\n",
    "\n",
    "# append llm output to messages:\n",
    "messages.append(output.content)\n",
    "messages.append(HumanMessage(f\"Tell me more about Whales!\", name = \"User\"))\n",
    "\n",
    "# look at message list\n",
    "output =  graph.invoke({'messages':messages})\n",
    "for m in output[\"messages\"]:\n",
    "    m.pretty_print()    "
   ]
  },
  {
   "cell_type": "markdown",
   "id": "a189a686",
   "metadata": {},
   "source": [
    "# Another approach \n",
    "- Trimming messages based on a set number of tokens\n",
    "- this restricts message history to a  specified number of tokens\n",
    "- While filtering only returns a post-hoc subset of messages between agents, trimming restricts the number of tokens a chat model can use to respond"
   ]
  },
  {
   "cell_type": "code",
   "execution_count": null,
   "id": "a2b9dbe4",
   "metadata": {},
   "outputs": [
    {
     "data": {
      "image/png": "[encoded data removed]",
      "text/plain": [
       "<IPython.core.display.Image object>"
      ]
     },
     "metadata": {},
     "output_type": "display_data"
    }
   ],
   "source": [
    "from langchain_core.messages import trim_messages\n",
    "# build node\n",
    "def chat_model_node(state:MessagesState):\n",
    "    messages = trim_messages(\n",
    "        state[\"messages\"],\n",
    "        max_tokens = 100,\n",
    "        strategy = \"last\", # starts from the most recent message in the list\n",
    "        token_counter = ChatOpenAI(model=\"gpt-4o\"),\n",
    "        allow_partial=True # cut messages in the middle of them if set to True\n",
    "    )\n",
    "    return {\"messages\": [llm.invoke(messages)]}\n",
    "# build graph\n",
    "builder = StateGraph(MessagesState)\n",
    "# add nodes\n",
    "builder.add_node(\"chat_model\", chat_model_node)\n",
    "# add edges\n",
    "builder.add_edge(START, \"chat_model\")\n",
    "builder.add_edge(\"chat_model\", END)\n",
    "# compile\n",
    "graph = builder.compile()\n",
    "# display\n",
    "display(Image(graph.get_graph().draw_mermaid_png()))"
   ]
  },
  {
   "cell_type": "code",
   "execution_count": 7,
   "id": "5b192fb8",
   "metadata": {},
   "outputs": [],
   "source": [
    "messages.append(output[\"messages\"][-1])\n",
    "messages.append(HumanMessage(content = \"Where do Orcas live?\", name=\"User\"))"
   ]
  },
  {
   "cell_type": "code",
   "execution_count": 8,
   "id": "74f3a3ff",
   "metadata": {},
   "outputs": [
    {
     "name": "stdout",
     "output_type": "stream",
     "text": [
      "==================================\u001b[1m Ai Message \u001b[0m==================================\n",
      "Name: Bot\n",
      "\n",
      "Hello! How can I assist you today?\n",
      "================================\u001b[1m Human Message \u001b[0m=================================\n",
      "Name: User\n",
      "\n",
      "I want to learn more about marine biology\n",
      "==================================\u001b[1m Ai Message \u001b[0m==================================\n",
      "Name: Bot\n",
      "\n",
      "I can help you with that. What would you like to know?\n",
      "================================\u001b[1m Human Message \u001b[0m=================================\n",
      "Name: User\n",
      "\n",
      "I want to know about the different types of fish in the ocean\n",
      "================================\u001b[1m Human Message \u001b[0m=================================\n",
      "\n",
      "The ocean is home to a vast and diverse range of fish species, each adapted to their specific environments. Here are some broad categories and examples of different types of fish you can find in the ocean:\n",
      "\n",
      "1. **Cartilaginous Fish (Chondrichthyes):**\n",
      "   - These fish have skeletons made of cartilage rather than bone.\n",
      "   - **Examples**: Sharks, rays, and skates. The great white shark and the manta ray are well-known species within this group.\n",
      "\n",
      "2. **Bony Fish (Osteichthyes):**\n",
      "   - This is the largest class of fish, with skeletons made of bone.\n",
      "   - Subcategories include:\n",
      "     - **Ray-finned fish (Actinopterygii):** Characterized by their fin rays.\n",
      "       - **Examples**: Clownfish, tuna, and seahorses.\n",
      "     - **Lobe-finned fish (Sarcopterygii):** Known for their fleshy, lobed, paired fins.\n",
      "       - **Examples**: Coelacanths and lungfish.\n",
      "\n",
      "3. **Deep-sea Fish:**\n",
      "   - Adapted to live in the dark, high-pressure environments of the deep ocean.\n",
      "   - **Examples**: Anglerfish, which have bioluminescent lures, and the gulper eel.\n",
      "\n",
      "4. **Reef Fish:**\n",
      "   - Inhabit coral reef ecosystems and are often brightly colored.\n",
      "   - **Examples**: Parrotfish, butterflyfish, and wrasses.\n",
      "\n",
      "5. **Pelagic Fish:**\n",
      "   - Live in the open ocean, away from the sea floor.\n",
      "   - **Examples**: Mackerel, swordfish, and marlin.\n",
      "\n",
      "6. **Demersal Fish:**\n",
      "   - Live and feed on or near the bottom of seas or lakes.\n",
      "   - **Examples**: Cod, flounder, and halibut.\n",
      "\n",
      "7. **Migratory Fish:**\n",
      "   - Known for long-distance migrations for breeding or feeding.\n",
      "   - **Examples**: Salmon, which migrate from the ocean to freshwater to spawn, and the European eel.\n",
      "\n",
      "Each of these types of fish has evolved unique adaptations that suit their particular habitats and life cycles, providing a fascinating insight into the diversity of life beneath the waves. If you’re interested in specific adaptations or behaviors, let me know!\n",
      "================================\u001b[1m Human Message \u001b[0m=================================\n",
      "Name: User\n",
      "\n",
      "Tell me more about Whales!\n",
      "==================================\u001b[1m Ai Message \u001b[0m==================================\n",
      "\n",
      "Whales are fascinating marine mammals, belonging to the order Cetacea, which also includes dolphins and porpoises. They are known for their immense size, intelligence, and complex social behaviors. Here's more about these incredible creatures:\n",
      "\n",
      "### Types of Whales\n",
      "Whales are generally divided into two suborders:\n",
      "\n",
      "1. **Baleen Whales (Mysticeti)**:\n",
      "   - These whales have baleen plates instead of teeth. \n",
      "   - They filter-feed by taking in large amounts of water and then pushing it out through their baleen plates to capture krill and small fish.\n",
      "   - Examples include the Blue Whale, Humpback Whale, and Gray Whale.\n",
      "\n",
      "2. **Toothed Whales (Odontoceti)**:\n",
      "   - These whales have teeth and are usually smaller than baleen whales.\n",
      "   - They actively hunt and eat larger prey like fish and squid.\n",
      "   - Examples include Sperm Whales, Orcas (also known as Killer Whales), and Dolphins.\n",
      "\n",
      "### Characteristics\n",
      "- **Size**: Whales are among the largest animals on earth. The Blue Whale, the largest of them all, can reach lengths of up to 100 feet (30 meters) and weigh as much as 200 tons.\n",
      "- **Communication**: Whales are known for their complex communication skills, which include a range of sounds like clicks, whistles, and songs, especially noted in Humpback Whales.\n",
      "- **Migration**: Many whale species are known for their long migrations, moving from feeding grounds in cold waters to breeding grounds in warmer seas.\n",
      "- **Lifespan**: Whales generally have long lifespans, with some species like the Bowhead Whale living over 200 years.\n",
      "\n",
      "### Conservation\n",
      "- Many whale species faced severe declines due to commercial whaling in the past. Although banned, illegal hunting and bycatch still pose threats.\n",
      "- Conservation efforts focus on protecting habitats, mitigating ship strikes, and reducing entanglements in fishing gear.\n",
      "\n",
      "### Cultural Significance\n",
      "- Whales have been an important part of human culture for thousands of years, appearing in mythology, literature, and art.\n",
      "- They are often seen as symbols of strength, wisdom, and mystery.\n",
      "\n",
      "### Importance to Ecosystems\n",
      "- Whales play a crucial role in marine ecosystems, contributing to nutrient cycling. Their fecal plumes fertilize plankton, which is the foundation of the marine food web.\n",
      "\n",
      "Understanding and protecting whales is crucial not only for their survival but also for the health of marine ecosystems around the globe.\n",
      "================================\u001b[1m Human Message \u001b[0m=================================\n",
      "Name: User\n",
      "\n",
      "Where do Orcas live?\n",
      "==================================\u001b[1m Ai Message \u001b[0m==================================\n",
      "\n",
      "Orcas, also known as killer whales, are highly adaptable and can be found in all of the world's oceans. They inhabit a wide variety of marine environments, from the icy waters of the polar regions to the warm, tropical seas. However, some of the most well-known populations of orcas live in the North Pacific Ocean, particularly around the coasts of Alaska, British Columbia, and Washington State. They are also frequently spotted in the waters around Norway, Iceland, and the Antarctic.\n",
      "\n",
      "Orcas are often categorized into different ecotypes, which have distinct behaviors, diets, and social structures, and each of these ecotypes has its preferred habitats. For example:\n",
      "\n",
      "- Resident orcas are typically found in coastal waters and are known for their fish-based diet, particularly salmon.\n",
      "- Transient orcas, or Bigg's orcas, tend to roam over larger areas along the coast and prefer marine mammals as their primary food source.\n",
      "- Offshore orcas are found in the open ocean and are less well-studied, but they're believed to feed on schooling fish and possibly sharks.\n",
      "\n",
      "The orcas' wide distribution and adaptability make them one of the most versatile marine mammals.\n"
     ]
    }
   ],
   "source": [
    "messages_out_trim = graph.invoke({'messages':messages})\n",
    "for m in messages_out_trim[\"messages\"]:\n",
    "    m.pretty_print()"
   ]
  },
  {
   "cell_type": "code",
   "execution_count": null,
   "id": "5c0379b0",
   "metadata": {},
   "outputs": [],
   "source": []
  }
 ],
 "metadata": {
  "kernelspec": {
   "display_name": ".venv",
   "language": "python",
   "name": "python3"
  },
  "language_info": {
   "codemirror_mode": {
    "name": "ipython",
    "version": 3
   },
   "file_extension": ".py",
   "mimetype": "text/x-python",
   "name": "python",
   "nbconvert_exporter": "python",
   "pygments_lexer": "ipython3",
   "version": "3.12.11"
  }
 },
 "nbformat": 4,
 "nbformat_minor": 5
}
